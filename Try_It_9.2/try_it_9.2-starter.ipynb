{
 "cells": [
  {
   "cell_type": "markdown",
   "metadata": {},
   "source": [
    "### Try-it 9.2: Predicting Wages\n",
    "\n",
    "This activity is meant to summarize your work with regularized regression models.  You will use your earlier work with data preparation and pipelines together with what you've learned with grid searches to determine an optimal model.  In addition to the prior strategies, this example is an excellent opportunity to utilize the `TransformedTargetRegressor` estimator in scikitlearn."
   ]
  },
  {
   "cell_type": "markdown",
   "metadata": {},
   "source": [
    "### The Data\n",
    "\n",
    "This dataset is loaded from the openml resource library.  Originally from census data, the data contains wage and demographic information on 534 individuals. From the dataset documentation [here](https://www.openml.org/d/534)\n",
    "\n",
    "```\n",
    "The Current Population Survey (CPS) is used to supplement census information between census years. These data consist of a random sample of 534 persons from the CPS, with information on wages and other characteristics of the workers, including sex, number of years of education, years of work experience, occupational status, region of residence and union membership. \n",
    "```"
   ]
  },
  {
   "cell_type": "code",
   "execution_count": 1,
   "metadata": {},
   "outputs": [],
   "source": [
    "from sklearn.datasets import fetch_openml"
   ]
  },
  {
   "cell_type": "code",
   "execution_count": 2,
   "metadata": {},
   "outputs": [],
   "source": [
    "wages = fetch_openml(data_id=534, as_frame=True)"
   ]
  },
  {
   "cell_type": "code",
   "execution_count": 3,
   "metadata": {},
   "outputs": [
    {
     "data": {
      "text/html": [
       "<div>\n",
       "<style scoped>\n",
       "    .dataframe tbody tr th:only-of-type {\n",
       "        vertical-align: middle;\n",
       "    }\n",
       "\n",
       "    .dataframe tbody tr th {\n",
       "        vertical-align: top;\n",
       "    }\n",
       "\n",
       "    .dataframe thead th {\n",
       "        text-align: right;\n",
       "    }\n",
       "</style>\n",
       "<table border=\"1\" class=\"dataframe\">\n",
       "  <thead>\n",
       "    <tr style=\"text-align: right;\">\n",
       "      <th></th>\n",
       "      <th>EDUCATION</th>\n",
       "      <th>SOUTH</th>\n",
       "      <th>SEX</th>\n",
       "      <th>EXPERIENCE</th>\n",
       "      <th>UNION</th>\n",
       "      <th>WAGE</th>\n",
       "      <th>AGE</th>\n",
       "      <th>RACE</th>\n",
       "      <th>OCCUPATION</th>\n",
       "      <th>SECTOR</th>\n",
       "      <th>MARR</th>\n",
       "    </tr>\n",
       "  </thead>\n",
       "  <tbody>\n",
       "    <tr>\n",
       "      <th>0</th>\n",
       "      <td>8.0</td>\n",
       "      <td>no</td>\n",
       "      <td>female</td>\n",
       "      <td>21.0</td>\n",
       "      <td>not_member</td>\n",
       "      <td>5.10</td>\n",
       "      <td>35.0</td>\n",
       "      <td>Hispanic</td>\n",
       "      <td>Other</td>\n",
       "      <td>Manufacturing</td>\n",
       "      <td>Married</td>\n",
       "    </tr>\n",
       "    <tr>\n",
       "      <th>1</th>\n",
       "      <td>9.0</td>\n",
       "      <td>no</td>\n",
       "      <td>female</td>\n",
       "      <td>42.0</td>\n",
       "      <td>not_member</td>\n",
       "      <td>4.95</td>\n",
       "      <td>57.0</td>\n",
       "      <td>White</td>\n",
       "      <td>Other</td>\n",
       "      <td>Manufacturing</td>\n",
       "      <td>Married</td>\n",
       "    </tr>\n",
       "    <tr>\n",
       "      <th>2</th>\n",
       "      <td>12.0</td>\n",
       "      <td>no</td>\n",
       "      <td>male</td>\n",
       "      <td>1.0</td>\n",
       "      <td>not_member</td>\n",
       "      <td>6.67</td>\n",
       "      <td>19.0</td>\n",
       "      <td>White</td>\n",
       "      <td>Other</td>\n",
       "      <td>Manufacturing</td>\n",
       "      <td>Unmarried</td>\n",
       "    </tr>\n",
       "    <tr>\n",
       "      <th>3</th>\n",
       "      <td>12.0</td>\n",
       "      <td>no</td>\n",
       "      <td>male</td>\n",
       "      <td>4.0</td>\n",
       "      <td>not_member</td>\n",
       "      <td>4.00</td>\n",
       "      <td>22.0</td>\n",
       "      <td>White</td>\n",
       "      <td>Other</td>\n",
       "      <td>Other</td>\n",
       "      <td>Unmarried</td>\n",
       "    </tr>\n",
       "    <tr>\n",
       "      <th>4</th>\n",
       "      <td>12.0</td>\n",
       "      <td>no</td>\n",
       "      <td>male</td>\n",
       "      <td>17.0</td>\n",
       "      <td>not_member</td>\n",
       "      <td>7.50</td>\n",
       "      <td>35.0</td>\n",
       "      <td>White</td>\n",
       "      <td>Other</td>\n",
       "      <td>Other</td>\n",
       "      <td>Married</td>\n",
       "    </tr>\n",
       "  </tbody>\n",
       "</table>\n",
       "</div>"
      ],
      "text/plain": [
       "   EDUCATION SOUTH     SEX  EXPERIENCE       UNION  WAGE   AGE      RACE  \\\n",
       "0        8.0    no  female        21.0  not_member  5.10  35.0  Hispanic   \n",
       "1        9.0    no  female        42.0  not_member  4.95  57.0     White   \n",
       "2       12.0    no    male         1.0  not_member  6.67  19.0     White   \n",
       "3       12.0    no    male         4.0  not_member  4.00  22.0     White   \n",
       "4       12.0    no    male        17.0  not_member  7.50  35.0     White   \n",
       "\n",
       "  OCCUPATION         SECTOR       MARR  \n",
       "0      Other  Manufacturing    Married  \n",
       "1      Other  Manufacturing    Married  \n",
       "2      Other  Manufacturing  Unmarried  \n",
       "3      Other          Other  Unmarried  \n",
       "4      Other          Other    Married  "
      ]
     },
     "execution_count": 3,
     "metadata": {},
     "output_type": "execute_result"
    }
   ],
   "source": [
    "wages.frame.head()"
   ]
  },
  {
   "cell_type": "markdown",
   "metadata": {},
   "source": [
    "#### Task\n",
    "\n",
    "Build regression models to predict `WAGE`.  Incorporate the categorical features and transform the target using a logarithm.  Build `Ridge` models and consider some different amounts of regularization.  \n",
    "\n",
    "After fitting your model, interpret the model and try to understand what features led to higher wages.  Consider using `permutation_importance` that you encountered in module 8.  Discuss your findings in the class forum.\n",
    "\n",
    "For an in depth example discussing the perils of interpreting the coefficients see the example in scikitlearn examples [here](https://scikit-learn.org/stable/auto_examples/inspection/plot_linear_model_coefficient_interpretation.html)."
   ]
  },
  {
   "cell_type": "code",
   "execution_count": 4,
   "metadata": {},
   "outputs": [],
   "source": [
    "from sklearn.pipeline import Pipeline\n",
    "from sklearn.model_selection import GridSearchCV\n",
    "from sklearn.linear_model import LinearRegression, Ridge, Lasso\n",
    "from sklearn.preprocessing import PolynomialFeatures, StandardScaler, OneHotEncoder\n",
    "from sklearn.compose import make_column_transformer, TransformedTargetRegressor\n",
    "from sklearn.inspection import permutation_importance\n",
    "from sklearn.feature_selection import SequentialFeatureSelector\n",
    "import numpy as np\n",
    "import plotly.express as px\n",
    "import pandas as pd\n",
    "import warnings\n",
    "from sklearn.model_selection import train_test_split\n",
    "import pandas as pd\n",
    "import matplotlib.pyplot as plt\n",
    "from sklearn.model_selection import train_test_split\n",
    "from sklearn.linear_model import LinearRegression, Lasso\n",
    "from sklearn.preprocessing import StandardScaler, PolynomialFeatures\n",
    "from sklearn.pipeline import Pipeline\n",
    "from sklearn.feature_selection import SequentialFeatureSelector, SelectFromModel\n",
    "from sklearn.metrics import mean_squared_error\n",
    "from sklearn.model_selection import train_test_split, GridSearchCV\n",
    "from sklearn import set_config\n",
    "set_config(display=\"diagram\")\n",
    "import pandas as pd\n",
    "import numpy as np\n",
    "import seaborn as sns\n",
    "import plotly.express as px\n",
    "from numpy import mean\n",
    "from numpy import std\n",
    "from numpy import absolute\n",
    "from pandas import read_csv\n",
    "from sklearn.model_selection import cross_val_score\n",
    "from sklearn.model_selection import KFold\n",
    "from sklearn.compose import ColumnTransformer , make_column_transformer\n",
    "from sklearn.pipeline import Pipeline\n",
    "from sklearn.preprocessing import OneHotEncoder\n",
    "from sklearn.preprocessing import MinMaxScaler\n",
    "from sklearn.svm import SVR\n",
    "from sklearn.preprocessing import StandardScaler, OneHotEncoder\n",
    "from sklearn.compose import ColumnTransformer, make_column_transformer,make_column_selector\n",
    "from sklearn.impute import SimpleImputer\n",
    "from sklearn.linear_model import Ridge\n",
    "import matplotlib.pyplot as plt\n",
    "from sklearn.feature_selection import SelectFromModel\n",
    "from sklearn.linear_model import Ridge, Lasso, LinearRegression\n",
    "from sklearn.feature_selection import SequentialFeatureSelector, RFE\n",
    "from sklearn.metrics import accuracy_score, confusion_matrix, classification_report, f1_score"
   ]
  },
  {
   "cell_type": "code",
   "execution_count": 5,
   "metadata": {},
   "outputs": [],
   "source": [
    "wages = wages.frame"
   ]
  },
  {
   "cell_type": "code",
   "execution_count": 6,
   "metadata": {},
   "outputs": [
    {
     "name": "stdout",
     "output_type": "stream",
     "text": [
      "<class 'pandas.core.frame.DataFrame'>\n",
      "RangeIndex: 534 entries, 0 to 533\n",
      "Data columns (total 11 columns):\n",
      " #   Column      Non-Null Count  Dtype   \n",
      "---  ------      --------------  -----   \n",
      " 0   EDUCATION   534 non-null    float64 \n",
      " 1   SOUTH       534 non-null    category\n",
      " 2   SEX         534 non-null    category\n",
      " 3   EXPERIENCE  534 non-null    float64 \n",
      " 4   UNION       534 non-null    category\n",
      " 5   WAGE        534 non-null    float64 \n",
      " 6   AGE         534 non-null    float64 \n",
      " 7   RACE        534 non-null    category\n",
      " 8   OCCUPATION  534 non-null    category\n",
      " 9   SECTOR      534 non-null    category\n",
      " 10  MARR        534 non-null    category\n",
      "dtypes: category(7), float64(4)\n",
      "memory usage: 21.4 KB\n"
     ]
    }
   ],
   "source": [
    "wages.info()"
   ]
  },
  {
   "cell_type": "markdown",
   "metadata": {},
   "source": [
    "## Organize the Data"
   ]
  },
  {
   "cell_type": "code",
   "execution_count": 7,
   "metadata": {},
   "outputs": [],
   "source": [
    "num_cols = ['EDUCATION', 'EXPERIENCE', 'AGE']\n",
    "cat_cols = ['SOUTH', 'SEX', 'UNION', 'RACE', 'OCCUPATION', 'SECTOR', 'MARR']\n",
    "X = wages.drop(columns = ['WAGE'])\n",
    "y = wages['WAGE']\n",
    "X_train, X_test, y_train, y_test = train_test_split(X, np.log1p(y), test_size = 0.3)"
   ]
  },
  {
   "cell_type": "code",
   "execution_count": 8,
   "metadata": {},
   "outputs": [
    {
     "name": "stdout",
     "output_type": "stream",
     "text": [
      "EDUCATION      17\n",
      "SOUTH           2\n",
      "SEX             2\n",
      "EXPERIENCE     52\n",
      "UNION           2\n",
      "WAGE          238\n",
      "AGE            47\n",
      "RACE            3\n",
      "OCCUPATION      6\n",
      "SECTOR          3\n",
      "MARR            2\n",
      "dtype: int64\n"
     ]
    }
   ],
   "source": [
    "print(wages.nunique())"
   ]
  },
  {
   "cell_type": "markdown",
   "metadata": {},
   "source": [
    "## Column Pipelines and Transformer"
   ]
  },
  {
   "cell_type": "code",
   "execution_count": 10,
   "metadata": {},
   "outputs": [],
   "source": [
    "num_pipeline = Pipeline([\n",
    "    ('impute', SimpleImputer(strategy = 'median')),\n",
    "    ('scaler', StandardScaler())\n",
    "])\n",
    "cat_pipeline = Pipeline([\n",
    "    ('impute', SimpleImputer(strategy = 'most_frequent')),\n",
    "    ('ohe', OneHotEncoder(handle_unknown = 'ignore', sparse = False))\n",
    "])"
   ]
  },
  {
   "cell_type": "code",
   "execution_count": 11,
   "metadata": {},
   "outputs": [],
   "source": [
    "col_trans = ColumnTransformer([\n",
    "    ('num_pipeline', num_pipeline, num_cols),\n",
    "    ('cat_pipeline', cat_pipeline, cat_cols)\n",
    "])"
   ]
  },
  {
   "cell_type": "markdown",
   "metadata": {},
   "source": [
    "## Linear Regression"
   ]
  },
  {
   "cell_type": "code",
   "execution_count": 12,
   "metadata": {},
   "outputs": [
    {
     "name": "stdout",
     "output_type": "stream",
     "text": [
      "The Linreg training MSE is: 0.13592560272053014\n",
      "The Linreg testing MSE is: 0.14403422171668676\n",
      "[-0.35880546 -0.39159976 -0.30284768 -0.37341695 -0.47926368]\n",
      "Mean score of -0.3811867068779426 with a standard deviation of 0.057316342689703106\n"
     ]
    }
   ],
   "source": [
    "# Linear Regression Pipeline\n",
    "linreg = LinearRegression()\n",
    "linreg_pipeline = Pipeline([\n",
    "    ('col_trans', col_trans),\n",
    "    ('model', linreg)\n",
    "])\n",
    "linreg_pipeline.fit(X_train, y_train)\n",
    "linreg_train_mse = mean_squared_error(y_train, linreg_pipeline.predict(X_train))\n",
    "linreg_test_mse = mean_squared_error(y_test, linreg_pipeline.predict(X_test))\n",
    "print(f'The Linreg training MSE is: {linreg_train_mse}')\n",
    "print(f'The Linreg testing MSE is: {linreg_test_mse}')\n",
    "scores = cross_val_score(linreg_pipeline, X_train, y_train, cv = 5, scoring='neg_root_mean_squared_error')\n",
    "print(scores)\n",
    "y_pred = linreg_pipeline.predict(X_test)\n",
    "linreg_pipeline.score(X_test, y_test)\n",
    "print(f'Mean score of {scores.mean()} with a standard deviation of {scores.std()}')\n",
    "# print(\"accuracy_score(y_test, linreg_pipeline.predict(X_test)): \", accuracy_score(y_test, y_pred))\n",
    "# print(\"model.score(X_test, y_test): \", lr.score(X_test, y_test))"
   ]
  },
  {
   "cell_type": "code",
   "execution_count": 53,
   "metadata": {},
   "outputs": [
    {
     "name": "stdout",
     "output_type": "stream",
     "text": [
      "EXPERIENCE  2.317 +/- 0.253\n",
      "AGE       2.285 +/- 0.244\n"
     ]
    }
   ],
   "source": [
    "r = permutation_importance(linreg_pipeline, X_test, y_test , n_repeats=30,random_state=0)\n",
    "for i in r.importances_mean.argsort()[::-1]:\n",
    "    if r.importances_mean[i] - 2 * r.importances_std[i] > 0:\n",
    "        print(f\"{X.columns[i]:<8}\"\n",
    "        f\"  {r.importances_mean[i]:.3f}\"\n",
    "              f\" +/- {r.importances_std[i]:.3f}\")\n"
   ]
  },
  {
   "cell_type": "code",
   "execution_count": 55,
   "metadata": {},
   "outputs": [
    {
     "name": "stdout",
     "output_type": "stream",
     "text": [
      "EXPERIENCE  2.317 +/- 0.253\n",
      "AGE       2.285 +/- 0.244\n",
      "SEX       0.023 +/- 0.031\n",
      "UNION     0.012 +/- 0.026\n",
      "SECTOR    0.010 +/- 0.013\n",
      "EDUCATION  0.004 +/- 0.112\n",
      "SOUTH     -0.009 +/- 0.012\n",
      "RACE      -0.015 +/- 0.015\n",
      "MARR      -0.034 +/- 0.016\n",
      "OCCUPATION  -0.089 +/- 0.043\n"
     ]
    }
   ],
   "source": [
    "r = permutation_importance(linreg_pipeline, X_test, y_test , n_repeats=30,random_state=0)\n",
    "for i in r.importances_mean.argsort()[::-1]:\n",
    "        print(f\"{X.columns[i]:<8}\"\n",
    "        f\"  {r.importances_mean[i]:.3f}\"\n",
    "              f\" +/- {r.importances_std[i]:.3f}\")"
   ]
  },
  {
   "cell_type": "markdown",
   "metadata": {},
   "source": [
    "## Ridge Regression Pipeline"
   ]
  },
  {
   "cell_type": "code",
   "execution_count": 13,
   "metadata": {},
   "outputs": [
    {
     "name": "stdout",
     "output_type": "stream",
     "text": [
      "The Ridge training MSE is: 0.1360103414734535\n",
      "The Ridge testing MSE is: 0.1439715024139282\n",
      "[-0.35942331 -0.3910038  -0.30317511 -0.37364975 -0.47835688]\n",
      "Mean score of -0.3811217685202498 with a standard deviation of 0.05684128266009909\n"
     ]
    }
   ],
   "source": [
    "# Ridge Regression Pipeline\n",
    "ridge = Ridge()\n",
    "ridge_pipeline = Pipeline([\n",
    "    ('col_trans', col_trans),\n",
    "    ('model', ridge)\n",
    "])\n",
    "ridge_pipeline.fit(X_train, y_train)\n",
    "ridge_train_mse = mean_squared_error(y_train, ridge_pipeline.predict(X_train))\n",
    "ridge_test_mse = mean_squared_error(y_test, ridge_pipeline.predict(X_test))\n",
    "print(f'The Ridge training MSE is: {ridge_train_mse}')\n",
    "print(f'The Ridge testing MSE is: {ridge_test_mse}')\n",
    "scores = cross_val_score(ridge_pipeline, X_train, y_train, cv = 5, scoring='neg_root_mean_squared_error')\n",
    "print(scores)\n",
    "print(f'Mean score of {scores.mean()} with a standard deviation of {scores.std()}')"
   ]
  },
  {
   "cell_type": "code",
   "execution_count": 56,
   "metadata": {},
   "outputs": [
    {
     "name": "stdout",
     "output_type": "stream",
     "text": [
      "SEX       0.023 +/- 0.030\n",
      "UNION     0.012 +/- 0.025\n",
      "SECTOR    0.010 +/- 0.013\n",
      "SOUTH     -0.009 +/- 0.012\n",
      "EXPERIENCE  -0.010 +/- 0.016\n",
      "RACE      -0.014 +/- 0.014\n",
      "MARR      -0.033 +/- 0.016\n",
      "AGE       -0.034 +/- 0.011\n",
      "OCCUPATION  -0.088 +/- 0.042\n",
      "EDUCATION  -0.151 +/- 0.069\n"
     ]
    }
   ],
   "source": [
    "r = permutation_importance(ridge_pipeline, X_test, y_test , n_repeats=30,random_state=0)\n",
    "for i in r.importances_mean.argsort()[::-1]:\n",
    "        print(f\"{X.columns[i]:<8}\"\n",
    "        f\"  {r.importances_mean[i]:.3f}\"\n",
    "              f\" +/- {r.importances_std[i]:.3f}\")"
   ]
  },
  {
   "cell_type": "code",
   "execution_count": 14,
   "metadata": {},
   "outputs": [
    {
     "data": {
      "text/plain": [
       "dict_keys(['memory', 'steps', 'verbose', 'col_trans', 'model', 'col_trans__n_jobs', 'col_trans__remainder', 'col_trans__sparse_threshold', 'col_trans__transformer_weights', 'col_trans__transformers', 'col_trans__verbose', 'col_trans__verbose_feature_names_out', 'col_trans__num_pipeline', 'col_trans__cat_pipeline', 'col_trans__num_pipeline__memory', 'col_trans__num_pipeline__steps', 'col_trans__num_pipeline__verbose', 'col_trans__num_pipeline__impute', 'col_trans__num_pipeline__scaler', 'col_trans__num_pipeline__impute__add_indicator', 'col_trans__num_pipeline__impute__copy', 'col_trans__num_pipeline__impute__fill_value', 'col_trans__num_pipeline__impute__missing_values', 'col_trans__num_pipeline__impute__strategy', 'col_trans__num_pipeline__impute__verbose', 'col_trans__num_pipeline__scaler__copy', 'col_trans__num_pipeline__scaler__with_mean', 'col_trans__num_pipeline__scaler__with_std', 'col_trans__cat_pipeline__memory', 'col_trans__cat_pipeline__steps', 'col_trans__cat_pipeline__verbose', 'col_trans__cat_pipeline__impute', 'col_trans__cat_pipeline__ohe', 'col_trans__cat_pipeline__impute__add_indicator', 'col_trans__cat_pipeline__impute__copy', 'col_trans__cat_pipeline__impute__fill_value', 'col_trans__cat_pipeline__impute__missing_values', 'col_trans__cat_pipeline__impute__strategy', 'col_trans__cat_pipeline__impute__verbose', 'col_trans__cat_pipeline__ohe__categories', 'col_trans__cat_pipeline__ohe__drop', 'col_trans__cat_pipeline__ohe__dtype', 'col_trans__cat_pipeline__ohe__handle_unknown', 'col_trans__cat_pipeline__ohe__sparse', 'model__alpha', 'model__copy_X', 'model__fit_intercept', 'model__max_iter', 'model__normalize', 'model__positive', 'model__random_state', 'model__solver', 'model__tol'])"
      ]
     },
     "execution_count": 14,
     "metadata": {},
     "output_type": "execute_result"
    }
   ],
   "source": [
    "ridge_pipeline.get_params().keys()"
   ]
  },
  {
   "cell_type": "code",
   "execution_count": 15,
   "metadata": {},
   "outputs": [
    {
     "data": {
      "text/plain": [
       "{'model__alpha': 10}"
      ]
     },
     "execution_count": 15,
     "metadata": {},
     "output_type": "execute_result"
    }
   ],
   "source": [
    "# Using GridSearch to find best alpha\n",
    "parameters = {'model__alpha': [0.1, .5, 1, 5, 10, 50, 100]}\n",
    "gd = GridSearchCV(ridge_pipeline, parameters)\n",
    "gd.fit(X_train, y_train)\n",
    "gd.best_params_"
   ]
  },
  {
   "cell_type": "markdown",
   "metadata": {},
   "source": [
    "## Feature Selection"
   ]
  },
  {
   "cell_type": "code",
   "execution_count": 58,
   "metadata": {},
   "outputs": [
    {
     "data": {
      "text/html": [
       "<style>#sk-e27f2dd2-03d5-4ef3-b9eb-666a05d84d45 {color: black;background-color: white;}#sk-e27f2dd2-03d5-4ef3-b9eb-666a05d84d45 pre{padding: 0;}#sk-e27f2dd2-03d5-4ef3-b9eb-666a05d84d45 div.sk-toggleable {background-color: white;}#sk-e27f2dd2-03d5-4ef3-b9eb-666a05d84d45 label.sk-toggleable__label {cursor: pointer;display: block;width: 100%;margin-bottom: 0;padding: 0.3em;box-sizing: border-box;text-align: center;}#sk-e27f2dd2-03d5-4ef3-b9eb-666a05d84d45 label.sk-toggleable__label-arrow:before {content: \"▸\";float: left;margin-right: 0.25em;color: #696969;}#sk-e27f2dd2-03d5-4ef3-b9eb-666a05d84d45 label.sk-toggleable__label-arrow:hover:before {color: black;}#sk-e27f2dd2-03d5-4ef3-b9eb-666a05d84d45 div.sk-estimator:hover label.sk-toggleable__label-arrow:before {color: black;}#sk-e27f2dd2-03d5-4ef3-b9eb-666a05d84d45 div.sk-toggleable__content {max-height: 0;max-width: 0;overflow: hidden;text-align: left;background-color: #f0f8ff;}#sk-e27f2dd2-03d5-4ef3-b9eb-666a05d84d45 div.sk-toggleable__content pre {margin: 0.2em;color: black;border-radius: 0.25em;background-color: #f0f8ff;}#sk-e27f2dd2-03d5-4ef3-b9eb-666a05d84d45 input.sk-toggleable__control:checked~div.sk-toggleable__content {max-height: 200px;max-width: 100%;overflow: auto;}#sk-e27f2dd2-03d5-4ef3-b9eb-666a05d84d45 input.sk-toggleable__control:checked~label.sk-toggleable__label-arrow:before {content: \"▾\";}#sk-e27f2dd2-03d5-4ef3-b9eb-666a05d84d45 div.sk-estimator input.sk-toggleable__control:checked~label.sk-toggleable__label {background-color: #d4ebff;}#sk-e27f2dd2-03d5-4ef3-b9eb-666a05d84d45 div.sk-label input.sk-toggleable__control:checked~label.sk-toggleable__label {background-color: #d4ebff;}#sk-e27f2dd2-03d5-4ef3-b9eb-666a05d84d45 input.sk-hidden--visually {border: 0;clip: rect(1px 1px 1px 1px);clip: rect(1px, 1px, 1px, 1px);height: 1px;margin: -1px;overflow: hidden;padding: 0;position: absolute;width: 1px;}#sk-e27f2dd2-03d5-4ef3-b9eb-666a05d84d45 div.sk-estimator {font-family: monospace;background-color: #f0f8ff;border: 1px dotted black;border-radius: 0.25em;box-sizing: border-box;margin-bottom: 0.5em;}#sk-e27f2dd2-03d5-4ef3-b9eb-666a05d84d45 div.sk-estimator:hover {background-color: #d4ebff;}#sk-e27f2dd2-03d5-4ef3-b9eb-666a05d84d45 div.sk-parallel-item::after {content: \"\";width: 100%;border-bottom: 1px solid gray;flex-grow: 1;}#sk-e27f2dd2-03d5-4ef3-b9eb-666a05d84d45 div.sk-label:hover label.sk-toggleable__label {background-color: #d4ebff;}#sk-e27f2dd2-03d5-4ef3-b9eb-666a05d84d45 div.sk-serial::before {content: \"\";position: absolute;border-left: 1px solid gray;box-sizing: border-box;top: 2em;bottom: 0;left: 50%;}#sk-e27f2dd2-03d5-4ef3-b9eb-666a05d84d45 div.sk-serial {display: flex;flex-direction: column;align-items: center;background-color: white;padding-right: 0.2em;padding-left: 0.2em;}#sk-e27f2dd2-03d5-4ef3-b9eb-666a05d84d45 div.sk-item {z-index: 1;}#sk-e27f2dd2-03d5-4ef3-b9eb-666a05d84d45 div.sk-parallel {display: flex;align-items: stretch;justify-content: center;background-color: white;}#sk-e27f2dd2-03d5-4ef3-b9eb-666a05d84d45 div.sk-parallel::before {content: \"\";position: absolute;border-left: 1px solid gray;box-sizing: border-box;top: 2em;bottom: 0;left: 50%;}#sk-e27f2dd2-03d5-4ef3-b9eb-666a05d84d45 div.sk-parallel-item {display: flex;flex-direction: column;position: relative;background-color: white;}#sk-e27f2dd2-03d5-4ef3-b9eb-666a05d84d45 div.sk-parallel-item:first-child::after {align-self: flex-end;width: 50%;}#sk-e27f2dd2-03d5-4ef3-b9eb-666a05d84d45 div.sk-parallel-item:last-child::after {align-self: flex-start;width: 50%;}#sk-e27f2dd2-03d5-4ef3-b9eb-666a05d84d45 div.sk-parallel-item:only-child::after {width: 0;}#sk-e27f2dd2-03d5-4ef3-b9eb-666a05d84d45 div.sk-dashed-wrapped {border: 1px dashed gray;margin: 0 0.4em 0.5em 0.4em;box-sizing: border-box;padding-bottom: 0.4em;background-color: white;position: relative;}#sk-e27f2dd2-03d5-4ef3-b9eb-666a05d84d45 div.sk-label label {font-family: monospace;font-weight: bold;background-color: white;display: inline-block;line-height: 1.2em;}#sk-e27f2dd2-03d5-4ef3-b9eb-666a05d84d45 div.sk-label-container {position: relative;z-index: 2;text-align: center;}#sk-e27f2dd2-03d5-4ef3-b9eb-666a05d84d45 div.sk-container {/* jupyter's `normalize.less` sets `[hidden] { display: none; }` but bootstrap.min.css set `[hidden] { display: none !important; }` so we also need the `!important` here to be able to override the default hidden behavior on the sphinx rendered scikit-learn.org. See: https://github.com/scikit-learn/scikit-learn/issues/21755 */display: inline-block !important;position: relative;}#sk-e27f2dd2-03d5-4ef3-b9eb-666a05d84d45 div.sk-text-repr-fallback {display: none;}</style><div id=\"sk-e27f2dd2-03d5-4ef3-b9eb-666a05d84d45\" class=\"sk-top-container\"><div class=\"sk-text-repr-fallback\"><pre>Pipeline(steps=[(&#x27;col_trans&#x27;,\n",
       "                 ColumnTransformer(transformers=[(&#x27;num_pipeline&#x27;,\n",
       "                                                  Pipeline(steps=[(&#x27;impute&#x27;,\n",
       "                                                                   SimpleImputer(strategy=&#x27;median&#x27;)),\n",
       "                                                                  (&#x27;scaler&#x27;,\n",
       "                                                                   StandardScaler())]),\n",
       "                                                  [&#x27;EDUCATION&#x27;, &#x27;EXPERIENCE&#x27;,\n",
       "                                                   &#x27;AGE&#x27;]),\n",
       "                                                 (&#x27;cat_pipeline&#x27;,\n",
       "                                                  Pipeline(steps=[(&#x27;impute&#x27;,\n",
       "                                                                   SimpleImputer(strategy=&#x27;most_frequent&#x27;)),\n",
       "                                                                  (&#x27;ohe&#x27;,\n",
       "                                                                   OneHotEncoder(handle_unknown=&#x27;ignore&#x27;,\n",
       "                                                                                 sparse=False))]),\n",
       "                                                  [&#x27;SOUTH&#x27;, &#x27;SEX&#x27;, &#x27;UNION&#x27;,\n",
       "                                                   &#x27;RACE&#x27;, &#x27;OCCUPATION&#x27;,\n",
       "                                                   &#x27;SECTOR&#x27;, &#x27;MARR&#x27;])])),\n",
       "                (&#x27;selector&#x27;,\n",
       "                 SequentialFeatureSelector(estimator=LinearRegression())),\n",
       "                (&#x27;model&#x27;, LinearRegression())])</pre><b>Please rerun this cell to show the HTML repr or trust the notebook.</b></div><div class=\"sk-container\" hidden><div class=\"sk-item sk-dashed-wrapped\"><div class=\"sk-label-container\"><div class=\"sk-label sk-toggleable\"><input class=\"sk-toggleable__control sk-hidden--visually\" id=\"b7d7ac4c-c82e-4df6-a755-4bccbe74e293\" type=\"checkbox\" ><label for=\"b7d7ac4c-c82e-4df6-a755-4bccbe74e293\" class=\"sk-toggleable__label sk-toggleable__label-arrow\">Pipeline</label><div class=\"sk-toggleable__content\"><pre>Pipeline(steps=[(&#x27;col_trans&#x27;,\n",
       "                 ColumnTransformer(transformers=[(&#x27;num_pipeline&#x27;,\n",
       "                                                  Pipeline(steps=[(&#x27;impute&#x27;,\n",
       "                                                                   SimpleImputer(strategy=&#x27;median&#x27;)),\n",
       "                                                                  (&#x27;scaler&#x27;,\n",
       "                                                                   StandardScaler())]),\n",
       "                                                  [&#x27;EDUCATION&#x27;, &#x27;EXPERIENCE&#x27;,\n",
       "                                                   &#x27;AGE&#x27;]),\n",
       "                                                 (&#x27;cat_pipeline&#x27;,\n",
       "                                                  Pipeline(steps=[(&#x27;impute&#x27;,\n",
       "                                                                   SimpleImputer(strategy=&#x27;most_frequent&#x27;)),\n",
       "                                                                  (&#x27;ohe&#x27;,\n",
       "                                                                   OneHotEncoder(handle_unknown=&#x27;ignore&#x27;,\n",
       "                                                                                 sparse=False))]),\n",
       "                                                  [&#x27;SOUTH&#x27;, &#x27;SEX&#x27;, &#x27;UNION&#x27;,\n",
       "                                                   &#x27;RACE&#x27;, &#x27;OCCUPATION&#x27;,\n",
       "                                                   &#x27;SECTOR&#x27;, &#x27;MARR&#x27;])])),\n",
       "                (&#x27;selector&#x27;,\n",
       "                 SequentialFeatureSelector(estimator=LinearRegression())),\n",
       "                (&#x27;model&#x27;, LinearRegression())])</pre></div></div></div><div class=\"sk-serial\"><div class=\"sk-item sk-dashed-wrapped\"><div class=\"sk-label-container\"><div class=\"sk-label sk-toggleable\"><input class=\"sk-toggleable__control sk-hidden--visually\" id=\"ee01b81a-0d44-4269-a2b0-bfad7e55f420\" type=\"checkbox\" ><label for=\"ee01b81a-0d44-4269-a2b0-bfad7e55f420\" class=\"sk-toggleable__label sk-toggleable__label-arrow\">col_trans: ColumnTransformer</label><div class=\"sk-toggleable__content\"><pre>ColumnTransformer(transformers=[(&#x27;num_pipeline&#x27;,\n",
       "                                 Pipeline(steps=[(&#x27;impute&#x27;,\n",
       "                                                  SimpleImputer(strategy=&#x27;median&#x27;)),\n",
       "                                                 (&#x27;scaler&#x27;, StandardScaler())]),\n",
       "                                 [&#x27;EDUCATION&#x27;, &#x27;EXPERIENCE&#x27;, &#x27;AGE&#x27;]),\n",
       "                                (&#x27;cat_pipeline&#x27;,\n",
       "                                 Pipeline(steps=[(&#x27;impute&#x27;,\n",
       "                                                  SimpleImputer(strategy=&#x27;most_frequent&#x27;)),\n",
       "                                                 (&#x27;ohe&#x27;,\n",
       "                                                  OneHotEncoder(handle_unknown=&#x27;ignore&#x27;,\n",
       "                                                                sparse=False))]),\n",
       "                                 [&#x27;SOUTH&#x27;, &#x27;SEX&#x27;, &#x27;UNION&#x27;, &#x27;RACE&#x27;, &#x27;OCCUPATION&#x27;,\n",
       "                                  &#x27;SECTOR&#x27;, &#x27;MARR&#x27;])])</pre></div></div></div><div class=\"sk-parallel\"><div class=\"sk-parallel-item\"><div class=\"sk-item\"><div class=\"sk-label-container\"><div class=\"sk-label sk-toggleable\"><input class=\"sk-toggleable__control sk-hidden--visually\" id=\"f15d350b-cb63-4f96-b1de-86db25c73eb1\" type=\"checkbox\" ><label for=\"f15d350b-cb63-4f96-b1de-86db25c73eb1\" class=\"sk-toggleable__label sk-toggleable__label-arrow\">num_pipeline</label><div class=\"sk-toggleable__content\"><pre>[&#x27;EDUCATION&#x27;, &#x27;EXPERIENCE&#x27;, &#x27;AGE&#x27;]</pre></div></div></div><div class=\"sk-serial\"><div class=\"sk-item\"><div class=\"sk-serial\"><div class=\"sk-item\"><div class=\"sk-estimator sk-toggleable\"><input class=\"sk-toggleable__control sk-hidden--visually\" id=\"5adfb6a5-2a64-4f51-bdb3-5f8463580634\" type=\"checkbox\" ><label for=\"5adfb6a5-2a64-4f51-bdb3-5f8463580634\" class=\"sk-toggleable__label sk-toggleable__label-arrow\">SimpleImputer</label><div class=\"sk-toggleable__content\"><pre>SimpleImputer(strategy=&#x27;median&#x27;)</pre></div></div></div><div class=\"sk-item\"><div class=\"sk-estimator sk-toggleable\"><input class=\"sk-toggleable__control sk-hidden--visually\" id=\"5a69c068-63e5-4e11-b06b-f4db0c399ff2\" type=\"checkbox\" ><label for=\"5a69c068-63e5-4e11-b06b-f4db0c399ff2\" class=\"sk-toggleable__label sk-toggleable__label-arrow\">StandardScaler</label><div class=\"sk-toggleable__content\"><pre>StandardScaler()</pre></div></div></div></div></div></div></div></div><div class=\"sk-parallel-item\"><div class=\"sk-item\"><div class=\"sk-label-container\"><div class=\"sk-label sk-toggleable\"><input class=\"sk-toggleable__control sk-hidden--visually\" id=\"e713f91a-05c1-4b9b-8310-e9dd180fa0f7\" type=\"checkbox\" ><label for=\"e713f91a-05c1-4b9b-8310-e9dd180fa0f7\" class=\"sk-toggleable__label sk-toggleable__label-arrow\">cat_pipeline</label><div class=\"sk-toggleable__content\"><pre>[&#x27;SOUTH&#x27;, &#x27;SEX&#x27;, &#x27;UNION&#x27;, &#x27;RACE&#x27;, &#x27;OCCUPATION&#x27;, &#x27;SECTOR&#x27;, &#x27;MARR&#x27;]</pre></div></div></div><div class=\"sk-serial\"><div class=\"sk-item\"><div class=\"sk-serial\"><div class=\"sk-item\"><div class=\"sk-estimator sk-toggleable\"><input class=\"sk-toggleable__control sk-hidden--visually\" id=\"34e2c2d1-741e-4211-ae7d-69c99621707d\" type=\"checkbox\" ><label for=\"34e2c2d1-741e-4211-ae7d-69c99621707d\" class=\"sk-toggleable__label sk-toggleable__label-arrow\">SimpleImputer</label><div class=\"sk-toggleable__content\"><pre>SimpleImputer(strategy=&#x27;most_frequent&#x27;)</pre></div></div></div><div class=\"sk-item\"><div class=\"sk-estimator sk-toggleable\"><input class=\"sk-toggleable__control sk-hidden--visually\" id=\"d496fda4-716e-4e92-bd93-9ca1d5dac031\" type=\"checkbox\" ><label for=\"d496fda4-716e-4e92-bd93-9ca1d5dac031\" class=\"sk-toggleable__label sk-toggleable__label-arrow\">OneHotEncoder</label><div class=\"sk-toggleable__content\"><pre>OneHotEncoder(handle_unknown=&#x27;ignore&#x27;, sparse=False)</pre></div></div></div></div></div></div></div></div></div></div><div class=\"sk-item sk-dashed-wrapped\"><div class=\"sk-label-container\"><div class=\"sk-label sk-toggleable\"><input class=\"sk-toggleable__control sk-hidden--visually\" id=\"368060da-59dd-4b66-a89d-a33694431651\" type=\"checkbox\" ><label for=\"368060da-59dd-4b66-a89d-a33694431651\" class=\"sk-toggleable__label sk-toggleable__label-arrow\">selector: SequentialFeatureSelector</label><div class=\"sk-toggleable__content\"><pre>SequentialFeatureSelector(estimator=LinearRegression())</pre></div></div></div><div class=\"sk-parallel\"><div class=\"sk-parallel-item\"><div class=\"sk-item\"><div class=\"sk-serial\"><div class=\"sk-item\"><div class=\"sk-estimator sk-toggleable\"><input class=\"sk-toggleable__control sk-hidden--visually\" id=\"ad458951-4ca9-448a-96b5-776a06bd817f\" type=\"checkbox\" ><label for=\"ad458951-4ca9-448a-96b5-776a06bd817f\" class=\"sk-toggleable__label sk-toggleable__label-arrow\">LinearRegression</label><div class=\"sk-toggleable__content\"><pre>LinearRegression()</pre></div></div></div></div></div></div></div></div><div class=\"sk-item\"><div class=\"sk-estimator sk-toggleable\"><input class=\"sk-toggleable__control sk-hidden--visually\" id=\"68157948-f9e7-4a54-aec0-cc3936ec2b4a\" type=\"checkbox\" ><label for=\"68157948-f9e7-4a54-aec0-cc3936ec2b4a\" class=\"sk-toggleable__label sk-toggleable__label-arrow\">LinearRegression</label><div class=\"sk-toggleable__content\"><pre>LinearRegression()</pre></div></div></div></div></div></div></div>"
      ],
      "text/plain": [
       "Pipeline(steps=[('col_trans',\n",
       "                 ColumnTransformer(transformers=[('num_pipeline',\n",
       "                                                  Pipeline(steps=[('impute',\n",
       "                                                                   SimpleImputer(strategy='median')),\n",
       "                                                                  ('scaler',\n",
       "                                                                   StandardScaler())]),\n",
       "                                                  ['EDUCATION', 'EXPERIENCE',\n",
       "                                                   'AGE']),\n",
       "                                                 ('cat_pipeline',\n",
       "                                                  Pipeline(steps=[('impute',\n",
       "                                                                   SimpleImputer(strategy='most_frequent')),\n",
       "                                                                  ('ohe',\n",
       "                                                                   OneHotEncoder(handle_unknown='ignore',\n",
       "                                                                                 sparse=False))]),\n",
       "                                                  ['SOUTH', 'SEX', 'UNION',\n",
       "                                                   'RACE', 'OCCUPATION',\n",
       "                                                   'SECTOR', 'MARR'])])),\n",
       "                ('selector',\n",
       "                 SequentialFeatureSelector(estimator=LinearRegression())),\n",
       "                ('model', LinearRegression())])"
      ]
     },
     "execution_count": 58,
     "metadata": {},
     "output_type": "execute_result"
    }
   ],
   "source": [
    "## Feature Selection Pipeline\n",
    "selector_pipe = Pipeline([\n",
    "    ('col_trans', col_trans),\n",
    "    ('selector', SequentialFeatureSelector(LinearRegression())),\n",
    "    ('model', LinearRegression())\n",
    "])\n",
    "selector_pipe\n",
    "selector_pipe.fit(X_train, y_train)"
   ]
  },
  {
   "cell_type": "code",
   "execution_count": 47,
   "metadata": {},
   "outputs": [
    {
     "name": "stdout",
     "output_type": "stream",
     "text": [
      "Train MSE: 0.2043937749836083\n",
      "Test MSE: 0.22992639376943913\n",
      "Best params: {'selector__n_features_to_select': 9}\n"
     ]
    }
   ],
   "source": [
    "param_dict = {'selector__n_features_to_select': [8,9,10,11]} #started with 2-5, adjusted...11 was best number of features\n",
    "selector_grid = GridSearchCV(selector_pipe, param_grid=param_dict)\n",
    "selector_grid.fit(X_train, y_train)\n",
    "train_preds = selector_grid.predict(X_train)\n",
    "test_preds = selector_grid.predict(X_test)\n",
    "selector_train_mse = mean_squared_error(y_train, train_preds)\n",
    "selector_test_mse = mean_squared_error(y_test, test_preds)\n",
    "print(f'Train MSE: {selector_train_mse}')\n",
    "print(f'Test MSE: {selector_test_mse}')\n",
    "print(f'Best params: {selector_grid.best_params_}')\n"
   ]
  },
  {
   "cell_type": "code",
   "execution_count": 59,
   "metadata": {},
   "outputs": [
    {
     "name": "stdout",
     "output_type": "stream",
     "text": [
      "AGE       0.075 +/- 0.020\n",
      "EXPERIENCE  0.022 +/- 0.025\n",
      "UNION     0.022 +/- 0.013\n",
      "OCCUPATION  0.018 +/- 0.011\n",
      "EDUCATION  0.013 +/- 0.010\n",
      "MARR      0.000 +/- 0.000\n",
      "SOUTH     0.000 +/- 0.000\n",
      "SECTOR    -0.001 +/- 0.002\n",
      "RACE      -0.001 +/- 0.002\n",
      "SEX       -0.016 +/- 0.011\n"
     ]
    }
   ],
   "source": [
    "r = permutation_importance(selector_pipe, X_test, y_test , n_repeats=30,random_state=0)\n",
    "for i in r.importances_mean.argsort()[::-1]:\n",
    "        print(f\"{X.columns[i]:<8}\"\n",
    "        f\"  {r.importances_mean[i]:.3f}\"\n",
    "              f\" +/- {r.importances_std[i]:.3f}\")"
   ]
  },
  {
   "cell_type": "code",
   "execution_count": 48,
   "metadata": {},
   "outputs": [
    {
     "name": "stdout",
     "output_type": "stream",
     "text": [
      "Pipeline(steps=[('col_trans',\n",
      "                 ColumnTransformer(transformers=[('num_pipeline',\n",
      "                                                  Pipeline(steps=[('impute',\n",
      "                                                                   SimpleImputer(strategy='median')),\n",
      "                                                                  ('scaler',\n",
      "                                                                   StandardScaler())]),\n",
      "                                                  ['EDUCATION', 'EXPERIENCE',\n",
      "                                                   'AGE']),\n",
      "                                                 ('cat_pipeline',\n",
      "                                                  Pipeline(steps=[('impute',\n",
      "                                                                   SimpleImputer(strategy='most_frequent')),\n",
      "                                                                  ('ohe',\n",
      "                                                                   OneHotEncoder(handle_unknown='ignore',\n",
      "                                                                                 sparse=False))]),\n",
      "                                                  ['SOUTH', 'SEX', 'UNION',\n",
      "                                                   'RACE', 'OCCUPATION',\n",
      "                                                   'SECTOR', 'MARR'])])),\n",
      "                ('selector',\n",
      "                 SequentialFeatureSelector(estimator=LinearRegression(),\n",
      "                                           n_features_to_select=9)),\n",
      "                ('model', LinearRegression())])\n",
      "Coefficient values: \n",
      "===================\n"
     ]
    }
   ],
   "source": [
    "best_estimator = selector_grid.best_estimator_\n",
    "best_selector = best_estimator.named_steps['selector']\n",
    "best_model = selector_grid.best_estimator_.named_steps['model']\n",
    "# feature_names = X_train.columns[best_selector.get_support()]\n",
    "coefs = best_model.coef_\n",
    "print(best_estimator)\n",
    "# print(f'Features from best selector: {feature_names}.')\n",
    "print('Coefficient values: ')\n",
    "print('===================')\n",
    "# pd.DataFrame([coefs.T], columns = feature_names, index = ['model'])"
   ]
  },
  {
   "cell_type": "markdown",
   "metadata": {},
   "source": [
    "## Lasso with Polynomial Features"
   ]
  },
  {
   "cell_type": "code",
   "execution_count": 19,
   "metadata": {},
   "outputs": [
    {
     "name": "stdout",
     "output_type": "stream",
     "text": [
      "0.21263086057655384\n",
      "0.2221058364513119\n",
      "[-0.41648133 -0.48654272 -0.4379192  -0.47816861 -0.48847584]\n",
      "Mean score of -0.46 with a standard deviation of 0.03\n"
     ]
    }
   ],
   "source": [
    "# Lasso with Polynomial Features \n",
    "Pipe_pf_lasso = Pipeline([\n",
    "    ('col_trans', col_trans),\n",
    "    ('polyfeatures', PolynomialFeatures(degree = 2, include_bias = False)),\n",
    "    ('scaler', StandardScaler()),\n",
    "    ('lasso', Lasso(random_state = 42))\n",
    "])\n",
    "Pipe_pf_lasso.fit(X_train, y_train)\n",
    "lasso_train_mse = mean_squared_error(y_train, Pipe_pf_lasso.predict(X_train))\n",
    "lasso_test_mse = mean_squared_error(y_test, Pipe_pf_lasso.predict(X_test))\n",
    "print(lasso_train_mse)\n",
    "print(lasso_test_mse)\n",
    "scores = cross_val_score(Pipe_pf_lasso, X_train, y_train, cv = 5, scoring='neg_root_mean_squared_error')\n",
    "print(scores)\n",
    "print(\"Mean score of %0.2f with a standard deviation of %0.2f\" % (scores.mean(), scores.std()))"
   ]
  },
  {
   "cell_type": "code",
   "execution_count": 60,
   "metadata": {},
   "outputs": [
    {
     "name": "stdout",
     "output_type": "stream",
     "text": [
      "MARR      0.000 +/- 0.000\n",
      "SECTOR    0.000 +/- 0.000\n",
      "OCCUPATION  0.000 +/- 0.000\n",
      "RACE      0.000 +/- 0.000\n",
      "AGE       0.000 +/- 0.000\n",
      "UNION     0.000 +/- 0.000\n",
      "EXPERIENCE  0.000 +/- 0.000\n",
      "SEX       0.000 +/- 0.000\n",
      "SOUTH     0.000 +/- 0.000\n",
      "EDUCATION  0.000 +/- 0.000\n"
     ]
    }
   ],
   "source": [
    "r = permutation_importance(Pipe_pf_lasso, X_test, y_test , n_repeats=30,random_state=0)\n",
    "for i in r.importances_mean.argsort()[::-1]:\n",
    "        print(f\"{X.columns[i]:<8}\"\n",
    "        f\"  {r.importances_mean[i]:.3f}\"\n",
    "              f\" +/- {r.importances_std[i]:.3f}\")"
   ]
  },
  {
   "cell_type": "code",
   "execution_count": 20,
   "metadata": {},
   "outputs": [
    {
     "data": {
      "text/plain": [
       "array(['x0', 'x1', 'x2', 'x3', 'x4', 'x5', 'x6', 'x7', 'x8', 'x9', 'x10',\n",
       "       'x11', 'x12', 'x13', 'x14', 'x15', 'x16', 'x17', 'x18', 'x19',\n",
       "       'x20', 'x21', 'x22', 'x0^2', 'x0 x1', 'x0 x2', 'x0 x3', 'x0 x4',\n",
       "       'x0 x5', 'x0 x6', 'x0 x7', 'x0 x8', 'x0 x9', 'x0 x10', 'x0 x11',\n",
       "       'x0 x12', 'x0 x13', 'x0 x14', 'x0 x15', 'x0 x16', 'x0 x17',\n",
       "       'x0 x18', 'x0 x19', 'x0 x20', 'x0 x21', 'x0 x22', 'x1^2', 'x1 x2',\n",
       "       'x1 x3', 'x1 x4', 'x1 x5', 'x1 x6', 'x1 x7', 'x1 x8', 'x1 x9',\n",
       "       'x1 x10', 'x1 x11', 'x1 x12', 'x1 x13', 'x1 x14', 'x1 x15',\n",
       "       'x1 x16', 'x1 x17', 'x1 x18', 'x1 x19', 'x1 x20', 'x1 x21',\n",
       "       'x1 x22', 'x2^2', 'x2 x3', 'x2 x4', 'x2 x5', 'x2 x6', 'x2 x7',\n",
       "       'x2 x8', 'x2 x9', 'x2 x10', 'x2 x11', 'x2 x12', 'x2 x13', 'x2 x14',\n",
       "       'x2 x15', 'x2 x16', 'x2 x17', 'x2 x18', 'x2 x19', 'x2 x20',\n",
       "       'x2 x21', 'x2 x22', 'x3^2', 'x3 x4', 'x3 x5', 'x3 x6', 'x3 x7',\n",
       "       'x3 x8', 'x3 x9', 'x3 x10', 'x3 x11', 'x3 x12', 'x3 x13', 'x3 x14',\n",
       "       'x3 x15', 'x3 x16', 'x3 x17', 'x3 x18', 'x3 x19', 'x3 x20',\n",
       "       'x3 x21', 'x3 x22', 'x4^2', 'x4 x5', 'x4 x6', 'x4 x7', 'x4 x8',\n",
       "       'x4 x9', 'x4 x10', 'x4 x11', 'x4 x12', 'x4 x13', 'x4 x14',\n",
       "       'x4 x15', 'x4 x16', 'x4 x17', 'x4 x18', 'x4 x19', 'x4 x20',\n",
       "       'x4 x21', 'x4 x22', 'x5^2', 'x5 x6', 'x5 x7', 'x5 x8', 'x5 x9',\n",
       "       'x5 x10', 'x5 x11', 'x5 x12', 'x5 x13', 'x5 x14', 'x5 x15',\n",
       "       'x5 x16', 'x5 x17', 'x5 x18', 'x5 x19', 'x5 x20', 'x5 x21',\n",
       "       'x5 x22', 'x6^2', 'x6 x7', 'x6 x8', 'x6 x9', 'x6 x10', 'x6 x11',\n",
       "       'x6 x12', 'x6 x13', 'x6 x14', 'x6 x15', 'x6 x16', 'x6 x17',\n",
       "       'x6 x18', 'x6 x19', 'x6 x20', 'x6 x21', 'x6 x22', 'x7^2', 'x7 x8',\n",
       "       'x7 x9', 'x7 x10', 'x7 x11', 'x7 x12', 'x7 x13', 'x7 x14',\n",
       "       'x7 x15', 'x7 x16', 'x7 x17', 'x7 x18', 'x7 x19', 'x7 x20',\n",
       "       'x7 x21', 'x7 x22', 'x8^2', 'x8 x9', 'x8 x10', 'x8 x11', 'x8 x12',\n",
       "       'x8 x13', 'x8 x14', 'x8 x15', 'x8 x16', 'x8 x17', 'x8 x18',\n",
       "       'x8 x19', 'x8 x20', 'x8 x21', 'x8 x22', 'x9^2', 'x9 x10', 'x9 x11',\n",
       "       'x9 x12', 'x9 x13', 'x9 x14', 'x9 x15', 'x9 x16', 'x9 x17',\n",
       "       'x9 x18', 'x9 x19', 'x9 x20', 'x9 x21', 'x9 x22', 'x10^2',\n",
       "       'x10 x11', 'x10 x12', 'x10 x13', 'x10 x14', 'x10 x15', 'x10 x16',\n",
       "       'x10 x17', 'x10 x18', 'x10 x19', 'x10 x20', 'x10 x21', 'x10 x22',\n",
       "       'x11^2', 'x11 x12', 'x11 x13', 'x11 x14', 'x11 x15', 'x11 x16',\n",
       "       'x11 x17', 'x11 x18', 'x11 x19', 'x11 x20', 'x11 x21', 'x11 x22',\n",
       "       'x12^2', 'x12 x13', 'x12 x14', 'x12 x15', 'x12 x16', 'x12 x17',\n",
       "       'x12 x18', 'x12 x19', 'x12 x20', 'x12 x21', 'x12 x22', 'x13^2',\n",
       "       'x13 x14', 'x13 x15', 'x13 x16', 'x13 x17', 'x13 x18', 'x13 x19',\n",
       "       'x13 x20', 'x13 x21', 'x13 x22', 'x14^2', 'x14 x15', 'x14 x16',\n",
       "       'x14 x17', 'x14 x18', 'x14 x19', 'x14 x20', 'x14 x21', 'x14 x22',\n",
       "       'x15^2', 'x15 x16', 'x15 x17', 'x15 x18', 'x15 x19', 'x15 x20',\n",
       "       'x15 x21', 'x15 x22', 'x16^2', 'x16 x17', 'x16 x18', 'x16 x19',\n",
       "       'x16 x20', 'x16 x21', 'x16 x22', 'x17^2', 'x17 x18', 'x17 x19',\n",
       "       'x17 x20', 'x17 x21', 'x17 x22', 'x18^2', 'x18 x19', 'x18 x20',\n",
       "       'x18 x21', 'x18 x22', 'x19^2', 'x19 x20', 'x19 x21', 'x19 x22',\n",
       "       'x20^2', 'x20 x21', 'x20 x22', 'x21^2', 'x21 x22', 'x22^2'],\n",
       "      dtype=object)"
      ]
     },
     "execution_count": 20,
     "metadata": {},
     "output_type": "execute_result"
    }
   ],
   "source": [
    "columns = Pipe_pf_lasso.named_steps['polyfeatures'].get_feature_names_out()\n",
    "columns"
   ]
  },
  {
   "cell_type": "code",
   "execution_count": 21,
   "metadata": {},
   "outputs": [
    {
     "data": {
      "text/plain": [
       "dict_keys(['memory', 'steps', 'verbose', 'col_trans', 'polyfeatures', 'scaler', 'lasso', 'col_trans__n_jobs', 'col_trans__remainder', 'col_trans__sparse_threshold', 'col_trans__transformer_weights', 'col_trans__transformers', 'col_trans__verbose', 'col_trans__verbose_feature_names_out', 'col_trans__num_pipeline', 'col_trans__cat_pipeline', 'col_trans__num_pipeline__memory', 'col_trans__num_pipeline__steps', 'col_trans__num_pipeline__verbose', 'col_trans__num_pipeline__impute', 'col_trans__num_pipeline__scaler', 'col_trans__num_pipeline__impute__add_indicator', 'col_trans__num_pipeline__impute__copy', 'col_trans__num_pipeline__impute__fill_value', 'col_trans__num_pipeline__impute__missing_values', 'col_trans__num_pipeline__impute__strategy', 'col_trans__num_pipeline__impute__verbose', 'col_trans__num_pipeline__scaler__copy', 'col_trans__num_pipeline__scaler__with_mean', 'col_trans__num_pipeline__scaler__with_std', 'col_trans__cat_pipeline__memory', 'col_trans__cat_pipeline__steps', 'col_trans__cat_pipeline__verbose', 'col_trans__cat_pipeline__impute', 'col_trans__cat_pipeline__ohe', 'col_trans__cat_pipeline__impute__add_indicator', 'col_trans__cat_pipeline__impute__copy', 'col_trans__cat_pipeline__impute__fill_value', 'col_trans__cat_pipeline__impute__missing_values', 'col_trans__cat_pipeline__impute__strategy', 'col_trans__cat_pipeline__impute__verbose', 'col_trans__cat_pipeline__ohe__categories', 'col_trans__cat_pipeline__ohe__drop', 'col_trans__cat_pipeline__ohe__dtype', 'col_trans__cat_pipeline__ohe__handle_unknown', 'col_trans__cat_pipeline__ohe__sparse', 'polyfeatures__degree', 'polyfeatures__include_bias', 'polyfeatures__interaction_only', 'polyfeatures__order', 'scaler__copy', 'scaler__with_mean', 'scaler__with_std', 'lasso__alpha', 'lasso__copy_X', 'lasso__fit_intercept', 'lasso__max_iter', 'lasso__normalize', 'lasso__positive', 'lasso__precompute', 'lasso__random_state', 'lasso__selection', 'lasso__tol', 'lasso__warm_start'])"
      ]
     },
     "execution_count": 21,
     "metadata": {},
     "output_type": "execute_result"
    }
   ],
   "source": [
    "Pipe_pf_lasso.get_params().keys()"
   ]
  },
  {
   "cell_type": "code",
   "execution_count": 22,
   "metadata": {},
   "outputs": [
    {
     "data": {
      "text/plain": [
       "{'polyfeatures__degree': 1}"
      ]
     },
     "execution_count": 22,
     "metadata": {},
     "output_type": "execute_result"
    }
   ],
   "source": [
    "# Using GridSearch to find best alpha\n",
    "parameters = {'polyfeatures__degree': [1, 2, 3, 4, 5]}\n",
    "grid_search  = GridSearchCV(Pipe_pf_lasso, parameters, scoring = 'neg_mean_squared_error', cv = 5)\n",
    "grid_search.fit(X_train, y_train)\n",
    "grid_search.best_params_\n",
    "# best_model = grid_search.best_estimator_\n",
    "# best_model\n",
    "\n",
    " "
   ]
  },
  {
   "cell_type": "code",
   "execution_count": 23,
   "metadata": {},
   "outputs": [
    {
     "data": {
      "text/plain": [
       "{'mean_fit_time': array([0.00785751, 0.00926814, 0.01756983, 0.07701535, 0.7259902 ]),\n",
       " 'std_fit_time': array([0.00133779, 0.00135696, 0.00277343, 0.02031496, 0.07377824]),\n",
       " 'mean_score_time': array([0.00345993, 0.00400586, 0.00478821, 0.01067848, 0.03652492]),\n",
       " 'std_score_time': array([0.00033551, 0.00066472, 0.00049428, 0.00186793, 0.01481098]),\n",
       " 'param_polyfeatures__degree': masked_array(data=[1, 2, 3, 4, 5],\n",
       "              mask=[False, False, False, False, False],\n",
       "        fill_value='?',\n",
       "             dtype=object),\n",
       " 'params': [{'polyfeatures__degree': 1},\n",
       "  {'polyfeatures__degree': 2},\n",
       "  {'polyfeatures__degree': 3},\n",
       "  {'polyfeatures__degree': 4},\n",
       "  {'polyfeatures__degree': 5}],\n",
       " 'split0_test_score': array([-0.17345669, -0.17345669, -0.17345669, -0.17345669, -0.17345669]),\n",
       " 'split1_test_score': array([-0.23672382, -0.23672382, -0.23672382, -0.23672382, -0.23672382]),\n",
       " 'split2_test_score': array([-0.19177323, -0.19177323, -0.19177323, -0.19177323, -0.19177323]),\n",
       " 'split3_test_score': array([-0.22864522, -0.22864522, -0.22864522, -0.22864522, -0.22864522]),\n",
       " 'split4_test_score': array([-0.23860864, -0.23860864, -0.23860864, -0.23860864, -0.23860864]),\n",
       " 'mean_test_score': array([-0.21384152, -0.21384152, -0.21384152, -0.21384152, -0.21384152]),\n",
       " 'std_test_score': array([0.02635945, 0.02635945, 0.02635945, 0.02635945, 0.02635945]),\n",
       " 'rank_test_score': array([1, 1, 1, 1, 1], dtype=int32)}"
      ]
     },
     "execution_count": 23,
     "metadata": {},
     "output_type": "execute_result"
    }
   ],
   "source": [
    "grid_search.cv_results_"
   ]
  },
  {
   "cell_type": "code",
   "execution_count": 24,
   "metadata": {},
   "outputs": [
    {
     "data": {
      "text/plain": [
       "array([2.16170443, 2.16170443, 2.16170443, 2.16170443, 2.16170443,\n",
       "       2.16170443, 2.16170443, 2.16170443, 2.16170443, 2.16170443,\n",
       "       2.16170443, 2.16170443, 2.16170443, 2.16170443, 2.16170443,\n",
       "       2.16170443, 2.16170443, 2.16170443, 2.16170443, 2.16170443,\n",
       "       2.16170443, 2.16170443, 2.16170443, 2.16170443, 2.16170443,\n",
       "       2.16170443, 2.16170443, 2.16170443, 2.16170443, 2.16170443,\n",
       "       2.16170443, 2.16170443, 2.16170443, 2.16170443, 2.16170443,\n",
       "       2.16170443, 2.16170443, 2.16170443, 2.16170443, 2.16170443,\n",
       "       2.16170443, 2.16170443, 2.16170443, 2.16170443, 2.16170443,\n",
       "       2.16170443, 2.16170443, 2.16170443, 2.16170443, 2.16170443,\n",
       "       2.16170443, 2.16170443, 2.16170443, 2.16170443, 2.16170443,\n",
       "       2.16170443, 2.16170443, 2.16170443, 2.16170443, 2.16170443,\n",
       "       2.16170443, 2.16170443, 2.16170443, 2.16170443, 2.16170443,\n",
       "       2.16170443, 2.16170443, 2.16170443, 2.16170443, 2.16170443,\n",
       "       2.16170443, 2.16170443, 2.16170443, 2.16170443, 2.16170443,\n",
       "       2.16170443, 2.16170443, 2.16170443, 2.16170443, 2.16170443,\n",
       "       2.16170443, 2.16170443, 2.16170443, 2.16170443, 2.16170443,\n",
       "       2.16170443, 2.16170443, 2.16170443, 2.16170443, 2.16170443,\n",
       "       2.16170443, 2.16170443, 2.16170443, 2.16170443, 2.16170443,\n",
       "       2.16170443, 2.16170443, 2.16170443, 2.16170443, 2.16170443,\n",
       "       2.16170443, 2.16170443, 2.16170443, 2.16170443, 2.16170443,\n",
       "       2.16170443, 2.16170443, 2.16170443, 2.16170443, 2.16170443,\n",
       "       2.16170443, 2.16170443, 2.16170443, 2.16170443, 2.16170443,\n",
       "       2.16170443, 2.16170443, 2.16170443, 2.16170443, 2.16170443,\n",
       "       2.16170443, 2.16170443, 2.16170443, 2.16170443, 2.16170443,\n",
       "       2.16170443, 2.16170443, 2.16170443, 2.16170443, 2.16170443,\n",
       "       2.16170443, 2.16170443, 2.16170443, 2.16170443, 2.16170443,\n",
       "       2.16170443, 2.16170443, 2.16170443, 2.16170443, 2.16170443,\n",
       "       2.16170443, 2.16170443, 2.16170443, 2.16170443, 2.16170443,\n",
       "       2.16170443, 2.16170443, 2.16170443, 2.16170443, 2.16170443,\n",
       "       2.16170443, 2.16170443, 2.16170443, 2.16170443, 2.16170443,\n",
       "       2.16170443, 2.16170443, 2.16170443, 2.16170443, 2.16170443,\n",
       "       2.16170443, 2.16170443, 2.16170443, 2.16170443, 2.16170443,\n",
       "       2.16170443, 2.16170443, 2.16170443, 2.16170443, 2.16170443,\n",
       "       2.16170443, 2.16170443, 2.16170443, 2.16170443, 2.16170443,\n",
       "       2.16170443, 2.16170443, 2.16170443, 2.16170443, 2.16170443,\n",
       "       2.16170443, 2.16170443, 2.16170443, 2.16170443, 2.16170443,\n",
       "       2.16170443, 2.16170443, 2.16170443, 2.16170443, 2.16170443,\n",
       "       2.16170443, 2.16170443, 2.16170443, 2.16170443, 2.16170443,\n",
       "       2.16170443, 2.16170443, 2.16170443, 2.16170443, 2.16170443,\n",
       "       2.16170443, 2.16170443, 2.16170443, 2.16170443, 2.16170443,\n",
       "       2.16170443, 2.16170443, 2.16170443, 2.16170443, 2.16170443,\n",
       "       2.16170443, 2.16170443, 2.16170443, 2.16170443, 2.16170443,\n",
       "       2.16170443, 2.16170443, 2.16170443, 2.16170443, 2.16170443,\n",
       "       2.16170443, 2.16170443, 2.16170443, 2.16170443, 2.16170443,\n",
       "       2.16170443, 2.16170443, 2.16170443, 2.16170443, 2.16170443,\n",
       "       2.16170443, 2.16170443, 2.16170443, 2.16170443, 2.16170443,\n",
       "       2.16170443, 2.16170443, 2.16170443, 2.16170443, 2.16170443,\n",
       "       2.16170443, 2.16170443, 2.16170443, 2.16170443, 2.16170443,\n",
       "       2.16170443, 2.16170443, 2.16170443, 2.16170443, 2.16170443,\n",
       "       2.16170443, 2.16170443, 2.16170443, 2.16170443, 2.16170443,\n",
       "       2.16170443, 2.16170443, 2.16170443, 2.16170443, 2.16170443,\n",
       "       2.16170443, 2.16170443, 2.16170443, 2.16170443, 2.16170443,\n",
       "       2.16170443, 2.16170443, 2.16170443, 2.16170443, 2.16170443,\n",
       "       2.16170443, 2.16170443, 2.16170443, 2.16170443, 2.16170443,\n",
       "       2.16170443, 2.16170443, 2.16170443, 2.16170443, 2.16170443,\n",
       "       2.16170443, 2.16170443, 2.16170443, 2.16170443, 2.16170443,\n",
       "       2.16170443, 2.16170443, 2.16170443, 2.16170443, 2.16170443,\n",
       "       2.16170443, 2.16170443, 2.16170443, 2.16170443, 2.16170443,\n",
       "       2.16170443, 2.16170443, 2.16170443, 2.16170443, 2.16170443,\n",
       "       2.16170443, 2.16170443, 2.16170443, 2.16170443, 2.16170443,\n",
       "       2.16170443, 2.16170443, 2.16170443, 2.16170443, 2.16170443,\n",
       "       2.16170443, 2.16170443, 2.16170443, 2.16170443, 2.16170443,\n",
       "       2.16170443, 2.16170443, 2.16170443, 2.16170443, 2.16170443,\n",
       "       2.16170443, 2.16170443, 2.16170443, 2.16170443, 2.16170443,\n",
       "       2.16170443, 2.16170443, 2.16170443, 2.16170443, 2.16170443,\n",
       "       2.16170443, 2.16170443, 2.16170443, 2.16170443, 2.16170443,\n",
       "       2.16170443, 2.16170443, 2.16170443, 2.16170443, 2.16170443,\n",
       "       2.16170443, 2.16170443, 2.16170443, 2.16170443, 2.16170443,\n",
       "       2.16170443, 2.16170443, 2.16170443, 2.16170443, 2.16170443,\n",
       "       2.16170443, 2.16170443, 2.16170443, 2.16170443, 2.16170443,\n",
       "       2.16170443, 2.16170443, 2.16170443, 2.16170443, 2.16170443,\n",
       "       2.16170443, 2.16170443, 2.16170443, 2.16170443, 2.16170443,\n",
       "       2.16170443, 2.16170443, 2.16170443, 2.16170443, 2.16170443,\n",
       "       2.16170443, 2.16170443, 2.16170443])"
      ]
     },
     "execution_count": 24,
     "metadata": {},
     "output_type": "execute_result"
    }
   ],
   "source": [
    "grid_search.best_estimator_.predict(X_train)    #without best_estimator will just use last attempt, not best"
   ]
  },
  {
   "cell_type": "code",
   "execution_count": 25,
   "metadata": {},
   "outputs": [],
   "source": [
    "Pipe_pf_lasso.named_steps['polyfeatures'].get_feature_names_out()\n",
    "pf_df = pd.DataFrame(Pipe_pf_lasso.named_steps['lasso'].coef_,index=Pipe_pf_lasso.named_steps['polyfeatures'].get_feature_names_out()).T"
   ]
  },
  {
   "cell_type": "code",
   "execution_count": 26,
   "metadata": {},
   "outputs": [
    {
     "data": {
      "text/html": [
       "<div>\n",
       "<style scoped>\n",
       "    .dataframe tbody tr th:only-of-type {\n",
       "        vertical-align: middle;\n",
       "    }\n",
       "\n",
       "    .dataframe tbody tr th {\n",
       "        vertical-align: top;\n",
       "    }\n",
       "\n",
       "    .dataframe thead th {\n",
       "        text-align: right;\n",
       "    }\n",
       "</style>\n",
       "<table border=\"1\" class=\"dataframe\">\n",
       "  <thead>\n",
       "    <tr style=\"text-align: right;\">\n",
       "      <th></th>\n",
       "      <th>x0</th>\n",
       "      <th>x1</th>\n",
       "      <th>x2</th>\n",
       "      <th>x3</th>\n",
       "      <th>x4</th>\n",
       "      <th>x5</th>\n",
       "      <th>x6</th>\n",
       "      <th>x7</th>\n",
       "      <th>x8</th>\n",
       "      <th>x9</th>\n",
       "      <th>...</th>\n",
       "      <th>x19^2</th>\n",
       "      <th>x19 x20</th>\n",
       "      <th>x19 x21</th>\n",
       "      <th>x19 x22</th>\n",
       "      <th>x20^2</th>\n",
       "      <th>x20 x21</th>\n",
       "      <th>x20 x22</th>\n",
       "      <th>x21^2</th>\n",
       "      <th>x21 x22</th>\n",
       "      <th>x22^2</th>\n",
       "    </tr>\n",
       "  </thead>\n",
       "  <tbody>\n",
       "    <tr>\n",
       "      <th>0</th>\n",
       "      <td>0.0</td>\n",
       "      <td>0.0</td>\n",
       "      <td>0.0</td>\n",
       "      <td>0.0</td>\n",
       "      <td>-0.0</td>\n",
       "      <td>-0.0</td>\n",
       "      <td>0.0</td>\n",
       "      <td>0.0</td>\n",
       "      <td>-0.0</td>\n",
       "      <td>-0.0</td>\n",
       "      <td>...</td>\n",
       "      <td>0.0</td>\n",
       "      <td>0.0</td>\n",
       "      <td>0.0</td>\n",
       "      <td>0.0</td>\n",
       "      <td>-0.0</td>\n",
       "      <td>0.0</td>\n",
       "      <td>-0.0</td>\n",
       "      <td>0.0</td>\n",
       "      <td>0.0</td>\n",
       "      <td>-0.0</td>\n",
       "    </tr>\n",
       "  </tbody>\n",
       "</table>\n",
       "<p>1 rows × 299 columns</p>\n",
       "</div>"
      ],
      "text/plain": [
       "    x0   x1   x2   x3   x4   x5   x6   x7   x8   x9  ...  x19^2  x19 x20  \\\n",
       "0  0.0  0.0  0.0  0.0 -0.0 -0.0  0.0  0.0 -0.0 -0.0  ...    0.0      0.0   \n",
       "\n",
       "   x19 x21  x19 x22  x20^2  x20 x21  x20 x22  x21^2  x21 x22  x22^2  \n",
       "0      0.0      0.0   -0.0      0.0     -0.0    0.0      0.0   -0.0  \n",
       "\n",
       "[1 rows x 299 columns]"
      ]
     },
     "execution_count": 26,
     "metadata": {},
     "output_type": "execute_result"
    }
   ],
   "source": [
    "pf_df.head()"
   ]
  },
  {
   "cell_type": "markdown",
   "metadata": {},
   "source": [
    "# Sequential Features"
   ]
  },
  {
   "cell_type": "code",
   "execution_count": 24,
   "metadata": {},
   "outputs": [],
   "source": [
    "#Sequential Features with Linear Regression\n",
    "num_cols = ['EDUCATION', 'EXPERIENCE', 'AGE']\n",
    "cat_cols = ['SOUTH', 'SEX', 'UNION', 'RACE', 'OCCUPATION', 'SECTOR', 'MARR']\n",
    "X_num = wages[num_cols]\n",
    "y = wages['WAGE']\n",
    "X_num_train, X_num_test, y_train, y_test = train_test_split(X, np.log1p(y), test_size = 0.3)"
   ]
  },
  {
   "cell_type": "code",
   "execution_count": 25,
   "metadata": {},
   "outputs": [],
   "source": [
    "selector = SequentialFeatureSelector(estimator=LinearRegression(),\n",
    "                                    n_features_to_select=2,\n",
    "                                    cv = 5,\n",
    "                                    scoring = 'neg_mean_squared_error')\n",
    "Xt = selector.fit_transform(X_num, y)"
   ]
  },
  {
   "cell_type": "code",
   "execution_count": 27,
   "metadata": {},
   "outputs": [
    {
     "data": {
      "text/html": [
       "<div>\n",
       "<style scoped>\n",
       "    .dataframe tbody tr th:only-of-type {\n",
       "        vertical-align: middle;\n",
       "    }\n",
       "\n",
       "    .dataframe tbody tr th {\n",
       "        vertical-align: top;\n",
       "    }\n",
       "\n",
       "    .dataframe thead th {\n",
       "        text-align: right;\n",
       "    }\n",
       "</style>\n",
       "<table border=\"1\" class=\"dataframe\">\n",
       "  <thead>\n",
       "    <tr style=\"text-align: right;\">\n",
       "      <th></th>\n",
       "      <th>EDUCATION</th>\n",
       "      <th>EXPERIENCE</th>\n",
       "    </tr>\n",
       "  </thead>\n",
       "  <tbody>\n",
       "    <tr>\n",
       "      <th>0</th>\n",
       "      <td>8.0</td>\n",
       "      <td>21.0</td>\n",
       "    </tr>\n",
       "    <tr>\n",
       "      <th>1</th>\n",
       "      <td>9.0</td>\n",
       "      <td>42.0</td>\n",
       "    </tr>\n",
       "    <tr>\n",
       "      <th>2</th>\n",
       "      <td>12.0</td>\n",
       "      <td>1.0</td>\n",
       "    </tr>\n",
       "    <tr>\n",
       "      <th>3</th>\n",
       "      <td>12.0</td>\n",
       "      <td>4.0</td>\n",
       "    </tr>\n",
       "    <tr>\n",
       "      <th>4</th>\n",
       "      <td>12.0</td>\n",
       "      <td>17.0</td>\n",
       "    </tr>\n",
       "    <tr>\n",
       "      <th>...</th>\n",
       "      <td>...</td>\n",
       "      <td>...</td>\n",
       "    </tr>\n",
       "    <tr>\n",
       "      <th>529</th>\n",
       "      <td>18.0</td>\n",
       "      <td>5.0</td>\n",
       "    </tr>\n",
       "    <tr>\n",
       "      <th>530</th>\n",
       "      <td>12.0</td>\n",
       "      <td>33.0</td>\n",
       "    </tr>\n",
       "    <tr>\n",
       "      <th>531</th>\n",
       "      <td>17.0</td>\n",
       "      <td>25.0</td>\n",
       "    </tr>\n",
       "    <tr>\n",
       "      <th>532</th>\n",
       "      <td>12.0</td>\n",
       "      <td>13.0</td>\n",
       "    </tr>\n",
       "    <tr>\n",
       "      <th>533</th>\n",
       "      <td>16.0</td>\n",
       "      <td>33.0</td>\n",
       "    </tr>\n",
       "  </tbody>\n",
       "</table>\n",
       "<p>534 rows × 2 columns</p>\n",
       "</div>"
      ],
      "text/plain": [
       "     EDUCATION  EXPERIENCE\n",
       "0          8.0        21.0\n",
       "1          9.0        42.0\n",
       "2         12.0         1.0\n",
       "3         12.0         4.0\n",
       "4         12.0        17.0\n",
       "..         ...         ...\n",
       "529       18.0         5.0\n",
       "530       12.0        33.0\n",
       "531       17.0        25.0\n",
       "532       12.0        13.0\n",
       "533       16.0        33.0\n",
       "\n",
       "[534 rows x 2 columns]"
      ]
     },
     "execution_count": 27,
     "metadata": {},
     "output_type": "execute_result"
    }
   ],
   "source": [
    "#best_2 = pd.DataFrame(selector.fit_transform(wages[num_cols], wages['WAGE']), columns = selector.get_feature_names_out())\n",
    "best_2 = pd.DataFrame(selector.fit_transform(X_num, y), columns = selector.get_feature_names_out())\n",
    "best_2"
   ]
  },
  {
   "cell_type": "markdown",
   "metadata": {},
   "source": [
    "## Dummies>PolynomialFeatures>SequentialFeatureSelector"
   ]
  },
  {
   "cell_type": "code",
   "execution_count": 62,
   "metadata": {},
   "outputs": [
    {
     "data": {
      "text/html": [
       "<div>\n",
       "<style scoped>\n",
       "    .dataframe tbody tr th:only-of-type {\n",
       "        vertical-align: middle;\n",
       "    }\n",
       "\n",
       "    .dataframe tbody tr th {\n",
       "        vertical-align: top;\n",
       "    }\n",
       "\n",
       "    .dataframe thead th {\n",
       "        text-align: right;\n",
       "    }\n",
       "</style>\n",
       "<table border=\"1\" class=\"dataframe\">\n",
       "  <thead>\n",
       "    <tr style=\"text-align: right;\">\n",
       "      <th></th>\n",
       "      <th>EDUCATION^2</th>\n",
       "      <th>EDUCATION OCCUPATION_Sales</th>\n",
       "      <th>EXPERIENCE SEX_male</th>\n",
       "      <th>SOUTH_yes UNION_not_member</th>\n",
       "    </tr>\n",
       "  </thead>\n",
       "  <tbody>\n",
       "    <tr>\n",
       "      <th>0</th>\n",
       "      <td>64.0</td>\n",
       "      <td>0.0</td>\n",
       "      <td>0.0</td>\n",
       "      <td>0.0</td>\n",
       "    </tr>\n",
       "    <tr>\n",
       "      <th>1</th>\n",
       "      <td>81.0</td>\n",
       "      <td>0.0</td>\n",
       "      <td>0.0</td>\n",
       "      <td>0.0</td>\n",
       "    </tr>\n",
       "    <tr>\n",
       "      <th>2</th>\n",
       "      <td>144.0</td>\n",
       "      <td>0.0</td>\n",
       "      <td>1.0</td>\n",
       "      <td>0.0</td>\n",
       "    </tr>\n",
       "    <tr>\n",
       "      <th>3</th>\n",
       "      <td>144.0</td>\n",
       "      <td>0.0</td>\n",
       "      <td>4.0</td>\n",
       "      <td>0.0</td>\n",
       "    </tr>\n",
       "    <tr>\n",
       "      <th>4</th>\n",
       "      <td>144.0</td>\n",
       "      <td>0.0</td>\n",
       "      <td>17.0</td>\n",
       "      <td>0.0</td>\n",
       "    </tr>\n",
       "    <tr>\n",
       "      <th>...</th>\n",
       "      <td>...</td>\n",
       "      <td>...</td>\n",
       "      <td>...</td>\n",
       "      <td>...</td>\n",
       "    </tr>\n",
       "    <tr>\n",
       "      <th>529</th>\n",
       "      <td>324.0</td>\n",
       "      <td>0.0</td>\n",
       "      <td>5.0</td>\n",
       "      <td>0.0</td>\n",
       "    </tr>\n",
       "    <tr>\n",
       "      <th>530</th>\n",
       "      <td>144.0</td>\n",
       "      <td>0.0</td>\n",
       "      <td>0.0</td>\n",
       "      <td>0.0</td>\n",
       "    </tr>\n",
       "    <tr>\n",
       "      <th>531</th>\n",
       "      <td>289.0</td>\n",
       "      <td>0.0</td>\n",
       "      <td>0.0</td>\n",
       "      <td>0.0</td>\n",
       "    </tr>\n",
       "    <tr>\n",
       "      <th>532</th>\n",
       "      <td>144.0</td>\n",
       "      <td>0.0</td>\n",
       "      <td>13.0</td>\n",
       "      <td>0.0</td>\n",
       "    </tr>\n",
       "    <tr>\n",
       "      <th>533</th>\n",
       "      <td>256.0</td>\n",
       "      <td>0.0</td>\n",
       "      <td>33.0</td>\n",
       "      <td>0.0</td>\n",
       "    </tr>\n",
       "  </tbody>\n",
       "</table>\n",
       "<p>534 rows × 4 columns</p>\n",
       "</div>"
      ],
      "text/plain": [
       "     EDUCATION^2  EDUCATION OCCUPATION_Sales  EXPERIENCE SEX_male  \\\n",
       "0           64.0                         0.0                  0.0   \n",
       "1           81.0                         0.0                  0.0   \n",
       "2          144.0                         0.0                  1.0   \n",
       "3          144.0                         0.0                  4.0   \n",
       "4          144.0                         0.0                 17.0   \n",
       "..           ...                         ...                  ...   \n",
       "529        324.0                         0.0                  5.0   \n",
       "530        144.0                         0.0                  0.0   \n",
       "531        289.0                         0.0                  0.0   \n",
       "532        144.0                         0.0                 13.0   \n",
       "533        256.0                         0.0                 33.0   \n",
       "\n",
       "     SOUTH_yes UNION_not_member  \n",
       "0                           0.0  \n",
       "1                           0.0  \n",
       "2                           0.0  \n",
       "3                           0.0  \n",
       "4                           0.0  \n",
       "..                          ...  \n",
       "529                         0.0  \n",
       "530                         0.0  \n",
       "531                         0.0  \n",
       "532                         0.0  \n",
       "533                         0.0  \n",
       "\n",
       "[534 rows x 4 columns]"
      ]
     },
     "execution_count": 62,
     "metadata": {},
     "output_type": "execute_result"
    }
   ],
   "source": [
    "wages_no_wage = wages.drop(columns = 'WAGE')\n",
    "wages_no_wage.head()\n",
    "wages_no_wage_dum = pd.get_dummies(wages_no_wage, columns = ['SOUTH', 'SEX', 'UNION', 'RACE', 'OCCUPATION', 'SECTOR', 'MARR'])\n",
    "# wages_no_wage.head()\n",
    "pfeatures = PolynomialFeatures(degree = 2, include_bias = False)\n",
    "quad_features = pfeatures.fit_transform(wages_no_wage_dum)\n",
    "poly_features_df = pd.DataFrame(quad_features, columns = pfeatures.get_feature_names_out())\n",
    "poly_features_df.head()\n",
    "selector2 = SequentialFeatureSelector(estimator=LinearRegression(),\n",
    "                                    n_features_to_select=4,\n",
    "                                    cv = 5,\n",
    "                                    scoring = 'neg_mean_squared_error')\n",
    "Xt = selector2.fit_transform(poly_features_df, y)\n",
    "best_4 = pd.DataFrame(selector2.fit_transform(poly_features_df, y), columns = selector2.get_feature_names_out())\n",
    "best_4"
   ]
  },
  {
   "cell_type": "markdown",
   "metadata": {},
   "source": [
    "## Above with Pipeline ( Dummies>PolynomialFeatures>SequentialFeatureSelector>Ridge)"
   ]
  },
  {
   "cell_type": "code",
   "execution_count": 64,
   "metadata": {},
   "outputs": [
    {
     "name": "stdout",
     "output_type": "stream",
     "text": [
      "Train MSE: 0.19383284471899445\n",
      "Test MSE: 0.23329498575724053\n"
     ]
    }
   ],
   "source": [
    "selector = SequentialFeatureSelector(estimator=Ridge(),\n",
    "                                    n_features_to_select= 4,\n",
    "                                    cv = 5,\n",
    "                                    scoring = 'neg_mean_squared_error')\n",
    "\n",
    "Pipe_pf__sf_ridge = Pipeline([\n",
    "    ('col_trans', col_trans),\n",
    "    ('polyfeatures', PolynomialFeatures(degree = 2, include_bias = False)),\n",
    "    ('seq_feat', selector),\n",
    "    ('scaler', StandardScaler()),\n",
    "    ('ridge', Ridge(alpha = 0.1))\n",
    "])\n",
    "Pipe_pf__sf_ridge.fit(X_train, y_train)\n",
    "\n",
    "Train_MSE = mean_squared_error(y_train, Pipe_pf__sf_ridge.predict(X_train))\n",
    "Test_MSE = mean_squared_error(y_test, Pipe_pf__sf_ridge.predict(X_test))\n",
    "print(f'Train MSE: {Train_MSE}')\n",
    "print(f'Test MSE: {Test_MSE}')"
   ]
  },
  {
   "cell_type": "code",
   "execution_count": 65,
   "metadata": {},
   "outputs": [
    {
     "name": "stdout",
     "output_type": "stream",
     "text": [
      "OCCUPATION  0.095 +/- 0.045\n",
      "EDUCATION  0.078 +/- 0.041\n",
      "MARR      0.000 +/- 0.000\n",
      "SECTOR    0.000 +/- 0.000\n",
      "RACE      0.000 +/- 0.000\n",
      "AGE       0.000 +/- 0.000\n",
      "UNION     0.000 +/- 0.000\n",
      "EXPERIENCE  0.000 +/- 0.000\n",
      "SOUTH     0.000 +/- 0.000\n",
      "SEX       -0.045 +/- 0.020\n"
     ]
    }
   ],
   "source": [
    "r = permutation_importance(Pipe_pf__sf_ridge, X_test, y_test , n_repeats=30,random_state=0)\n",
    "for i in r.importances_mean.argsort()[::-1]:\n",
    "        print(f\"{X.columns[i]:<8}\"\n",
    "        f\"  {r.importances_mean[i]:.3f}\"\n",
    "              f\" +/- {r.importances_std[i]:.3f}\")"
   ]
  },
  {
   "cell_type": "code",
   "execution_count": 204,
   "metadata": {},
   "outputs": [
    {
     "data": {
      "text/plain": [
       "dict_keys(['memory', 'steps', 'verbose', 'col_trans', 'polyfeatures', 'seq_feat', 'scaler', 'ridge', 'col_trans__n_jobs', 'col_trans__remainder', 'col_trans__sparse_threshold', 'col_trans__transformer_weights', 'col_trans__transformers', 'col_trans__verbose', 'col_trans__verbose_feature_names_out', 'col_trans__num_pipeline', 'col_trans__cat_pipeline', 'col_trans__num_pipeline__memory', 'col_trans__num_pipeline__steps', 'col_trans__num_pipeline__verbose', 'col_trans__num_pipeline__impute', 'col_trans__num_pipeline__scaler', 'col_trans__num_pipeline__impute__add_indicator', 'col_trans__num_pipeline__impute__copy', 'col_trans__num_pipeline__impute__fill_value', 'col_trans__num_pipeline__impute__missing_values', 'col_trans__num_pipeline__impute__strategy', 'col_trans__num_pipeline__impute__verbose', 'col_trans__num_pipeline__scaler__copy', 'col_trans__num_pipeline__scaler__with_mean', 'col_trans__num_pipeline__scaler__with_std', 'col_trans__cat_pipeline__memory', 'col_trans__cat_pipeline__steps', 'col_trans__cat_pipeline__verbose', 'col_trans__cat_pipeline__impute', 'col_trans__cat_pipeline__ohe', 'col_trans__cat_pipeline__impute__add_indicator', 'col_trans__cat_pipeline__impute__copy', 'col_trans__cat_pipeline__impute__fill_value', 'col_trans__cat_pipeline__impute__missing_values', 'col_trans__cat_pipeline__impute__strategy', 'col_trans__cat_pipeline__impute__verbose', 'col_trans__cat_pipeline__ohe__categories', 'col_trans__cat_pipeline__ohe__drop', 'col_trans__cat_pipeline__ohe__dtype', 'col_trans__cat_pipeline__ohe__handle_unknown', 'col_trans__cat_pipeline__ohe__sparse', 'polyfeatures__degree', 'polyfeatures__include_bias', 'polyfeatures__interaction_only', 'polyfeatures__order', 'seq_feat__cv', 'seq_feat__direction', 'seq_feat__estimator__alpha', 'seq_feat__estimator__copy_X', 'seq_feat__estimator__fit_intercept', 'seq_feat__estimator__max_iter', 'seq_feat__estimator__normalize', 'seq_feat__estimator__positive', 'seq_feat__estimator__random_state', 'seq_feat__estimator__solver', 'seq_feat__estimator__tol', 'seq_feat__estimator', 'seq_feat__n_features_to_select', 'seq_feat__n_jobs', 'seq_feat__scoring', 'scaler__copy', 'scaler__with_mean', 'scaler__with_std', 'ridge__alpha', 'ridge__copy_X', 'ridge__fit_intercept', 'ridge__max_iter', 'ridge__normalize', 'ridge__positive', 'ridge__random_state', 'ridge__solver', 'ridge__tol'])"
      ]
     },
     "execution_count": 204,
     "metadata": {},
     "output_type": "execute_result"
    }
   ],
   "source": [
    "Pipe_pf__sf_ridge.get_params().keys()"
   ]
  },
  {
   "cell_type": "code",
   "execution_count": 34,
   "metadata": {},
   "outputs": [
    {
     "data": {
      "text/plain": [
       "{'ridge__alpha': 10}"
      ]
     },
     "execution_count": 34,
     "metadata": {},
     "output_type": "execute_result"
    }
   ],
   "source": [
    "# Using GridSearch to find best alpha\n",
    "parameters = {# 'polyfeatures__degree': [1, 2, 3],\n",
    "             # 'seq_feat__n_features_to_select': [4, 6, 8,10],\n",
    "             'ridge__alpha': [0.1,1,10]}\n",
    "grid_search  = GridSearchCV(Pipe_pf__sf_ridge, parameters, scoring = 'neg_mean_squared_error', cv = 5)\n",
    "grid_search.fit(X_train, y_train)\n",
    "grid_search.best_params_\n",
    "# best_model = grid_search.best_estimator_\n",
    "# best_model\n",
    "# grid_search.cv_results_\n",
    "# grid_search.best_estimator_.predict(X_train)    #without best_estimator will just use last attempt, not best\n",
    "# Pipe_pf__sf_ridge.named_steps['polyfeatures'].get_feature_names_out()\n",
    "# pf_sf_df = pd.DataFrame(Pipe_pf__sf_ridge.named_steps['ridge'].coef_,index=Pipe_pf__sf_ridge.named_steps['polyfeatures'].get_feature_names_out()).T"
   ]
  },
  {
   "cell_type": "code",
   "execution_count": null,
   "metadata": {},
   "outputs": [],
   "source": []
  },
  {
   "cell_type": "code",
   "execution_count": null,
   "metadata": {},
   "outputs": [],
   "source": []
  },
  {
   "cell_type": "markdown",
   "metadata": {},
   "source": [
    "## Try with Ridge and GridSearch CV to find best alpha...use linspace for alpha values"
   ]
  },
  {
   "cell_type": "code",
   "execution_count": null,
   "metadata": {},
   "outputs": [],
   "source": []
  }
 ],
 "metadata": {
  "kernelspec": {
   "display_name": "Python 3 (ipykernel)",
   "language": "python",
   "name": "python3"
  },
  "language_info": {
   "codemirror_mode": {
    "name": "ipython",
    "version": 3
   },
   "file_extension": ".py",
   "mimetype": "text/x-python",
   "name": "python",
   "nbconvert_exporter": "python",
   "pygments_lexer": "ipython3",
   "version": "3.9.13"
  },
  "widgets": {
   "application/vnd.jupyter.widget-state+json": {
    "state": {},
    "version_major": 2,
    "version_minor": 0
   }
  }
 },
 "nbformat": 4,
 "nbformat_minor": 4
}
