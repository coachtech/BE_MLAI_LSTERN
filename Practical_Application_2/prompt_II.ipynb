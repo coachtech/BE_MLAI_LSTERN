{
 "cells": [
  {
   "cell_type": "markdown",
   "metadata": {},
   "source": [
    "# What drives the price of a car?\n",
    "\n",
    "![](images/kurt.jpeg)"
   ]
  },
  {
   "cell_type": "markdown",
   "metadata": {},
   "source": [
    "**OVERVIEW**\n",
    "\n",
    "In this application, you will explore a dataset from kaggle. The original dataset contained information on 3 million used cars. The provided dataset contains information on 426K cars to ensure speed of processing.  Your goal is to understand what factors make a car more or less expensive.  As a result of your analysis, you should provide clear recommendations to your client -- a used car dealership -- as to what consumers value in a used car."
   ]
  },
  {
   "cell_type": "markdown",
   "metadata": {},
   "source": [
    "### CRISP-DM Framework\n",
    "\n",
    "<center>\n",
    "    <img src = images/crisp.png width = 50%/>\n",
    "</center>\n",
    "\n",
    "\n",
    "To frame the task, throughout our practical applications we will refer back to a standard process in industry for data projects called CRISP-DM.  This process provides a framework for working through a data problem.  Your first step in this application will be to read through a brief overview of CRISP-DM [here](https://mo-pcco.s3.us-east-1.amazonaws.com/BH-PCMLAI/module_11/readings_starter.zip).  After reading the overview, answer the questions below."
   ]
  },
  {
   "cell_type": "markdown",
   "metadata": {},
   "source": [
    "### Business Understanding\n",
    "\n",
    "From a business perspective, we are tasked with identifying key drivers for used car prices.  In the CRISP-DM overview, we are asked to convert this business framing to a data problem definition.  Using a few sentences, reframe the task as a data task with the appropriate technical vocabulary. "
   ]
  },
  {
   "cell_type": "markdown",
   "metadata": {},
   "source": [
    "#### Used cars are a big business and many factors go in to what makes one used car more or less valuable than other used cars.  In order to maximize profits a used car dealership will need to have an inventory of cars with desired features at a competitive price.  Therefore, it is imperative that the used car dealership has the appropriate data and projections to be able to create adequate inventory with the competitive prices."
   ]
  },
  {
   "cell_type": "code",
   "execution_count": null,
   "metadata": {},
   "outputs": [],
   "source": []
  },
  {
   "cell_type": "markdown",
   "metadata": {},
   "source": [
    "### Data Understanding\n",
    "\n",
    "After considering the business understanding, we want to get familiar with our data.  Write down some steps that you would take to get to know the dataset and identify any quality issues within.  Take time to get to know the dataset and explore what information it contains and how this could be used to inform your business understanding."
   ]
  },
  {
   "cell_type": "markdown",
   "metadata": {},
   "source": [
    "The first step is to look at the dataset and see what can be gleaned.  The dataset being used contains detailed information about hundreds of thousands of used car sales. From this dataset we can begin to ask some important questions to help us better understand the data.\n",
    "Questions to answer:\n",
    "Are there features that have a strong correlation  or no correlation with price?\n",
    "Unfortunately the data has few ‘continuous’ values to begin with. This will be addressed below.  With the only continuous values being id, price, year, and odometer reading very little was gleaned. With that said there appears to be little correlation with id and some correlation with odometer.\n",
    "Are there features with exclusively one particular value?\n",
    "Title_status is almost exclusively ‘clean’. Possibly drop this column since it likely can’t provide meaning.\n",
    "Are there features with missing values?\n",
    "Some columns have many missing values and these will need to be addressed on a case by case basis.  In some cases if there are not many missing values they might be dropped from the dataset.\n",
    "Are there categorical features that need to be encoded?\n",
    "This dataset has many categorical features; some of them will need to be one-hot encoded(ie Fuel), while other might be converted to ordinal values(ie Condition). Some of the categorical features with many different values might have to be addressed in a more unique way on a case by case basis.\n"
   ]
  },
  {
   "cell_type": "code",
   "execution_count": null,
   "metadata": {},
   "outputs": [],
   "source": []
  },
  {
   "cell_type": "markdown",
   "metadata": {},
   "source": [
    "### Data Preparation\n",
    "\n",
    "After our initial exploration and fine tuning of the business understanding, it is time to construct our final dataset prior to modeling.  Here, we want to make sure to handle any integrity issues and cleaning, the engineering of new features, any transformations that we believe should happen (scaling, logarithms, normalization, etc.), and general preparation for modeling with `sklearn`. "
   ]
  },
  {
   "cell_type": "code",
   "execution_count": 44,
   "metadata": {},
   "outputs": [],
   "source": [
    "import pandas as pd\n",
    "import plotly.express as px\n",
    "import numpy as np\n",
    "import matplotlib.pyplot as plt\n",
    "import seaborn as sns\n",
    "from sklearn.decomposition import PCA\n",
    "from sklearn.impute import SimpleImputer\n",
    "from sklearn.preprocessing import OneHotEncoder, MinMaxScaler, StandardScaler, OrdinalEncoder\n",
    "from sklearn.pipeline import Pipeline\n",
    "from sklearn.compose import ColumnTransformer, make_column_transformer, make_column_selector\n",
    "from sklearn.linear_model import LogisticRegression, LinearRegression , Lasso, Ridge\n",
    "from sklearn.model_selection import train_test_split, GridSearchCV\n",
    "from sklearn.preprocessing import StandardScaler, PolynomialFeatures\n",
    "from sklearn.feature_selection import SequentialFeatureSelector, SelectFromModel, RFE\n",
    "from sklearn.metrics import mean_squared_error\n",
    "from sklearn.impute import SimpleImputer\n",
    "pd.set_option('display.max_columns', None)\n",
    "from sklearn.inspection import permutation_importance\n",
    "from numpy import arange\n",
    "from pandas import read_csv\n",
    "from sklearn.model_selection import GridSearchCV\n",
    "from sklearn.model_selection import RepeatedKFold"
   ]
  },
  {
   "cell_type": "code",
   "execution_count": 45,
   "metadata": {},
   "outputs": [
    {
     "name": "stdout",
     "output_type": "stream",
     "text": [
      "<class 'pandas.core.frame.DataFrame'>\n",
      "RangeIndex: 426880 entries, 0 to 426879\n",
      "Data columns (total 18 columns):\n",
      " #   Column        Non-Null Count   Dtype  \n",
      "---  ------        --------------   -----  \n",
      " 0   id            426880 non-null  int64  \n",
      " 1   region        426880 non-null  object \n",
      " 2   price         426880 non-null  int64  \n",
      " 3   year          425675 non-null  float64\n",
      " 4   manufacturer  409234 non-null  object \n",
      " 5   model         421603 non-null  object \n",
      " 6   condition     252776 non-null  object \n",
      " 7   cylinders     249202 non-null  object \n",
      " 8   fuel          423867 non-null  object \n",
      " 9   odometer      422480 non-null  float64\n",
      " 10  title_status  418638 non-null  object \n",
      " 11  transmission  424324 non-null  object \n",
      " 12  VIN           265838 non-null  object \n",
      " 13  drive         296313 non-null  object \n",
      " 14  size          120519 non-null  object \n",
      " 15  type          334022 non-null  object \n",
      " 16  paint_color   296677 non-null  object \n",
      " 17  state         426880 non-null  object \n",
      "dtypes: float64(2), int64(2), object(14)\n",
      "memory usage: 58.6+ MB\n"
     ]
    }
   ],
   "source": [
    "cars = pd.read_csv('data/vehicles.csv')\n",
    "cars.info()"
   ]
  },
  {
   "cell_type": "code",
   "execution_count": 46,
   "metadata": {},
   "outputs": [
    {
     "data": {
      "text/html": [
       "<div>\n",
       "<style scoped>\n",
       "    .dataframe tbody tr th:only-of-type {\n",
       "        vertical-align: middle;\n",
       "    }\n",
       "\n",
       "    .dataframe tbody tr th {\n",
       "        vertical-align: top;\n",
       "    }\n",
       "\n",
       "    .dataframe thead th {\n",
       "        text-align: right;\n",
       "    }\n",
       "</style>\n",
       "<table border=\"1\" class=\"dataframe\">\n",
       "  <thead>\n",
       "    <tr style=\"text-align: right;\">\n",
       "      <th></th>\n",
       "      <th>id</th>\n",
       "      <th>region</th>\n",
       "      <th>price</th>\n",
       "      <th>year</th>\n",
       "      <th>manufacturer</th>\n",
       "      <th>model</th>\n",
       "      <th>condition</th>\n",
       "      <th>cylinders</th>\n",
       "      <th>fuel</th>\n",
       "      <th>odometer</th>\n",
       "      <th>title_status</th>\n",
       "      <th>transmission</th>\n",
       "      <th>VIN</th>\n",
       "      <th>drive</th>\n",
       "      <th>size</th>\n",
       "      <th>type</th>\n",
       "      <th>paint_color</th>\n",
       "      <th>state</th>\n",
       "    </tr>\n",
       "  </thead>\n",
       "  <tbody>\n",
       "    <tr>\n",
       "      <th>0</th>\n",
       "      <td>7222695916</td>\n",
       "      <td>prescott</td>\n",
       "      <td>6000</td>\n",
       "      <td>NaN</td>\n",
       "      <td>NaN</td>\n",
       "      <td>NaN</td>\n",
       "      <td>NaN</td>\n",
       "      <td>NaN</td>\n",
       "      <td>NaN</td>\n",
       "      <td>NaN</td>\n",
       "      <td>NaN</td>\n",
       "      <td>NaN</td>\n",
       "      <td>NaN</td>\n",
       "      <td>NaN</td>\n",
       "      <td>NaN</td>\n",
       "      <td>NaN</td>\n",
       "      <td>NaN</td>\n",
       "      <td>az</td>\n",
       "    </tr>\n",
       "    <tr>\n",
       "      <th>1</th>\n",
       "      <td>7218891961</td>\n",
       "      <td>fayetteville</td>\n",
       "      <td>11900</td>\n",
       "      <td>NaN</td>\n",
       "      <td>NaN</td>\n",
       "      <td>NaN</td>\n",
       "      <td>NaN</td>\n",
       "      <td>NaN</td>\n",
       "      <td>NaN</td>\n",
       "      <td>NaN</td>\n",
       "      <td>NaN</td>\n",
       "      <td>NaN</td>\n",
       "      <td>NaN</td>\n",
       "      <td>NaN</td>\n",
       "      <td>NaN</td>\n",
       "      <td>NaN</td>\n",
       "      <td>NaN</td>\n",
       "      <td>ar</td>\n",
       "    </tr>\n",
       "    <tr>\n",
       "      <th>2</th>\n",
       "      <td>7221797935</td>\n",
       "      <td>florida keys</td>\n",
       "      <td>21000</td>\n",
       "      <td>NaN</td>\n",
       "      <td>NaN</td>\n",
       "      <td>NaN</td>\n",
       "      <td>NaN</td>\n",
       "      <td>NaN</td>\n",
       "      <td>NaN</td>\n",
       "      <td>NaN</td>\n",
       "      <td>NaN</td>\n",
       "      <td>NaN</td>\n",
       "      <td>NaN</td>\n",
       "      <td>NaN</td>\n",
       "      <td>NaN</td>\n",
       "      <td>NaN</td>\n",
       "      <td>NaN</td>\n",
       "      <td>fl</td>\n",
       "    </tr>\n",
       "    <tr>\n",
       "      <th>3</th>\n",
       "      <td>7222270760</td>\n",
       "      <td>worcester / central MA</td>\n",
       "      <td>1500</td>\n",
       "      <td>NaN</td>\n",
       "      <td>NaN</td>\n",
       "      <td>NaN</td>\n",
       "      <td>NaN</td>\n",
       "      <td>NaN</td>\n",
       "      <td>NaN</td>\n",
       "      <td>NaN</td>\n",
       "      <td>NaN</td>\n",
       "      <td>NaN</td>\n",
       "      <td>NaN</td>\n",
       "      <td>NaN</td>\n",
       "      <td>NaN</td>\n",
       "      <td>NaN</td>\n",
       "      <td>NaN</td>\n",
       "      <td>ma</td>\n",
       "    </tr>\n",
       "    <tr>\n",
       "      <th>4</th>\n",
       "      <td>7210384030</td>\n",
       "      <td>greensboro</td>\n",
       "      <td>4900</td>\n",
       "      <td>NaN</td>\n",
       "      <td>NaN</td>\n",
       "      <td>NaN</td>\n",
       "      <td>NaN</td>\n",
       "      <td>NaN</td>\n",
       "      <td>NaN</td>\n",
       "      <td>NaN</td>\n",
       "      <td>NaN</td>\n",
       "      <td>NaN</td>\n",
       "      <td>NaN</td>\n",
       "      <td>NaN</td>\n",
       "      <td>NaN</td>\n",
       "      <td>NaN</td>\n",
       "      <td>NaN</td>\n",
       "      <td>nc</td>\n",
       "    </tr>\n",
       "  </tbody>\n",
       "</table>\n",
       "</div>"
      ],
      "text/plain": [
       "           id                  region  price  year manufacturer model  \\\n",
       "0  7222695916                prescott   6000   NaN          NaN   NaN   \n",
       "1  7218891961            fayetteville  11900   NaN          NaN   NaN   \n",
       "2  7221797935            florida keys  21000   NaN          NaN   NaN   \n",
       "3  7222270760  worcester / central MA   1500   NaN          NaN   NaN   \n",
       "4  7210384030              greensboro   4900   NaN          NaN   NaN   \n",
       "\n",
       "  condition cylinders fuel  odometer title_status transmission  VIN drive  \\\n",
       "0       NaN       NaN  NaN       NaN          NaN          NaN  NaN   NaN   \n",
       "1       NaN       NaN  NaN       NaN          NaN          NaN  NaN   NaN   \n",
       "2       NaN       NaN  NaN       NaN          NaN          NaN  NaN   NaN   \n",
       "3       NaN       NaN  NaN       NaN          NaN          NaN  NaN   NaN   \n",
       "4       NaN       NaN  NaN       NaN          NaN          NaN  NaN   NaN   \n",
       "\n",
       "  size type paint_color state  \n",
       "0  NaN  NaN         NaN    az  \n",
       "1  NaN  NaN         NaN    ar  \n",
       "2  NaN  NaN         NaN    fl  \n",
       "3  NaN  NaN         NaN    ma  \n",
       "4  NaN  NaN         NaN    nc  "
      ]
     },
     "execution_count": 46,
     "metadata": {},
     "output_type": "execute_result"
    }
   ],
   "source": [
    "cars.head()"
   ]
  },
  {
   "cell_type": "code",
   "execution_count": 47,
   "metadata": {},
   "outputs": [
    {
     "data": {
      "text/html": [
       "<div>\n",
       "<style scoped>\n",
       "    .dataframe tbody tr th:only-of-type {\n",
       "        vertical-align: middle;\n",
       "    }\n",
       "\n",
       "    .dataframe tbody tr th {\n",
       "        vertical-align: top;\n",
       "    }\n",
       "\n",
       "    .dataframe thead th {\n",
       "        text-align: right;\n",
       "    }\n",
       "</style>\n",
       "<table border=\"1\" class=\"dataframe\">\n",
       "  <thead>\n",
       "    <tr style=\"text-align: right;\">\n",
       "      <th></th>\n",
       "      <th>id</th>\n",
       "      <th>price</th>\n",
       "      <th>year</th>\n",
       "      <th>odometer</th>\n",
       "    </tr>\n",
       "  </thead>\n",
       "  <tbody>\n",
       "    <tr>\n",
       "      <th>id</th>\n",
       "      <td>1.000000</td>\n",
       "      <td>-0.002779</td>\n",
       "      <td>-0.059040</td>\n",
       "      <td>0.010721</td>\n",
       "    </tr>\n",
       "    <tr>\n",
       "      <th>price</th>\n",
       "      <td>-0.002779</td>\n",
       "      <td>1.000000</td>\n",
       "      <td>-0.004925</td>\n",
       "      <td>0.010032</td>\n",
       "    </tr>\n",
       "    <tr>\n",
       "      <th>year</th>\n",
       "      <td>-0.059040</td>\n",
       "      <td>-0.004925</td>\n",
       "      <td>1.000000</td>\n",
       "      <td>-0.157215</td>\n",
       "    </tr>\n",
       "    <tr>\n",
       "      <th>odometer</th>\n",
       "      <td>0.010721</td>\n",
       "      <td>0.010032</td>\n",
       "      <td>-0.157215</td>\n",
       "      <td>1.000000</td>\n",
       "    </tr>\n",
       "  </tbody>\n",
       "</table>\n",
       "</div>"
      ],
      "text/plain": [
       "                id     price      year  odometer\n",
       "id        1.000000 -0.002779 -0.059040  0.010721\n",
       "price    -0.002779  1.000000 -0.004925  0.010032\n",
       "year     -0.059040 -0.004925  1.000000 -0.157215\n",
       "odometer  0.010721  0.010032 -0.157215  1.000000"
      ]
     },
     "execution_count": 47,
     "metadata": {},
     "output_type": "execute_result"
    }
   ],
   "source": [
    "cars.describe()\n",
    "cars.corr()"
   ]
  },
  {
   "cell_type": "code",
   "execution_count": 48,
   "metadata": {},
   "outputs": [
    {
     "name": "stdout",
     "output_type": "stream",
     "text": [
      "No.of.unique values in each column :\n",
      " id              426880\n",
      "region             404\n",
      "price            15655\n",
      "year               114\n",
      "manufacturer        42\n",
      "model            29649\n",
      "condition            6\n",
      "cylinders            8\n",
      "fuel                 5\n",
      "odometer        104870\n",
      "title_status         6\n",
      "transmission         3\n",
      "VIN             118246\n",
      "drive                3\n",
      "size                 4\n",
      "type                13\n",
      "paint_color         12\n",
      "state               51\n",
      "dtype: int64\n"
     ]
    }
   ],
   "source": [
    "n = cars.nunique(axis=0)\n",
    "print(\"No.of.unique values in each column :\\n\",\n",
    "      n)"
   ]
  },
  {
   "cell_type": "code",
   "execution_count": 49,
   "metadata": {},
   "outputs": [
    {
     "data": {
      "text/plain": [
       "array([nan, 'white', 'blue', 'red', 'black', 'silver', 'grey', 'brown',\n",
       "       'yellow', 'orange', 'green', 'custom', 'purple'], dtype=object)"
      ]
     },
     "execution_count": 49,
     "metadata": {},
     "output_type": "execute_result"
    }
   ],
   "source": [
    "cars['paint_color'].unique()"
   ]
  },
  {
   "cell_type": "code",
   "execution_count": 50,
   "metadata": {},
   "outputs": [
    {
     "data": {
      "text/plain": [
       "columbus                   3608\n",
       "jacksonville               3562\n",
       "spokane / coeur d'alene    2988\n",
       "eugene                     2985\n",
       "fresno / madera            2983\n",
       "                           ... \n",
       "meridian                     28\n",
       "southwest MS                 14\n",
       "kansas city                  11\n",
       "fort smith, AR                9\n",
       "west virginia (old)           8\n",
       "Name: region, Length: 404, dtype: int64"
      ]
     },
     "execution_count": 50,
     "metadata": {},
     "output_type": "execute_result"
    }
   ],
   "source": [
    "cars['region'].value_counts()\n",
    "# cars.info()"
   ]
  },
  {
   "cell_type": "code",
   "execution_count": 51,
   "metadata": {},
   "outputs": [],
   "source": [
    "# drop and fill missing values\n",
    "cars.drop(columns = ['id', 'title_status', 'VIN', 'model', 'size', 'region'], inplace = True )\n",
    "cars['manufacturer'].dropna(inplace = True)\n",
    "cars['year'].fillna(cars['year'].median(), inplace = True)\n",
    "#need to convert condition to ordinal and then fill missing with mean or median\n",
    "# cylinders...convert to number and then fill with. mean or median\n",
    "cars['fuel'].fillna(cars['fuel'].value_counts().index[0], inplace = True)\n",
    "cars['odometer'].fillna(cars['odometer'].mean(), inplace = True)\n",
    "cars['transmission'].fillna(cars['transmission'].value_counts().index[0], inplace = True)\n",
    "# drive....what to do with missing...need to ohe \n",
    "# type....labels....missing?\n",
    "cars['paint_color'].fillna(cars['paint_color'].value_counts().index[0], inplace = True)\n",
    "cars = cars[cars['cylinders'] != 'other']\n",
    "cars['cylinders'].fillna(0, inplace = True)\n",
    "cars = cars[cars['drive'].notna()]\n",
    "cars = cars[cars['manufacturer'].notna()]\n",
    "cars = cars[cars['type'].notna()]"
   ]
  },
  {
   "cell_type": "code",
   "execution_count": 52,
   "metadata": {
    "scrolled": true
   },
   "outputs": [
    {
     "name": "stdout",
     "output_type": "stream",
     "text": [
      "<class 'pandas.core.frame.DataFrame'>\n",
      "Int64Index: 254712 entries, 31 to 426879\n",
      "Data columns (total 12 columns):\n",
      " #   Column        Non-Null Count   Dtype  \n",
      "---  ------        --------------   -----  \n",
      " 0   price         254712 non-null  int64  \n",
      " 1   year          254712 non-null  float64\n",
      " 2   manufacturer  254712 non-null  object \n",
      " 3   condition     166025 non-null  object \n",
      " 4   cylinders     254712 non-null  object \n",
      " 5   fuel          254712 non-null  object \n",
      " 6   odometer      254712 non-null  float64\n",
      " 7   transmission  254712 non-null  object \n",
      " 8   drive         254712 non-null  object \n",
      " 9   type          254712 non-null  object \n",
      " 10  paint_color   254712 non-null  object \n",
      " 11  state         254712 non-null  object \n",
      "dtypes: float64(2), int64(1), object(9)\n",
      "memory usage: 25.3+ MB\n"
     ]
    }
   ],
   "source": [
    "cars.info()"
   ]
  },
  {
   "cell_type": "code",
   "execution_count": 55,
   "metadata": {},
   "outputs": [
    {
     "name": "stdout",
     "output_type": "stream",
     "text": [
      "<class 'pandas.core.frame.DataFrame'>\n",
      "Int64Index: 254712 entries, 31 to 426879\n",
      "Data columns (total 12 columns):\n",
      " #   Column        Non-Null Count   Dtype  \n",
      "---  ------        --------------   -----  \n",
      " 0   price         254712 non-null  int64  \n",
      " 1   year          254712 non-null  float64\n",
      " 2   manufacturer  254712 non-null  object \n",
      " 3   condition     166025 non-null  object \n",
      " 4   cylinders     254712 non-null  int64  \n",
      " 5   fuel          254712 non-null  object \n",
      " 6   odometer      254712 non-null  float64\n",
      " 7   transmission  254712 non-null  object \n",
      " 8   drive         254712 non-null  object \n",
      " 9   type          254712 non-null  object \n",
      " 10  paint_color   254712 non-null  object \n",
      " 11  state         254712 non-null  object \n",
      "dtypes: float64(2), int64(2), object(8)\n",
      "memory usage: 25.3+ MB\n"
     ]
    }
   ],
   "source": [
    "## replace cylinders with numbers\n",
    "cars['cylinders'] = cars['cylinders'].replace(['0'], 0)\n",
    "cars['cylinders'] = cars['cylinders'].replace(['3 cylinders'], 3)\n",
    "cars['cylinders'] = cars['cylinders'].replace(['4 cylinders'], 4)\n",
    "cars['cylinders'] = cars['cylinders'].replace(['5 cylinders'], 5)\n",
    "cars['cylinders'] = cars['cylinders'].replace(['6 cylinders'], 6)\n",
    "cars['cylinders'] = cars['cylinders'].replace(['8 cylinders'], 8)\n",
    "cars['cylinders'] = cars['cylinders'].replace(['10 cylinders'], 10)\n",
    "cars['cylinders'] = cars['cylinders'].replace(['12 cylinders'], 12)\n",
    "cars.loc[cars['cylinders'] == 0  , 'cylinders'] = 6\n",
    "cars['cylinders'].unique()\n",
    "cars.info()"
   ]
  },
  {
   "cell_type": "code",
   "execution_count": 56,
   "metadata": {},
   "outputs": [
    {
     "data": {
      "text/plain": [
       "gas         217340\n",
       "diesel       17088\n",
       "other        15563\n",
       "hybrid        3584\n",
       "electric      1137\n",
       "Name: fuel, dtype: int64"
      ]
     },
     "execution_count": 56,
     "metadata": {},
     "output_type": "execute_result"
    }
   ],
   "source": [
    "cars['fuel'].value_counts()"
   ]
  },
  {
   "cell_type": "code",
   "execution_count": 57,
   "metadata": {},
   "outputs": [],
   "source": [
    "numeric_cols = ['price', 'year', 'odometer']\n",
    "categorical_ohe = ['fuel', 'transmission', 'drive', 'paint_color', 'state']\n",
    "categorical_ordinal = ['condition', 'cylinders', 'size',  ]\n",
    "# Still to address: region, manufacturer, type, "
   ]
  },
  {
   "cell_type": "code",
   "execution_count": 58,
   "metadata": {
    "scrolled": true
   },
   "outputs": [],
   "source": [
    "# Ordinal Encoding with Nan values and then replacing Nan values with -1\n",
    "enc = OrdinalEncoder(categories = [['salvage', 'fair', 'good', 'excellent', 'like new', 'new']], dtype = object)\n",
    "cars.loc[cars['condition'].notna(), ['condition']] = enc.fit_transform(cars['condition'].dropna().values.reshape(-1,1))\n",
    "cars['condition'] = cars['condition'].fillna(-1)\n"
   ]
  },
  {
   "cell_type": "code",
   "execution_count": 59,
   "metadata": {},
   "outputs": [
    {
     "name": "stdout",
     "output_type": "stream",
     "text": [
      "<class 'pandas.core.frame.DataFrame'>\n",
      "RangeIndex: 254712 entries, 0 to 254711\n",
      "Data columns (total 21 columns):\n",
      " #   Column                  Non-Null Count   Dtype  \n",
      "---  ------                  --------------   -----  \n",
      " 0   index                   254712 non-null  int64  \n",
      " 1   price                   254712 non-null  int64  \n",
      " 2   year                    254712 non-null  float64\n",
      " 3   manufacturer            254712 non-null  object \n",
      " 4   condition               254712 non-null  int64  \n",
      " 5   cylinders               254712 non-null  int64  \n",
      " 6   odometer                254712 non-null  float64\n",
      " 7   type                    254712 non-null  object \n",
      " 8   paint_color             254712 non-null  object \n",
      " 9   state                   254712 non-null  object \n",
      " 10  fuel_diesel             254712 non-null  uint8  \n",
      " 11  fuel_electric           254712 non-null  uint8  \n",
      " 12  fuel_gas                254712 non-null  uint8  \n",
      " 13  fuel_hybrid             254712 non-null  uint8  \n",
      " 14  fuel_other              254712 non-null  uint8  \n",
      " 15  transmission_automatic  254712 non-null  uint8  \n",
      " 16  transmission_manual     254712 non-null  uint8  \n",
      " 17  transmission_other      254712 non-null  uint8  \n",
      " 18  drive_4wd               254712 non-null  uint8  \n",
      " 19  drive_fwd               254712 non-null  uint8  \n",
      " 20  drive_rwd               254712 non-null  uint8  \n",
      "dtypes: float64(2), int64(4), object(4), uint8(11)\n",
      "memory usage: 22.1+ MB\n"
     ]
    }
   ],
   "source": [
    "cars2 = pd.get_dummies(cars,columns = ['fuel', 'transmission', 'drive'])\n",
    "cars2 = cars2.reset_index()\n",
    "cars2.info(verbose = True)\n",
    "cars2.drop(columns = 'index', inplace= True)"
   ]
  },
  {
   "cell_type": "code",
   "execution_count": 61,
   "metadata": {},
   "outputs": [
    {
     "name": "stdout",
     "output_type": "stream",
     "text": [
      "<class 'pandas.core.frame.DataFrame'>\n",
      "RangeIndex: 254712 entries, 0 to 254711\n",
      "Data columns (total 20 columns):\n",
      " #   Column                  Non-Null Count   Dtype  \n",
      "---  ------                  --------------   -----  \n",
      " 0   price                   254712 non-null  int64  \n",
      " 1   year                    254712 non-null  float64\n",
      " 2   manufacturer            254712 non-null  int64  \n",
      " 3   condition               254712 non-null  int64  \n",
      " 4   cylinders               254712 non-null  int64  \n",
      " 5   odometer                254712 non-null  float64\n",
      " 6   type                    254712 non-null  int64  \n",
      " 7   paint_color             254712 non-null  int64  \n",
      " 8   state                   254712 non-null  int64  \n",
      " 9   fuel_diesel             254712 non-null  uint8  \n",
      " 10  fuel_electric           254712 non-null  uint8  \n",
      " 11  fuel_gas                254712 non-null  uint8  \n",
      " 12  fuel_hybrid             254712 non-null  uint8  \n",
      " 13  fuel_other              254712 non-null  uint8  \n",
      " 14  transmission_automatic  254712 non-null  uint8  \n",
      " 15  transmission_manual     254712 non-null  uint8  \n",
      " 16  transmission_other      254712 non-null  uint8  \n",
      " 17  drive_4wd               254712 non-null  uint8  \n",
      " 18  drive_fwd               254712 non-null  uint8  \n",
      " 19  drive_rwd               254712 non-null  uint8  \n",
      "dtypes: float64(2), int64(7), uint8(11)\n",
      "memory usage: 20.2 MB\n"
     ]
    }
   ],
   "source": [
    "from sklearn.preprocessing import LabelEncoder\n",
    "labeled_cols = ['manufacturer', 'paint_color', 'state', 'type']\n",
    "cars2[labeled_cols] = cars2[labeled_cols].apply(LabelEncoder().fit_transform)\n",
    "cars2.info()"
   ]
  },
  {
   "cell_type": "markdown",
   "metadata": {},
   "source": [
    "### Modeling\n",
    "\n",
    "With your (almost?) final dataset in hand, it is now time to build some models.  Here, you should build a number of different regression models with the price as the target.  In building your models, you should explore different parameters and be sure to cross-validate your findings.\n",
    "\n"
   ]
  },
  {
   "cell_type": "code",
   "execution_count": 62,
   "metadata": {},
   "outputs": [
    {
     "data": {
      "text/plain": [
       "0    15000\n",
       "1    27990\n",
       "2    34590\n",
       "3    35000\n",
       "4    29990\n",
       "Name: price, dtype: int64"
      ]
     },
     "execution_count": 62,
     "metadata": {},
     "output_type": "execute_result"
    }
   ],
   "source": [
    "features = cars2.drop(columns = ['price'])\n",
    "# features = cars[['condition', 'odometer', 'cylinders', 'year']]\n",
    "features.head()\n",
    "price = cars2.price\n",
    "price.head()"
   ]
  },
  {
   "cell_type": "code",
   "execution_count": 63,
   "metadata": {},
   "outputs": [
    {
     "name": "stdout",
     "output_type": "stream",
     "text": [
      "<class 'pandas.core.frame.DataFrame'>\n",
      "<class 'pandas.core.frame.DataFrame'>\n"
     ]
    }
   ],
   "source": [
    "#scale the data\n",
    "object = StandardScaler()\n",
    "features_scaled = pd.DataFrame(object.fit_transform(features), columns = features.columns)\n",
    "print(type(features))\n",
    "print(type(features_scaled))\n"
   ]
  },
  {
   "cell_type": "markdown",
   "metadata": {},
   "source": [
    "## Linear Regression"
   ]
  },
  {
   "cell_type": "code",
   "execution_count": 68,
   "metadata": {},
   "outputs": [
    {
     "name": "stdout",
     "output_type": "stream",
     "text": [
      "59924409502268.41\n"
     ]
    }
   ],
   "source": [
    "f = LinearRegression(fit_intercept = True)\n",
    "f.fit(features_scaled, price)\n",
    "linreg_mse = mean_squared_error(f.predict(features_scaled), price)\n",
    "print(linreg_mse)"
   ]
  },
  {
   "cell_type": "code",
   "execution_count": 67,
   "metadata": {
    "scrolled": false
   },
   "outputs": [
    {
     "data": {
      "text/html": [
       "<div>\n",
       "<style scoped>\n",
       "    .dataframe tbody tr th:only-of-type {\n",
       "        vertical-align: middle;\n",
       "    }\n",
       "\n",
       "    .dataframe tbody tr th {\n",
       "        vertical-align: top;\n",
       "    }\n",
       "\n",
       "    .dataframe thead th {\n",
       "        text-align: right;\n",
       "    }\n",
       "</style>\n",
       "<table border=\"1\" class=\"dataframe\">\n",
       "  <thead>\n",
       "    <tr style=\"text-align: right;\">\n",
       "      <th></th>\n",
       "      <th>price</th>\n",
       "      <th>year</th>\n",
       "      <th>manufacturer</th>\n",
       "      <th>condition</th>\n",
       "      <th>cylinders</th>\n",
       "      <th>odometer</th>\n",
       "      <th>type</th>\n",
       "      <th>paint_color</th>\n",
       "      <th>state</th>\n",
       "      <th>fuel_diesel</th>\n",
       "      <th>fuel_electric</th>\n",
       "      <th>fuel_gas</th>\n",
       "      <th>fuel_hybrid</th>\n",
       "      <th>fuel_other</th>\n",
       "      <th>transmission_automatic</th>\n",
       "      <th>transmission_manual</th>\n",
       "      <th>transmission_other</th>\n",
       "      <th>drive_4wd</th>\n",
       "      <th>drive_fwd</th>\n",
       "      <th>drive_rwd</th>\n",
       "      <th>prediction</th>\n",
       "    </tr>\n",
       "  </thead>\n",
       "  <tbody>\n",
       "    <tr>\n",
       "      <th>0</th>\n",
       "      <td>15000</td>\n",
       "      <td>2013.0</td>\n",
       "      <td>13</td>\n",
       "      <td>3</td>\n",
       "      <td>6</td>\n",
       "      <td>128000.0</td>\n",
       "      <td>10</td>\n",
       "      <td>0</td>\n",
       "      <td>1</td>\n",
       "      <td>0</td>\n",
       "      <td>0</td>\n",
       "      <td>1</td>\n",
       "      <td>0</td>\n",
       "      <td>0</td>\n",
       "      <td>1</td>\n",
       "      <td>0</td>\n",
       "      <td>0</td>\n",
       "      <td>0</td>\n",
       "      <td>0</td>\n",
       "      <td>1</td>\n",
       "      <td>13825.896851</td>\n",
       "    </tr>\n",
       "    <tr>\n",
       "      <th>1</th>\n",
       "      <td>27990</td>\n",
       "      <td>2012.0</td>\n",
       "      <td>14</td>\n",
       "      <td>2</td>\n",
       "      <td>8</td>\n",
       "      <td>68696.0</td>\n",
       "      <td>8</td>\n",
       "      <td>0</td>\n",
       "      <td>1</td>\n",
       "      <td>0</td>\n",
       "      <td>0</td>\n",
       "      <td>1</td>\n",
       "      <td>0</td>\n",
       "      <td>0</td>\n",
       "      <td>0</td>\n",
       "      <td>0</td>\n",
       "      <td>1</td>\n",
       "      <td>1</td>\n",
       "      <td>0</td>\n",
       "      <td>0</td>\n",
       "      <td>49097.896851</td>\n",
       "    </tr>\n",
       "    <tr>\n",
       "      <th>2</th>\n",
       "      <td>34590</td>\n",
       "      <td>2016.0</td>\n",
       "      <td>7</td>\n",
       "      <td>2</td>\n",
       "      <td>6</td>\n",
       "      <td>29499.0</td>\n",
       "      <td>8</td>\n",
       "      <td>9</td>\n",
       "      <td>1</td>\n",
       "      <td>0</td>\n",
       "      <td>0</td>\n",
       "      <td>1</td>\n",
       "      <td>0</td>\n",
       "      <td>0</td>\n",
       "      <td>0</td>\n",
       "      <td>0</td>\n",
       "      <td>1</td>\n",
       "      <td>1</td>\n",
       "      <td>0</td>\n",
       "      <td>0</td>\n",
       "      <td>4297.896851</td>\n",
       "    </tr>\n",
       "    <tr>\n",
       "      <th>3</th>\n",
       "      <td>35000</td>\n",
       "      <td>2019.0</td>\n",
       "      <td>39</td>\n",
       "      <td>3</td>\n",
       "      <td>6</td>\n",
       "      <td>43000.0</td>\n",
       "      <td>10</td>\n",
       "      <td>5</td>\n",
       "      <td>1</td>\n",
       "      <td>0</td>\n",
       "      <td>0</td>\n",
       "      <td>1</td>\n",
       "      <td>0</td>\n",
       "      <td>0</td>\n",
       "      <td>1</td>\n",
       "      <td>0</td>\n",
       "      <td>0</td>\n",
       "      <td>1</td>\n",
       "      <td>0</td>\n",
       "      <td>0</td>\n",
       "      <td>104969.896851</td>\n",
       "    </tr>\n",
       "    <tr>\n",
       "      <th>4</th>\n",
       "      <td>29990</td>\n",
       "      <td>2016.0</td>\n",
       "      <td>7</td>\n",
       "      <td>2</td>\n",
       "      <td>6</td>\n",
       "      <td>17302.0</td>\n",
       "      <td>8</td>\n",
       "      <td>8</td>\n",
       "      <td>1</td>\n",
       "      <td>0</td>\n",
       "      <td>0</td>\n",
       "      <td>1</td>\n",
       "      <td>0</td>\n",
       "      <td>0</td>\n",
       "      <td>0</td>\n",
       "      <td>0</td>\n",
       "      <td>1</td>\n",
       "      <td>1</td>\n",
       "      <td>0</td>\n",
       "      <td>0</td>\n",
       "      <td>1481.896851</td>\n",
       "    </tr>\n",
       "  </tbody>\n",
       "</table>\n",
       "</div>"
      ],
      "text/plain": [
       "   price    year  manufacturer  condition  cylinders  odometer  type  \\\n",
       "0  15000  2013.0            13          3          6  128000.0    10   \n",
       "1  27990  2012.0            14          2          8   68696.0     8   \n",
       "2  34590  2016.0             7          2          6   29499.0     8   \n",
       "3  35000  2019.0            39          3          6   43000.0    10   \n",
       "4  29990  2016.0             7          2          6   17302.0     8   \n",
       "\n",
       "   paint_color  state  fuel_diesel  fuel_electric  fuel_gas  fuel_hybrid  \\\n",
       "0            0      1            0              0         1            0   \n",
       "1            0      1            0              0         1            0   \n",
       "2            9      1            0              0         1            0   \n",
       "3            5      1            0              0         1            0   \n",
       "4            8      1            0              0         1            0   \n",
       "\n",
       "   fuel_other  transmission_automatic  transmission_manual  \\\n",
       "0           0                       1                    0   \n",
       "1           0                       0                    0   \n",
       "2           0                       0                    0   \n",
       "3           0                       1                    0   \n",
       "4           0                       0                    0   \n",
       "\n",
       "   transmission_other  drive_4wd  drive_fwd  drive_rwd     prediction  \n",
       "0                   0          0          0          1   13825.896851  \n",
       "1                   1          1          0          0   49097.896851  \n",
       "2                   1          1          0          0    4297.896851  \n",
       "3                   0          1          0          0  104969.896851  \n",
       "4                   1          1          0          0    1481.896851  "
      ]
     },
     "execution_count": 67,
     "metadata": {},
     "output_type": "execute_result"
    }
   ],
   "source": [
    "cars2['prediction'] = f.predict(features_scaled)\n",
    "# cars2.info(verbose = True)\n",
    "cars2.head()"
   ]
  },
  {
   "cell_type": "code",
   "execution_count": 69,
   "metadata": {},
   "outputs": [
    {
     "name": "stdout",
     "output_type": "stream",
     "text": [
      "price                     1.000000\n",
      "year                     -0.001560\n",
      "manufacturer              0.002727\n",
      "condition                 0.002080\n",
      "cylinders                 0.004392\n",
      "odometer                  0.000706\n",
      "type                      0.001477\n",
      "paint_color               0.001643\n",
      "state                     0.000930\n",
      "fuel_diesel               0.001980\n",
      "fuel_electric            -0.000125\n",
      "fuel_gas                 -0.000961\n",
      "fuel_hybrid              -0.000387\n",
      "fuel_other               -0.000424\n",
      "transmission_automatic    0.000957\n",
      "transmission_manual      -0.000761\n",
      "transmission_other       -0.000596\n",
      "drive_4wd                 0.002135\n",
      "drive_fwd                -0.002387\n",
      "drive_rwd                 0.000223\n",
      "prediction                0.006770\n",
      "dtype: float64\n"
     ]
    }
   ],
   "source": [
    "# checking the correlation between price and other features\n",
    "pd.set_option('display.max_rows', 200)\n",
    "price_corr = cars2.corrwith(cars2['price'])\n",
    "print(price_corr)"
   ]
  },
  {
   "cell_type": "code",
   "execution_count": 70,
   "metadata": {},
   "outputs": [
    {
     "name": "stdout",
     "output_type": "stream",
     "text": [
      "<class 'pandas.core.frame.DataFrame'>\n"
     ]
    }
   ],
   "source": [
    "# Create testing and training data\n",
    "X = features_scaled\n",
    "y = price\n",
    "X_train, X_test, y_train, y_test = train_test_split(X,y,test_size=0.3,random_state=22)\n",
    "print(type(X))"
   ]
  },
  {
   "cell_type": "code",
   "execution_count": 110,
   "metadata": {},
   "outputs": [
    {
     "name": "stdout",
     "output_type": "stream",
     "text": [
      "Train MSE:  85602821292534.09\n",
      "Test MSE:  10472403325.27\n"
     ]
    }
   ],
   "source": [
    "#Simple Model\n",
    "lr = LinearRegression().fit(X_train, y_train)\n",
    "model_1_train_mse = mean_squared_error(y_train, lr.predict(X_train))\n",
    "model_1_test_mse = mean_squared_error(y_test, lr.predict(X_test))\n",
    "print(f'Train MSE: {model_1_train_mse: .2f}')\n",
    "print(f'Test MSE: {model_1_test_mse: .2f}')"
   ]
  },
  {
   "cell_type": "code",
   "execution_count": 112,
   "metadata": {},
   "outputs": [
    {
     "name": "stdout",
     "output_type": "stream",
     "text": [
      "[(-10908.951157314423, 'year'), (40465.0292065569, 'manufacturer'), (27123.271079435384, 'condition'), (49112.99704874912, 'cylinders'), (1816.355913702515, 'odometer'), (10542.977591863342, 'type'), (16931.90764855798, 'paint_color'), (9622.451842963905, 'state'), (-5.7573440373220104e+16, 'fuel_diesel'), (-1.5341395377160988e+16, 'fuel_electric'), (-8.142812126053694e+16, 'fuel_gas'), (-2.7105847006343316e+16, 'fuel_hybrid'), (-5.512039950143628e+16, 'fuel_other'), (1.867272941029412e+17, 'transmission_automatic'), (1.0700898073665429e+17, 'transmission_manual'), (1.6330153142111837e+17, 'transmission_other'), (1.8140758460410548e+16, 'drive_4wd'), (1.755319801483216e+16, 'drive_fwd'), (1.4298109022970638e+16, 'drive_rwd')]\n"
     ]
    }
   ],
   "source": [
    "print(list(zip(lr.coef_, X)))\n"
   ]
  },
  {
   "cell_type": "code",
   "execution_count": 121,
   "metadata": {},
   "outputs": [
    {
     "data": {
      "text/html": [
       "<div>\n",
       "<style scoped>\n",
       "    .dataframe tbody tr th:only-of-type {\n",
       "        vertical-align: middle;\n",
       "    }\n",
       "\n",
       "    .dataframe tbody tr th {\n",
       "        vertical-align: top;\n",
       "    }\n",
       "\n",
       "    .dataframe thead th {\n",
       "        text-align: right;\n",
       "    }\n",
       "</style>\n",
       "<table border=\"1\" class=\"dataframe\">\n",
       "  <thead>\n",
       "    <tr style=\"text-align: right;\">\n",
       "      <th></th>\n",
       "      <th>0</th>\n",
       "      <th>Coefs</th>\n",
       "    </tr>\n",
       "  </thead>\n",
       "  <tbody>\n",
       "    <tr>\n",
       "      <th>10</th>\n",
       "      <td>fuel_gas</td>\n",
       "      <td>-8.142812e+16</td>\n",
       "    </tr>\n",
       "    <tr>\n",
       "      <th>8</th>\n",
       "      <td>fuel_diesel</td>\n",
       "      <td>-5.757344e+16</td>\n",
       "    </tr>\n",
       "    <tr>\n",
       "      <th>12</th>\n",
       "      <td>fuel_other</td>\n",
       "      <td>-5.512040e+16</td>\n",
       "    </tr>\n",
       "    <tr>\n",
       "      <th>11</th>\n",
       "      <td>fuel_hybrid</td>\n",
       "      <td>-2.710585e+16</td>\n",
       "    </tr>\n",
       "    <tr>\n",
       "      <th>9</th>\n",
       "      <td>fuel_electric</td>\n",
       "      <td>-1.534140e+16</td>\n",
       "    </tr>\n",
       "    <tr>\n",
       "      <th>0</th>\n",
       "      <td>year</td>\n",
       "      <td>-1.090895e+04</td>\n",
       "    </tr>\n",
       "    <tr>\n",
       "      <th>4</th>\n",
       "      <td>odometer</td>\n",
       "      <td>1.816356e+03</td>\n",
       "    </tr>\n",
       "    <tr>\n",
       "      <th>7</th>\n",
       "      <td>state</td>\n",
       "      <td>9.622452e+03</td>\n",
       "    </tr>\n",
       "    <tr>\n",
       "      <th>5</th>\n",
       "      <td>type</td>\n",
       "      <td>1.054298e+04</td>\n",
       "    </tr>\n",
       "    <tr>\n",
       "      <th>6</th>\n",
       "      <td>paint_color</td>\n",
       "      <td>1.693191e+04</td>\n",
       "    </tr>\n",
       "    <tr>\n",
       "      <th>2</th>\n",
       "      <td>condition</td>\n",
       "      <td>2.712327e+04</td>\n",
       "    </tr>\n",
       "    <tr>\n",
       "      <th>1</th>\n",
       "      <td>manufacturer</td>\n",
       "      <td>4.046503e+04</td>\n",
       "    </tr>\n",
       "    <tr>\n",
       "      <th>3</th>\n",
       "      <td>cylinders</td>\n",
       "      <td>4.911300e+04</td>\n",
       "    </tr>\n",
       "    <tr>\n",
       "      <th>18</th>\n",
       "      <td>drive_rwd</td>\n",
       "      <td>1.429811e+16</td>\n",
       "    </tr>\n",
       "    <tr>\n",
       "      <th>17</th>\n",
       "      <td>drive_fwd</td>\n",
       "      <td>1.755320e+16</td>\n",
       "    </tr>\n",
       "    <tr>\n",
       "      <th>16</th>\n",
       "      <td>drive_4wd</td>\n",
       "      <td>1.814076e+16</td>\n",
       "    </tr>\n",
       "    <tr>\n",
       "      <th>14</th>\n",
       "      <td>transmission_manual</td>\n",
       "      <td>1.070090e+17</td>\n",
       "    </tr>\n",
       "    <tr>\n",
       "      <th>15</th>\n",
       "      <td>transmission_other</td>\n",
       "      <td>1.633015e+17</td>\n",
       "    </tr>\n",
       "    <tr>\n",
       "      <th>13</th>\n",
       "      <td>transmission_automatic</td>\n",
       "      <td>1.867273e+17</td>\n",
       "    </tr>\n",
       "  </tbody>\n",
       "</table>\n",
       "</div>"
      ],
      "text/plain": [
       "                         0         Coefs\n",
       "10                fuel_gas -8.142812e+16\n",
       "8              fuel_diesel -5.757344e+16\n",
       "12              fuel_other -5.512040e+16\n",
       "11             fuel_hybrid -2.710585e+16\n",
       "9            fuel_electric -1.534140e+16\n",
       "0                     year -1.090895e+04\n",
       "4                 odometer  1.816356e+03\n",
       "7                    state  9.622452e+03\n",
       "5                     type  1.054298e+04\n",
       "6              paint_color  1.693191e+04\n",
       "2                condition  2.712327e+04\n",
       "1             manufacturer  4.046503e+04\n",
       "3                cylinders  4.911300e+04\n",
       "18               drive_rwd  1.429811e+16\n",
       "17               drive_fwd  1.755320e+16\n",
       "16               drive_4wd  1.814076e+16\n",
       "14     transmission_manual  1.070090e+17\n",
       "15      transmission_other  1.633015e+17\n",
       "13  transmission_automatic  1.867273e+17"
      ]
     },
     "execution_count": 121,
     "metadata": {},
     "output_type": "execute_result"
    }
   ],
   "source": [
    "coef_table = pd.DataFrame(list(X_train.columns)).copy()\n",
    "coef_table.insert(len(coef_table.columns),\"Coefs\",lr.coef_.transpose())\n",
    "coef_table.sort_values('Coefs')"
   ]
  },
  {
   "cell_type": "code",
   "execution_count": 72,
   "metadata": {},
   "outputs": [
    {
     "name": "stdout",
     "output_type": "stream",
     "text": [
      "transmission_automatic  16328632339519589058609152.000 +/- 49409728755061351251968.000\n",
      "transmission_other  12452203915008386791374848.000 +/- 45104824689700466851840.000\n",
      "transmission_manual  5389689359786892691767296.000 +/- 18805072586311167115264.000\n",
      "fuel_gas  3161678864961046338076672.000 +/- 12581387601990568116224.000\n",
      "fuel_diesel  1589623330471666406916096.000 +/- 5998945177698054438912.000\n",
      "fuel_other  1445071397238038870360064.000 +/- 5398542157120941326336.000\n",
      "fuel_hybrid  353158585274899852427264.000 +/- 1049335636674130083840.000\n",
      "drive_4wd  155731815948781069795328.000 +/- 558453649341040427008.000\n",
      "drive_fwd  145700070827319361536000.000 +/- 541700483256346279936.000\n",
      "fuel_electric  107078338570130343067648.000 +/- 340089421488481239040.000\n",
      "drive_rwd  96523207147630041759744.000 +/- 351711337340421013504.000\n",
      "manufacturer  0.175 +/- 0.007\n",
      "cylinders  0.147 +/- 0.009\n",
      "condition  0.026 +/- 0.004\n"
     ]
    }
   ],
   "source": [
    "r = permutation_importance(lr, X_test, y_test , n_repeats=30,random_state=0)\n",
    "for i in r.importances_mean.argsort()[::-1]:\n",
    "    if r.importances_mean[i] - 2 * r.importances_std[i] > 0:\n",
    "        print(f\"{X.columns[i]:<8}\"\n",
    "        f\"  {r.importances_mean[i]:.3f}\"\n",
    "              f\" +/- {r.importances_std[i]:.3f}\")\n"
   ]
  },
  {
   "cell_type": "code",
   "execution_count": null,
   "metadata": {},
   "outputs": [],
   "source": [
    "### Do it all over again with code similar to this:\n",
    "poly_ordinal_ohe = make_column_transformer((OrdinalEncoder(categories = [['Po', 'Fa', 'TA', 'Gd', 'Ex']]), ['HeatingQC']),\n",
    "                                           (OneHotEncoder(drop = 'if_binary'), ['CentralAir']),\n",
    "                                           (PolynomialFeatures(include_bias = False, degree = 2), ['OverallQual']))\n",
    "pipe_3 = Pipeline([('transformer', poly_ordinal_ohe), \n",
    "                  ('linreg', LinearRegression())])\n",
    "pipe_3.fit(X_train[['OverallQual', 'CentralAir', 'HeatingQC']], y_train)"
   ]
  },
  {
   "cell_type": "markdown",
   "metadata": {},
   "source": [
    "## Ridge Regression\n"
   ]
  },
  {
   "cell_type": "code",
   "execution_count": 122,
   "metadata": {},
   "outputs": [
    {
     "name": "stdout",
     "output_type": "stream",
     "text": [
      "The Ridge training MSE is: 85602821060197.52\n",
      "The Ridge testing MSE is: 10464144066.609045\n"
     ]
    }
   ],
   "source": [
    "ridge = Ridge(alpha = 1)\n",
    "ridge.fit(X_train, y_train)\n",
    "ridge_train_mse = mean_squared_error(y_train, ridge.predict(X_train))\n",
    "ridge_test_mse = mean_squared_error(y_test, ridge.predict(X_test))\n",
    "print(f'The Ridge training MSE is: {ridge_train_mse}')\n",
    "print(f'The Ridge testing MSE is: {ridge_test_mse}')\n",
    "# scores = cross_val_score(ridge_pipeline, X_train, y_train, cv = 5, scoring='neg_root_mean_squared_error')\n",
    "# print(scores)\n",
    "# print(f'Mean score of {scores.mean()} with a standard deviation of {scores.std()}')"
   ]
  },
  {
   "cell_type": "code",
   "execution_count": 123,
   "metadata": {},
   "outputs": [
    {
     "data": {
      "text/plain": [
       "{'alpha': 10}"
      ]
     },
     "execution_count": 123,
     "metadata": {},
     "output_type": "execute_result"
    }
   ],
   "source": [
    "# Using GridSearch to find best alpha\n",
    "parameters = {'alpha': [0.1, .5, 1, 5, 10]}\n",
    "gd = GridSearchCV(ridge, parameters)\n",
    "gd.fit(X_train, y_train)\n",
    "gd.best_params_"
   ]
  },
  {
   "cell_type": "code",
   "execution_count": 124,
   "metadata": {
    "scrolled": true
   },
   "outputs": [
    {
     "name": "stderr",
     "output_type": "stream",
     "text": [
      "/Users/leostern/opt/anaconda3/lib/python3.9/site-packages/sklearn/linear_model/_ridge.py:157: LinAlgWarning: Ill-conditioned matrix (rcond=9.75237e-17): result may not be accurate.\n",
      "  return linalg.solve(A, Xy, sym_pos=True, overwrite_a=True).T\n"
     ]
    },
    {
     "name": "stdout",
     "output_type": "stream",
     "text": [
      "MAE: -96095.683\n",
      "Config: {'alpha': 0.0}\n"
     ]
    }
   ],
   "source": [
    "ridge2 = Ridge()\n",
    "cv = RepeatedKFold(n_splits = 10, n_repeats = 3, random_state =1)\n",
    "grid = dict()\n",
    "grid['alpha'] = arange(0, 1, 0.01)\n",
    "search = GridSearchCV(ridge2, grid, scoring='neg_mean_absolute_error', cv=cv, n_jobs=-1)\n",
    "results = search.fit(X_train, y_train)\n",
    "print('MAE: %.3f' % results.best_score_)\n",
    "print('Config: %s' % results.best_params_)"
   ]
  },
  {
   "cell_type": "code",
   "execution_count": 125,
   "metadata": {},
   "outputs": [],
   "source": [
    "# With alpha 0 it seems that we are just using Linear Regression here."
   ]
  },
  {
   "cell_type": "code",
   "execution_count": 126,
   "metadata": {},
   "outputs": [
    {
     "name": "stdout",
     "output_type": "stream",
     "text": [
      "manufacturer  0.175 +/- 0.007\n",
      "cylinders  0.144 +/- 0.009\n",
      "condition  0.025 +/- 0.004\n",
      "drive_rwd  0.017 +/- 0.001\n"
     ]
    }
   ],
   "source": [
    "r = permutation_importance(ridge, X_test, y_test , n_repeats=30,random_state=0)\n",
    "for i in r.importances_mean.argsort()[::-1]:\n",
    "    if r.importances_mean[i] - 2 * r.importances_std[i] > 0:\n",
    "        print(f\"{X.columns[i]:<8}\"\n",
    "        f\"  {r.importances_mean[i]:.3f}\"\n",
    "              f\" +/- {r.importances_std[i]:.3f}\")"
   ]
  },
  {
   "cell_type": "code",
   "execution_count": 127,
   "metadata": {},
   "outputs": [],
   "source": [
    "# These appear to be the features that provide the most insight into price."
   ]
  },
  {
   "cell_type": "code",
   "execution_count": 128,
   "metadata": {},
   "outputs": [
    {
     "data": {
      "text/html": [
       "<div>\n",
       "<style scoped>\n",
       "    .dataframe tbody tr th:only-of-type {\n",
       "        vertical-align: middle;\n",
       "    }\n",
       "\n",
       "    .dataframe tbody tr th {\n",
       "        vertical-align: top;\n",
       "    }\n",
       "\n",
       "    .dataframe thead th {\n",
       "        text-align: right;\n",
       "    }\n",
       "</style>\n",
       "<table border=\"1\" class=\"dataframe\">\n",
       "  <thead>\n",
       "    <tr style=\"text-align: right;\">\n",
       "      <th></th>\n",
       "      <th>0</th>\n",
       "      <th>Coefs</th>\n",
       "    </tr>\n",
       "  </thead>\n",
       "  <tbody>\n",
       "    <tr>\n",
       "      <th>10</th>\n",
       "      <td>fuel_gas</td>\n",
       "      <td>-8.142812e+16</td>\n",
       "    </tr>\n",
       "    <tr>\n",
       "      <th>8</th>\n",
       "      <td>fuel_diesel</td>\n",
       "      <td>-5.757344e+16</td>\n",
       "    </tr>\n",
       "    <tr>\n",
       "      <th>12</th>\n",
       "      <td>fuel_other</td>\n",
       "      <td>-5.512040e+16</td>\n",
       "    </tr>\n",
       "    <tr>\n",
       "      <th>11</th>\n",
       "      <td>fuel_hybrid</td>\n",
       "      <td>-2.710585e+16</td>\n",
       "    </tr>\n",
       "    <tr>\n",
       "      <th>9</th>\n",
       "      <td>fuel_electric</td>\n",
       "      <td>-1.534140e+16</td>\n",
       "    </tr>\n",
       "    <tr>\n",
       "      <th>0</th>\n",
       "      <td>year</td>\n",
       "      <td>-1.090895e+04</td>\n",
       "    </tr>\n",
       "    <tr>\n",
       "      <th>4</th>\n",
       "      <td>odometer</td>\n",
       "      <td>1.816356e+03</td>\n",
       "    </tr>\n",
       "    <tr>\n",
       "      <th>7</th>\n",
       "      <td>state</td>\n",
       "      <td>9.622452e+03</td>\n",
       "    </tr>\n",
       "    <tr>\n",
       "      <th>5</th>\n",
       "      <td>type</td>\n",
       "      <td>1.054298e+04</td>\n",
       "    </tr>\n",
       "    <tr>\n",
       "      <th>6</th>\n",
       "      <td>paint_color</td>\n",
       "      <td>1.693191e+04</td>\n",
       "    </tr>\n",
       "    <tr>\n",
       "      <th>2</th>\n",
       "      <td>condition</td>\n",
       "      <td>2.712327e+04</td>\n",
       "    </tr>\n",
       "    <tr>\n",
       "      <th>1</th>\n",
       "      <td>manufacturer</td>\n",
       "      <td>4.046503e+04</td>\n",
       "    </tr>\n",
       "    <tr>\n",
       "      <th>3</th>\n",
       "      <td>cylinders</td>\n",
       "      <td>4.911300e+04</td>\n",
       "    </tr>\n",
       "    <tr>\n",
       "      <th>18</th>\n",
       "      <td>drive_rwd</td>\n",
       "      <td>1.429811e+16</td>\n",
       "    </tr>\n",
       "    <tr>\n",
       "      <th>17</th>\n",
       "      <td>drive_fwd</td>\n",
       "      <td>1.755320e+16</td>\n",
       "    </tr>\n",
       "    <tr>\n",
       "      <th>16</th>\n",
       "      <td>drive_4wd</td>\n",
       "      <td>1.814076e+16</td>\n",
       "    </tr>\n",
       "    <tr>\n",
       "      <th>14</th>\n",
       "      <td>transmission_manual</td>\n",
       "      <td>1.070090e+17</td>\n",
       "    </tr>\n",
       "    <tr>\n",
       "      <th>15</th>\n",
       "      <td>transmission_other</td>\n",
       "      <td>1.633015e+17</td>\n",
       "    </tr>\n",
       "    <tr>\n",
       "      <th>13</th>\n",
       "      <td>transmission_automatic</td>\n",
       "      <td>1.867273e+17</td>\n",
       "    </tr>\n",
       "  </tbody>\n",
       "</table>\n",
       "</div>"
      ],
      "text/plain": [
       "                         0         Coefs\n",
       "10                fuel_gas -8.142812e+16\n",
       "8              fuel_diesel -5.757344e+16\n",
       "12              fuel_other -5.512040e+16\n",
       "11             fuel_hybrid -2.710585e+16\n",
       "9            fuel_electric -1.534140e+16\n",
       "0                     year -1.090895e+04\n",
       "4                 odometer  1.816356e+03\n",
       "7                    state  9.622452e+03\n",
       "5                     type  1.054298e+04\n",
       "6              paint_color  1.693191e+04\n",
       "2                condition  2.712327e+04\n",
       "1             manufacturer  4.046503e+04\n",
       "3                cylinders  4.911300e+04\n",
       "18               drive_rwd  1.429811e+16\n",
       "17               drive_fwd  1.755320e+16\n",
       "16               drive_4wd  1.814076e+16\n",
       "14     transmission_manual  1.070090e+17\n",
       "15      transmission_other  1.633015e+17\n",
       "13  transmission_automatic  1.867273e+17"
      ]
     },
     "execution_count": 128,
     "metadata": {},
     "output_type": "execute_result"
    }
   ],
   "source": [
    "coef_table2 = pd.DataFrame(list(X_train.columns)).copy()\n",
    "coef_table2.insert(len(coef_table2.columns),\"Coefs\",ridge.coef_.transpose())\n",
    "coef_table.sort_values('Coefs')"
   ]
  },
  {
   "cell_type": "markdown",
   "metadata": {},
   "source": [
    "## Feature Selection"
   ]
  },
  {
   "cell_type": "code",
   "execution_count": null,
   "metadata": {},
   "outputs": [],
   "source": [
    "rfe = RFE(estimator = LinearRegression(), n_features_to_select = 3)\n",
    "rfe.fit(X_train, y_train)\n",
    "print(rfe.support_)\n",
    "print(rfe.ranking_)"
   ]
  },
  {
   "cell_type": "code",
   "execution_count": null,
   "metadata": {},
   "outputs": [],
   "source": [
    "from sklearn.feature_selection import SelectKBest\n",
    "from sklearn.feature_selection import chi2"
   ]
  },
  {
   "cell_type": "code",
   "execution_count": null,
   "metadata": {},
   "outputs": [],
   "source": [
    "bestfeatures = SelectKBest(score_func=chi2, k=10)\n",
    "fit = bestfeatures.fit(np.abs(X_train), price)\n",
    "dfscores = pd.DataFrame(fit.scores_)\n",
    "dfcolumns = pd.DataFrame(X_train.columns)\n",
    "featureScores = pd.concat([dfcolumns,dfscores],axis=1)\n",
    "featureScores.columns = ['Specs','Score']  #naming the dataframe columns\n",
    "print(featureScores.nlargest(10,'Score'))  #print 10 best features"
   ]
  },
  {
   "cell_type": "code",
   "execution_count": null,
   "metadata": {},
   "outputs": [],
   "source": [
    "# Of these 10 features, surprisingly only manufacturer seems to have any crossover with the features found to be important using Ridge regression. "
   ]
  },
  {
   "cell_type": "code",
   "execution_count": 85,
   "metadata": {},
   "outputs": [
    {
     "data": {
      "text/plain": [
       "Pipeline(steps=[('selector',\n",
       "                 SequentialFeatureSelector(estimator=LinearRegression())),\n",
       "                ('model', LinearRegression())])"
      ]
     },
     "execution_count": 85,
     "metadata": {},
     "output_type": "execute_result"
    }
   ],
   "source": [
    "## Feature Selection Pipeline\n",
    "selector_pipe = Pipeline([\n",
    "    ('selector', SequentialFeatureSelector(LinearRegression())),\n",
    "    ('model', LinearRegression())\n",
    "])\n",
    "selector_pipe\n",
    "selector_pipe.fit(X_train, y_train)\n",
    "param_dict = {'n_features_to_select' : [3, 5, 10]}"
   ]
  },
  {
   "cell_type": "code",
   "execution_count": 86,
   "metadata": {},
   "outputs": [
    {
     "name": "stdout",
     "output_type": "stream",
     "text": [
      "Train MSE: 85608307973636.58\n",
      "Test MSE: 5150527910.820187\n",
      "Best params: {'selector__n_features_to_select': 3}\n"
     ]
    }
   ],
   "source": [
    "param_dict = {'selector__n_features_to_select': [3,5,10]} #started with 2-5, adjusted...11 was best number of features\n",
    "selector_grid = GridSearchCV(selector_pipe, param_grid=param_dict)\n",
    "selector_grid.fit(X_train, y_train)\n",
    "train_preds = selector_grid.predict(X_train)\n",
    "test_preds = selector_grid.predict(X_test)\n",
    "selector_train_mse = mean_squared_error(y_train, train_preds)\n",
    "selector_test_mse = mean_squared_error(y_test, test_preds)\n",
    "print(f'Train MSE: {selector_train_mse}')\n",
    "print(f'Test MSE: {selector_test_mse}')\n",
    "print(f'Best params: {selector_grid.best_params_}')"
   ]
  },
  {
   "cell_type": "code",
   "execution_count": 87,
   "metadata": {},
   "outputs": [
    {
     "name": "stdout",
     "output_type": "stream",
     "text": [
      "transmission_automatic  360142930112541773266944.000 +/- 1089776787175117422592.000\n",
      "transmission_other  274644753526402857304064.000 +/- 994828188190484856832.000\n",
      "transmission_manual  118874531440823180984320.000 +/- 414763086178613329920.000\n",
      "fuel_gas  0.026 +/- 0.001\n",
      "fuel_hybrid  0.011 +/- 0.001\n",
      "drive_rwd  0.004 +/- 0.001\n",
      "fuel_electric  0.001 +/- 0.000\n",
      "fuel_other  0.000 +/- 0.000\n",
      "drive_4wd  0.000 +/- 0.000\n",
      "drive_fwd  0.000 +/- 0.000\n",
      "fuel_diesel  0.000 +/- 0.000\n",
      "paint_color  0.000 +/- 0.000\n",
      "odometer  0.000 +/- 0.000\n",
      "cylinders  0.000 +/- 0.000\n",
      "condition  0.000 +/- 0.000\n",
      "manufacturer  0.000 +/- 0.000\n",
      "year      0.000 +/- 0.000\n",
      "state     -0.000 +/- 0.001\n",
      "type      -0.003 +/- 0.002\n"
     ]
    }
   ],
   "source": [
    "r = permutation_importance(selector_pipe, X_test, y_test , n_repeats=30,random_state=0)\n",
    "for i in r.importances_mean.argsort()[::-1]:\n",
    "        print(f\"{X.columns[i]:<8}\"\n",
    "        f\"  {r.importances_mean[i]:.3f}\"\n",
    "              f\" +/- {r.importances_std[i]:.3f}\")"
   ]
  },
  {
   "cell_type": "code",
   "execution_count": null,
   "metadata": {},
   "outputs": [],
   "source": [
    "coef_table3 = pd.DataFrame(list(X_train.columns)).copy()\n",
    "coef_table3.insert(len(coef_table3.columns),\"Coefs\",selector_grid.coef_.transpose())\n",
    "coef_table3.sort_values('Coefs')"
   ]
  },
  {
   "cell_type": "markdown",
   "metadata": {},
   "source": [
    "### From this model it appears that transmission, fuel, and drive columns are most important\n"
   ]
  },
  {
   "cell_type": "markdown",
   "metadata": {},
   "source": [
    "## Further Modeling\n",
    "A few of the models seem to show that transmission, fuel, and drive are the most important features while another model showed odometer, state, and manufacturer were more important. Let's try running Linear Regression models in these 2 cases.\n",
    "\n"
   ]
  },
  {
   "cell_type": "markdown",
   "metadata": {},
   "source": [
    "### Linear Regression with transmission, fuel, and drive"
   ]
  },
  {
   "cell_type": "code",
   "execution_count": 95,
   "metadata": {},
   "outputs": [],
   "source": [
    "features3 = cars2[['transmission_automatic', 'transmission_other', 'transmission_manual', 'fuel_gas', 'fuel_hybrid', 'drive_rwd', 'fuel_electric','fuel_other', 'drive_4wd','drive_fwd','fuel_diesel']]      \n",
    "price2 = cars2.price"
   ]
  },
  {
   "cell_type": "code",
   "execution_count": 96,
   "metadata": {},
   "outputs": [],
   "source": [
    "# Create testing and training data\n",
    "X1 = features3\n",
    "y1 = price2\n",
    "X1_train, X1_test, y1_train, y1_test = train_test_split(X1,y1,test_size=0.3,random_state=22)"
   ]
  },
  {
   "cell_type": "code",
   "execution_count": 109,
   "metadata": {},
   "outputs": [
    {
     "name": "stdout",
     "output_type": "stream",
     "text": [
      "Train MSE:  85607314949744.03\n",
      "Test MSE:  5898315861.89\n"
     ]
    }
   ],
   "source": [
    "tfd_model = LinearRegression().fit(X1_train, y1_train)\n",
    "model_1_train_mse = mean_squared_error(y1_train, tfd_model.predict(X1_train))\n",
    "model_1_test_mse = mean_squared_error(y1_test, tfd_model.predict(X1_test))\n",
    "print(f'Train MSE: {model_1_train_mse: .2f}')\n",
    "print(f'Test MSE: {model_1_test_mse: .2f}')"
   ]
  },
  {
   "cell_type": "markdown",
   "metadata": {},
   "source": [
    "### Linear Regression with Odometer, State, Manufacturer"
   ]
  },
  {
   "cell_type": "code",
   "execution_count": 99,
   "metadata": {},
   "outputs": [],
   "source": [
    "features4 = cars2[['odometer', 'state', 'manufacturer']]\n",
    "price3 = cars2.price"
   ]
  },
  {
   "cell_type": "code",
   "execution_count": 100,
   "metadata": {},
   "outputs": [],
   "source": [
    "# Create testing and training data\n",
    "X2 = features4\n",
    "y2 = price3\n",
    "X2_train, X2_test, y2_train, y2_test = train_test_split(X2,y2,test_size=0.3,random_state=22)"
   ]
  },
  {
   "cell_type": "code",
   "execution_count": 108,
   "metadata": {},
   "outputs": [
    {
     "name": "stdout",
     "output_type": "stream",
     "text": [
      "Train MSE:  85607219600213.25\n",
      "Test MSE:  6298011663.58\n"
     ]
    }
   ],
   "source": [
    "osm_model = LinearRegression().fit(X2_train, y2_train)\n",
    "model_1_train_mse = mean_squared_error(y2_train, osm_model.predict(X2_train))\n",
    "model_1_test_mse = mean_squared_error(y2_test, osm_model.predict(X2_test))\n",
    "print(f'Train MSE: {model_1_train_mse: .2f}')\n",
    "print(f'Test MSE: {model_1_test_mse: .2f}')"
   ]
  },
  {
   "cell_type": "code",
   "execution_count": null,
   "metadata": {},
   "outputs": [],
   "source": []
  },
  {
   "cell_type": "markdown",
   "metadata": {},
   "source": [
    "### Evaluation\n",
    "\n",
    "With some modeling accomplished, we aim to reflect on what we identify as a high quality model and what we are able to learn from this.  We should review our business objective and explore how well we can provide meaningful insight on drivers of used car prices.  Your goal now is to distill your findings and determine whether the earlier phases need revisitation and adjustment or if you have information of value to bring back to your client."
   ]
  },
  {
   "cell_type": "markdown",
   "metadata": {},
   "source": [
    "Modeling was a bit more challenging than expected.  Since a few of the columns lended themselves to one hot encoding it created a dataframe with far too many columns than was able to be processed with a home laptop.  With this restriction in mind a dataframe that was limited to 20 columns with several of the columns labeled in a less than ideal manner. The modeling produced inconsistent results as the errors were rather large and none of the features seemed to correlate strongly with the overall price.  While I could certainly recommend that automatic transmissions are recommended and preferred by buyers over other transmissions, I would not feel overly confident providing any other valuable insights with the data collected and analyzed thus far. I would recommend collecting more data that correlated more with price.  As we’ve seen from previous studies it might be possible to collect data on horsepower, fuel efficiency, or other metrics that might be  correlated better with price. Another fault of this whole process is that it’s unclear which types of cars provide the most profit vs. just which cars sell for the most.  This would be essential in making suggestions to used car dealers."
   ]
  },
  {
   "cell_type": "code",
   "execution_count": null,
   "metadata": {},
   "outputs": [],
   "source": []
  },
  {
   "cell_type": "markdown",
   "metadata": {},
   "source": [
    "### Deployment\n",
    "\n",
    "Now that we've settled on our models and findings, it is time to deliver the information to the client.  You should organize your work as a basic report that details your primary findings.  Keep in mind that your audience is a group of used car dealers interested in fine tuning their inventory."
   ]
  },
  {
   "cell_type": "markdown",
   "metadata": {},
   "source": [
    "Upon collecting, organizing, and analyzing the data provided in order to give insight into how to maximize profits with the sale of used cars we can provide some insight but would also feel more comfortable collecting more data and providing further analysis.\n",
    "But, with the data currently accessible a few things are clear:\n",
    "Used car buyers prefer cars with automatic transmissions. Be very wary in using inventory with other types of transmissions.\n",
    "Used car buyers are tempted with electric and hybrid vehicles thus it is recommended to have these types of vehicles available for purchase.\n",
    "While other factors certainly contribute to the overall price and customer interest these variables vary wildly and it can not be fully ascertained at this time as to which factors would ultimately be influential in more profits.\n"
   ]
  },
  {
   "cell_type": "code",
   "execution_count": null,
   "metadata": {},
   "outputs": [],
   "source": []
  },
  {
   "cell_type": "code",
   "execution_count": null,
   "metadata": {},
   "outputs": [],
   "source": []
  }
 ],
 "metadata": {
  "kernelspec": {
   "display_name": "Python 3 (ipykernel)",
   "language": "python",
   "name": "python3"
  },
  "language_info": {
   "codemirror_mode": {
    "name": "ipython",
    "version": 3
   },
   "file_extension": ".py",
   "mimetype": "text/x-python",
   "name": "python",
   "nbconvert_exporter": "python",
   "pygments_lexer": "ipython3",
   "version": "3.9.13"
  },
  "widgets": {
   "application/vnd.jupyter.widget-state+json": {
    "state": {},
    "version_major": 2,
    "version_minor": 0
   }
  }
 },
 "nbformat": 4,
 "nbformat_minor": 4
}
