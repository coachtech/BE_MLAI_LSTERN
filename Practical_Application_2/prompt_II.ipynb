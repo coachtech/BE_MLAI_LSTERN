{
 "cells": [
  {
   "cell_type": "markdown",
   "metadata": {},
   "source": [
    "# What drives the price of a car?\n",
    "\n",
    "![](images/kurt.jpeg)"
   ]
  },
  {
   "cell_type": "markdown",
   "metadata": {},
   "source": [
    "**OVERVIEW**\n",
    "\n",
    "In this application, you will explore a dataset from kaggle. The original dataset contained information on 3 million used cars. The provided dataset contains information on 426K cars to ensure speed of processing.  Your goal is to understand what factors make a car more or less expensive.  As a result of your analysis, you should provide clear recommendations to your client -- a used car dealership -- as to what consumers value in a used car."
   ]
  },
  {
   "cell_type": "markdown",
   "metadata": {},
   "source": [
    "### CRISP-DM Framework\n",
    "\n",
    "<center>\n",
    "    <img src = images/crisp.png width = 50%/>\n",
    "</center>\n",
    "\n",
    "\n",
    "To frame the task, throughout our practical applications we will refer back to a standard process in industry for data projects called CRISP-DM.  This process provides a framework for working through a data problem.  Your first step in this application will be to read through a brief overview of CRISP-DM [here](https://mo-pcco.s3.us-east-1.amazonaws.com/BH-PCMLAI/module_11/readings_starter.zip).  After reading the overview, answer the questions below."
   ]
  },
  {
   "cell_type": "markdown",
   "metadata": {},
   "source": [
    "### Business Understanding\n",
    "\n",
    "From a business perspective, we are tasked with identifying key drivers for used car prices.  In the CRISP-DM overview, we are asked to convert this business framing to a data problem definition.  Using a few sentences, reframe the task as a data task with the appropriate technical vocabulary. "
   ]
  },
  {
   "cell_type": "markdown",
   "metadata": {},
   "source": [
    "#### Used cars are a big business and many factors go in to what makes one used car more or less valuable than other used cars.  In order to maximize profits a used car dealership will need to have an inventory of cars with desired features at a competitive price.  Therefore, it is imperative that the used car dealership has the appropriate data and projections to be able to create adequate inventory with the competitive prices."
   ]
  },
  {
   "cell_type": "code",
   "execution_count": null,
   "metadata": {},
   "outputs": [],
   "source": []
  },
  {
   "cell_type": "markdown",
   "metadata": {},
   "source": [
    "### Data Understanding\n",
    "\n",
    "After considering the business understanding, we want to get familiar with our data.  Write down some steps that you would take to get to know the dataset and identify any quality issues within.  Take time to get to know the dataset and explore what information it contains and how this could be used to inform your business understanding."
   ]
  },
  {
   "cell_type": "markdown",
   "metadata": {},
   "source": [
    "### The first step is to look at the dataset and see what can be gleaned.  The dataset being used contains detailed information about hundreds of thousands of used car sales. From this dataset we can begin to ask some important questions to help us better understand the data.\n",
    "### Questions to answer:\n",
    "### Are there features that have a strong correlation  or no correlation with price?\n",
    "### Unfortunately the data has few ‘continuous’ values to begin with. This will be addressed below.  With the only continuous values being id, price, year, and odometer reading very little was gleaned. With that said there appears to be little correlation with id and some correlation with odometer.\n",
    "### Are there features with exclusively one particular value?\n",
    "### Title_status is almost exclusively ‘clean’. Possibly drop this column since it likely can’t provide meaning.\n",
    "### Are there features with missing values?\n",
    "### Some columns have many missing values and these will need to be addressed on a case by case basis.  In some cases if there are not many missing values they might be dropped from the dataset.\n",
    "### Are there categorical features that need to be encoded?\n",
    "### This dataset has many categorical features; some of them will need to be one-hot encoded(ie Fuel), while other might be converted to ordinal values(ie Condition). Some of the categorical features with many different values might have to be addressed in a more unique way on a case by case basis.\n",
    "### Looking at the data the biggest question remains that price does not necessarily equate with profits. It would be helpful to collect data on the price the dealers purchased the cars for to be able to see which cars produced more profits. \n"
   ]
  },
  {
   "cell_type": "code",
   "execution_count": null,
   "metadata": {},
   "outputs": [],
   "source": []
  },
  {
   "cell_type": "markdown",
   "metadata": {},
   "source": [
    "### Data Preparation\n",
    "\n",
    "After our initial exploration and fine tuning of the business understanding, it is time to construct our final dataset prior to modeling.  Here, we want to make sure to handle any integrity issues and cleaning, the engineering of new features, any transformations that we believe should happen (scaling, logarithms, normalization, etc.), and general preparation for modeling with `sklearn`. "
   ]
  },
  {
   "cell_type": "code",
   "execution_count": 1,
   "metadata": {},
   "outputs": [],
   "source": [
    "import pandas as pd\n",
    "import plotly.express as px\n",
    "import numpy as np\n",
    "import matplotlib.pyplot as plt\n",
    "import seaborn as sns\n",
    "from sklearn.decomposition import PCA\n",
    "from sklearn.impute import SimpleImputer\n",
    "from sklearn.preprocessing import OneHotEncoder, MinMaxScaler, StandardScaler, OrdinalEncoder\n",
    "from sklearn.pipeline import Pipeline\n",
    "from sklearn.compose import ColumnTransformer, make_column_transformer, make_column_selector\n",
    "from sklearn.linear_model import LogisticRegression, LinearRegression , Lasso, Ridge\n",
    "from sklearn.model_selection import train_test_split, GridSearchCV\n",
    "from sklearn.preprocessing import StandardScaler, PolynomialFeatures\n",
    "from sklearn.feature_selection import SequentialFeatureSelector, SelectFromModel, RFE\n",
    "from sklearn.metrics import mean_squared_error\n",
    "from sklearn.impute import SimpleImputer\n",
    "pd.set_option('display.max_columns', None)\n",
    "from sklearn.inspection import permutation_importance\n",
    "from numpy import arange\n",
    "from pandas import read_csv\n",
    "from sklearn.model_selection import GridSearchCV\n",
    "from sklearn.model_selection import RepeatedKFold"
   ]
  },
  {
   "cell_type": "markdown",
   "metadata": {},
   "source": [
    "### Import and examine the data"
   ]
  },
  {
   "cell_type": "code",
   "execution_count": 2,
   "metadata": {},
   "outputs": [
    {
     "name": "stdout",
     "output_type": "stream",
     "text": [
      "<class 'pandas.core.frame.DataFrame'>\n",
      "RangeIndex: 426880 entries, 0 to 426879\n",
      "Data columns (total 18 columns):\n",
      " #   Column        Non-Null Count   Dtype  \n",
      "---  ------        --------------   -----  \n",
      " 0   id            426880 non-null  int64  \n",
      " 1   region        426880 non-null  object \n",
      " 2   price         426880 non-null  int64  \n",
      " 3   year          425675 non-null  float64\n",
      " 4   manufacturer  409234 non-null  object \n",
      " 5   model         421603 non-null  object \n",
      " 6   condition     252776 non-null  object \n",
      " 7   cylinders     249202 non-null  object \n",
      " 8   fuel          423867 non-null  object \n",
      " 9   odometer      422480 non-null  float64\n",
      " 10  title_status  418638 non-null  object \n",
      " 11  transmission  424324 non-null  object \n",
      " 12  VIN           265838 non-null  object \n",
      " 13  drive         296313 non-null  object \n",
      " 14  size          120519 non-null  object \n",
      " 15  type          334022 non-null  object \n",
      " 16  paint_color   296677 non-null  object \n",
      " 17  state         426880 non-null  object \n",
      "dtypes: float64(2), int64(2), object(14)\n",
      "memory usage: 58.6+ MB\n"
     ]
    }
   ],
   "source": [
    "cars = pd.read_csv('data/vehicles.csv')\n",
    "cars.info()"
   ]
  },
  {
   "cell_type": "code",
   "execution_count": 3,
   "metadata": {},
   "outputs": [
    {
     "data": {
      "text/html": [
       "<div>\n",
       "<style scoped>\n",
       "    .dataframe tbody tr th:only-of-type {\n",
       "        vertical-align: middle;\n",
       "    }\n",
       "\n",
       "    .dataframe tbody tr th {\n",
       "        vertical-align: top;\n",
       "    }\n",
       "\n",
       "    .dataframe thead th {\n",
       "        text-align: right;\n",
       "    }\n",
       "</style>\n",
       "<table border=\"1\" class=\"dataframe\">\n",
       "  <thead>\n",
       "    <tr style=\"text-align: right;\">\n",
       "      <th></th>\n",
       "      <th>id</th>\n",
       "      <th>region</th>\n",
       "      <th>price</th>\n",
       "      <th>year</th>\n",
       "      <th>manufacturer</th>\n",
       "      <th>model</th>\n",
       "      <th>condition</th>\n",
       "      <th>cylinders</th>\n",
       "      <th>fuel</th>\n",
       "      <th>odometer</th>\n",
       "      <th>title_status</th>\n",
       "      <th>transmission</th>\n",
       "      <th>VIN</th>\n",
       "      <th>drive</th>\n",
       "      <th>size</th>\n",
       "      <th>type</th>\n",
       "      <th>paint_color</th>\n",
       "      <th>state</th>\n",
       "    </tr>\n",
       "  </thead>\n",
       "  <tbody>\n",
       "    <tr>\n",
       "      <th>0</th>\n",
       "      <td>7222695916</td>\n",
       "      <td>prescott</td>\n",
       "      <td>6000</td>\n",
       "      <td>NaN</td>\n",
       "      <td>NaN</td>\n",
       "      <td>NaN</td>\n",
       "      <td>NaN</td>\n",
       "      <td>NaN</td>\n",
       "      <td>NaN</td>\n",
       "      <td>NaN</td>\n",
       "      <td>NaN</td>\n",
       "      <td>NaN</td>\n",
       "      <td>NaN</td>\n",
       "      <td>NaN</td>\n",
       "      <td>NaN</td>\n",
       "      <td>NaN</td>\n",
       "      <td>NaN</td>\n",
       "      <td>az</td>\n",
       "    </tr>\n",
       "    <tr>\n",
       "      <th>1</th>\n",
       "      <td>7218891961</td>\n",
       "      <td>fayetteville</td>\n",
       "      <td>11900</td>\n",
       "      <td>NaN</td>\n",
       "      <td>NaN</td>\n",
       "      <td>NaN</td>\n",
       "      <td>NaN</td>\n",
       "      <td>NaN</td>\n",
       "      <td>NaN</td>\n",
       "      <td>NaN</td>\n",
       "      <td>NaN</td>\n",
       "      <td>NaN</td>\n",
       "      <td>NaN</td>\n",
       "      <td>NaN</td>\n",
       "      <td>NaN</td>\n",
       "      <td>NaN</td>\n",
       "      <td>NaN</td>\n",
       "      <td>ar</td>\n",
       "    </tr>\n",
       "    <tr>\n",
       "      <th>2</th>\n",
       "      <td>7221797935</td>\n",
       "      <td>florida keys</td>\n",
       "      <td>21000</td>\n",
       "      <td>NaN</td>\n",
       "      <td>NaN</td>\n",
       "      <td>NaN</td>\n",
       "      <td>NaN</td>\n",
       "      <td>NaN</td>\n",
       "      <td>NaN</td>\n",
       "      <td>NaN</td>\n",
       "      <td>NaN</td>\n",
       "      <td>NaN</td>\n",
       "      <td>NaN</td>\n",
       "      <td>NaN</td>\n",
       "      <td>NaN</td>\n",
       "      <td>NaN</td>\n",
       "      <td>NaN</td>\n",
       "      <td>fl</td>\n",
       "    </tr>\n",
       "    <tr>\n",
       "      <th>3</th>\n",
       "      <td>7222270760</td>\n",
       "      <td>worcester / central MA</td>\n",
       "      <td>1500</td>\n",
       "      <td>NaN</td>\n",
       "      <td>NaN</td>\n",
       "      <td>NaN</td>\n",
       "      <td>NaN</td>\n",
       "      <td>NaN</td>\n",
       "      <td>NaN</td>\n",
       "      <td>NaN</td>\n",
       "      <td>NaN</td>\n",
       "      <td>NaN</td>\n",
       "      <td>NaN</td>\n",
       "      <td>NaN</td>\n",
       "      <td>NaN</td>\n",
       "      <td>NaN</td>\n",
       "      <td>NaN</td>\n",
       "      <td>ma</td>\n",
       "    </tr>\n",
       "    <tr>\n",
       "      <th>4</th>\n",
       "      <td>7210384030</td>\n",
       "      <td>greensboro</td>\n",
       "      <td>4900</td>\n",
       "      <td>NaN</td>\n",
       "      <td>NaN</td>\n",
       "      <td>NaN</td>\n",
       "      <td>NaN</td>\n",
       "      <td>NaN</td>\n",
       "      <td>NaN</td>\n",
       "      <td>NaN</td>\n",
       "      <td>NaN</td>\n",
       "      <td>NaN</td>\n",
       "      <td>NaN</td>\n",
       "      <td>NaN</td>\n",
       "      <td>NaN</td>\n",
       "      <td>NaN</td>\n",
       "      <td>NaN</td>\n",
       "      <td>nc</td>\n",
       "    </tr>\n",
       "  </tbody>\n",
       "</table>\n",
       "</div>"
      ],
      "text/plain": [
       "           id                  region  price  year manufacturer model  \\\n",
       "0  7222695916                prescott   6000   NaN          NaN   NaN   \n",
       "1  7218891961            fayetteville  11900   NaN          NaN   NaN   \n",
       "2  7221797935            florida keys  21000   NaN          NaN   NaN   \n",
       "3  7222270760  worcester / central MA   1500   NaN          NaN   NaN   \n",
       "4  7210384030              greensboro   4900   NaN          NaN   NaN   \n",
       "\n",
       "  condition cylinders fuel  odometer title_status transmission  VIN drive  \\\n",
       "0       NaN       NaN  NaN       NaN          NaN          NaN  NaN   NaN   \n",
       "1       NaN       NaN  NaN       NaN          NaN          NaN  NaN   NaN   \n",
       "2       NaN       NaN  NaN       NaN          NaN          NaN  NaN   NaN   \n",
       "3       NaN       NaN  NaN       NaN          NaN          NaN  NaN   NaN   \n",
       "4       NaN       NaN  NaN       NaN          NaN          NaN  NaN   NaN   \n",
       "\n",
       "  size type paint_color state  \n",
       "0  NaN  NaN         NaN    az  \n",
       "1  NaN  NaN         NaN    ar  \n",
       "2  NaN  NaN         NaN    fl  \n",
       "3  NaN  NaN         NaN    ma  \n",
       "4  NaN  NaN         NaN    nc  "
      ]
     },
     "execution_count": 3,
     "metadata": {},
     "output_type": "execute_result"
    }
   ],
   "source": [
    "cars.head()"
   ]
  },
  {
   "cell_type": "code",
   "execution_count": 4,
   "metadata": {},
   "outputs": [
    {
     "data": {
      "text/html": [
       "<div>\n",
       "<style scoped>\n",
       "    .dataframe tbody tr th:only-of-type {\n",
       "        vertical-align: middle;\n",
       "    }\n",
       "\n",
       "    .dataframe tbody tr th {\n",
       "        vertical-align: top;\n",
       "    }\n",
       "\n",
       "    .dataframe thead th {\n",
       "        text-align: right;\n",
       "    }\n",
       "</style>\n",
       "<table border=\"1\" class=\"dataframe\">\n",
       "  <thead>\n",
       "    <tr style=\"text-align: right;\">\n",
       "      <th></th>\n",
       "      <th>id</th>\n",
       "      <th>price</th>\n",
       "      <th>year</th>\n",
       "      <th>odometer</th>\n",
       "    </tr>\n",
       "  </thead>\n",
       "  <tbody>\n",
       "    <tr>\n",
       "      <th>id</th>\n",
       "      <td>1.000000</td>\n",
       "      <td>-0.002779</td>\n",
       "      <td>-0.059040</td>\n",
       "      <td>0.010721</td>\n",
       "    </tr>\n",
       "    <tr>\n",
       "      <th>price</th>\n",
       "      <td>-0.002779</td>\n",
       "      <td>1.000000</td>\n",
       "      <td>-0.004925</td>\n",
       "      <td>0.010032</td>\n",
       "    </tr>\n",
       "    <tr>\n",
       "      <th>year</th>\n",
       "      <td>-0.059040</td>\n",
       "      <td>-0.004925</td>\n",
       "      <td>1.000000</td>\n",
       "      <td>-0.157215</td>\n",
       "    </tr>\n",
       "    <tr>\n",
       "      <th>odometer</th>\n",
       "      <td>0.010721</td>\n",
       "      <td>0.010032</td>\n",
       "      <td>-0.157215</td>\n",
       "      <td>1.000000</td>\n",
       "    </tr>\n",
       "  </tbody>\n",
       "</table>\n",
       "</div>"
      ],
      "text/plain": [
       "                id     price      year  odometer\n",
       "id        1.000000 -0.002779 -0.059040  0.010721\n",
       "price    -0.002779  1.000000 -0.004925  0.010032\n",
       "year     -0.059040 -0.004925  1.000000 -0.157215\n",
       "odometer  0.010721  0.010032 -0.157215  1.000000"
      ]
     },
     "execution_count": 4,
     "metadata": {},
     "output_type": "execute_result"
    }
   ],
   "source": [
    "cars.describe()\n",
    "cars.corr()"
   ]
  },
  {
   "cell_type": "code",
   "execution_count": 5,
   "metadata": {},
   "outputs": [
    {
     "name": "stdout",
     "output_type": "stream",
     "text": [
      "No.of.unique values in each column :\n",
      " id              426880\n",
      "region             404\n",
      "price            15655\n",
      "year               114\n",
      "manufacturer        42\n",
      "model            29649\n",
      "condition            6\n",
      "cylinders            8\n",
      "fuel                 5\n",
      "odometer        104870\n",
      "title_status         6\n",
      "transmission         3\n",
      "VIN             118246\n",
      "drive                3\n",
      "size                 4\n",
      "type                13\n",
      "paint_color         12\n",
      "state               51\n",
      "dtype: int64\n"
     ]
    }
   ],
   "source": [
    "n = cars.nunique(axis=0)\n",
    "print(\"No.of.unique values in each column :\\n\",\n",
    "      n)"
   ]
  },
  {
   "cell_type": "code",
   "execution_count": 6,
   "metadata": {},
   "outputs": [
    {
     "data": {
      "text/plain": [
       "array([nan, 'white', 'blue', 'red', 'black', 'silver', 'grey', 'brown',\n",
       "       'yellow', 'orange', 'green', 'custom', 'purple'], dtype=object)"
      ]
     },
     "execution_count": 6,
     "metadata": {},
     "output_type": "execute_result"
    }
   ],
   "source": [
    "cars['paint_color'].unique()"
   ]
  },
  {
   "cell_type": "code",
   "execution_count": 7,
   "metadata": {},
   "outputs": [
    {
     "data": {
      "text/plain": [
       "columbus                   3608\n",
       "jacksonville               3562\n",
       "spokane / coeur d'alene    2988\n",
       "eugene                     2985\n",
       "fresno / madera            2983\n",
       "                           ... \n",
       "meridian                     28\n",
       "southwest MS                 14\n",
       "kansas city                  11\n",
       "fort smith, AR                9\n",
       "west virginia (old)           8\n",
       "Name: region, Length: 404, dtype: int64"
      ]
     },
     "execution_count": 7,
     "metadata": {},
     "output_type": "execute_result"
    }
   ],
   "source": [
    "cars['region'].value_counts()"
   ]
  },
  {
   "cell_type": "markdown",
   "metadata": {},
   "source": [
    "### drop and fill missing values"
   ]
  },
  {
   "cell_type": "code",
   "execution_count": 8,
   "metadata": {},
   "outputs": [],
   "source": [
    "cars.drop(columns = ['id', 'title_status', 'VIN', 'model', 'size', 'region'], inplace = True )\n",
    "cars['manufacturer'].dropna(inplace = True)\n",
    "cars['year'].fillna(cars['year'].median(), inplace = True)\n",
    "#need to convert condition to ordinal and then fill missing with mean or median\n",
    "# cylinders...convert to number and then fill with. mean or median\n",
    "cars['fuel'].fillna(cars['fuel'].value_counts().index[0], inplace = True)\n",
    "cars['odometer'].fillna(cars['odometer'].mean(), inplace = True)\n",
    "cars['transmission'].fillna(cars['transmission'].value_counts().index[0], inplace = True)\n",
    "# drive....what to do with missing...need to ohe \n",
    "# type....labels....missing?\n",
    "cars['paint_color'].fillna(cars['paint_color'].value_counts().index[0], inplace = True)\n",
    "cars = cars[cars['cylinders'] != 'other']\n",
    "cars['cylinders'].fillna(0, inplace = True)\n",
    "cars = cars[cars['drive'].notna()]\n",
    "cars = cars[cars['manufacturer'].notna()]\n",
    "cars = cars[cars['type'].notna()]\n",
    "cars.drop(cars[cars['price'] == 0].index, inplace = True)\n",
    "cars.drop(cars[cars['price'] > 100000].index, inplace = True)"
   ]
  },
  {
   "cell_type": "code",
   "execution_count": 9,
   "metadata": {},
   "outputs": [],
   "source": [
    "cars.drop(cars[cars['year'] < 1990].index, inplace = True)\n",
    "cars.drop(cars[cars['odometer'] > 200000].index, inplace = True)\n",
    "cars.dropna(inplace = True)"
   ]
  },
  {
   "cell_type": "code",
   "execution_count": 10,
   "metadata": {
    "scrolled": true
   },
   "outputs": [
    {
     "name": "stdout",
     "output_type": "stream",
     "text": [
      "<class 'pandas.core.frame.DataFrame'>\n",
      "Int64Index: 144871 entries, 31 to 426879\n",
      "Data columns (total 12 columns):\n",
      " #   Column        Non-Null Count   Dtype  \n",
      "---  ------        --------------   -----  \n",
      " 0   price         144871 non-null  int64  \n",
      " 1   year          144871 non-null  float64\n",
      " 2   manufacturer  144871 non-null  object \n",
      " 3   condition     144871 non-null  object \n",
      " 4   cylinders     144871 non-null  object \n",
      " 5   fuel          144871 non-null  object \n",
      " 6   odometer      144871 non-null  float64\n",
      " 7   transmission  144871 non-null  object \n",
      " 8   drive         144871 non-null  object \n",
      " 9   type          144871 non-null  object \n",
      " 10  paint_color   144871 non-null  object \n",
      " 11  state         144871 non-null  object \n",
      "dtypes: float64(2), int64(1), object(9)\n",
      "memory usage: 14.4+ MB\n"
     ]
    }
   ],
   "source": [
    "cars.info()"
   ]
  },
  {
   "cell_type": "code",
   "execution_count": 11,
   "metadata": {},
   "outputs": [
    {
     "name": "stdout",
     "output_type": "stream",
     "text": [
      "<class 'pandas.core.frame.DataFrame'>\n",
      "Int64Index: 144871 entries, 31 to 426879\n",
      "Data columns (total 12 columns):\n",
      " #   Column        Non-Null Count   Dtype  \n",
      "---  ------        --------------   -----  \n",
      " 0   price         144871 non-null  int64  \n",
      " 1   year          144871 non-null  float64\n",
      " 2   manufacturer  144871 non-null  object \n",
      " 3   condition     144871 non-null  object \n",
      " 4   cylinders     144871 non-null  int64  \n",
      " 5   fuel          144871 non-null  object \n",
      " 6   odometer      144871 non-null  float64\n",
      " 7   transmission  144871 non-null  object \n",
      " 8   drive         144871 non-null  object \n",
      " 9   type          144871 non-null  object \n",
      " 10  paint_color   144871 non-null  object \n",
      " 11  state         144871 non-null  object \n",
      "dtypes: float64(2), int64(2), object(8)\n",
      "memory usage: 14.4+ MB\n"
     ]
    }
   ],
   "source": [
    "## replace cylinders with numbers\n",
    "cars['cylinders'] = cars['cylinders'].replace(['0'], 0)\n",
    "cars['cylinders'] = cars['cylinders'].replace(['3 cylinders'], 3)\n",
    "cars['cylinders'] = cars['cylinders'].replace(['4 cylinders'], 4)\n",
    "cars['cylinders'] = cars['cylinders'].replace(['5 cylinders'], 5)\n",
    "cars['cylinders'] = cars['cylinders'].replace(['6 cylinders'], 6)\n",
    "cars['cylinders'] = cars['cylinders'].replace(['8 cylinders'], 8)\n",
    "cars['cylinders'] = cars['cylinders'].replace(['10 cylinders'], 10)\n",
    "cars['cylinders'] = cars['cylinders'].replace(['12 cylinders'], 12)\n",
    "cars.loc[cars['cylinders'] == 0  , 'cylinders'] = 6\n",
    "cars['cylinders'].unique()\n",
    "cars.info()"
   ]
  },
  {
   "cell_type": "code",
   "execution_count": 12,
   "metadata": {},
   "outputs": [
    {
     "data": {
      "text/html": [
       "<div>\n",
       "<style scoped>\n",
       "    .dataframe tbody tr th:only-of-type {\n",
       "        vertical-align: middle;\n",
       "    }\n",
       "\n",
       "    .dataframe tbody tr th {\n",
       "        vertical-align: top;\n",
       "    }\n",
       "\n",
       "    .dataframe thead th {\n",
       "        text-align: right;\n",
       "    }\n",
       "</style>\n",
       "<table border=\"1\" class=\"dataframe\">\n",
       "  <thead>\n",
       "    <tr style=\"text-align: right;\">\n",
       "      <th></th>\n",
       "      <th>price</th>\n",
       "      <th>year</th>\n",
       "      <th>odometer</th>\n",
       "    </tr>\n",
       "  </thead>\n",
       "  <tbody>\n",
       "    <tr>\n",
       "      <th>194594</th>\n",
       "      <td>18995</td>\n",
       "      <td>2017.0</td>\n",
       "      <td>43406.0</td>\n",
       "    </tr>\n",
       "    <tr>\n",
       "      <th>145771</th>\n",
       "      <td>19995</td>\n",
       "      <td>2013.0</td>\n",
       "      <td>145207.0</td>\n",
       "    </tr>\n",
       "    <tr>\n",
       "      <th>175158</th>\n",
       "      <td>17990</td>\n",
       "      <td>2017.0</td>\n",
       "      <td>20909.0</td>\n",
       "    </tr>\n",
       "    <tr>\n",
       "      <th>52019</th>\n",
       "      <td>11338</td>\n",
       "      <td>2014.0</td>\n",
       "      <td>101905.0</td>\n",
       "    </tr>\n",
       "    <tr>\n",
       "      <th>166818</th>\n",
       "      <td>22999</td>\n",
       "      <td>2007.0</td>\n",
       "      <td>80466.0</td>\n",
       "    </tr>\n",
       "  </tbody>\n",
       "</table>\n",
       "</div>"
      ],
      "text/plain": [
       "        price    year  odometer\n",
       "194594  18995  2017.0   43406.0\n",
       "145771  19995  2013.0  145207.0\n",
       "175158  17990  2017.0   20909.0\n",
       "52019   11338  2014.0  101905.0\n",
       "166818  22999  2007.0   80466.0"
      ]
     },
     "execution_count": 12,
     "metadata": {},
     "output_type": "execute_result"
    }
   ],
   "source": [
    "# take a random sample from dataset and make a plot\n",
    "cars3 = cars[['price', 'year', 'odometer']]\n",
    "cars_sample = cars3.sample(n = 100, random_state = 1)\n",
    "cars_sample.head()"
   ]
  },
  {
   "cell_type": "code",
   "execution_count": 13,
   "metadata": {},
   "outputs": [
    {
     "data": {
      "image/png": "[encoded data removed]",
      "text/plain": [
       "<Figure size 640x480 with 1 Axes>"
      ]
     },
     "metadata": {},
     "output_type": "display_data"
    }
   ],
   "source": [
    "sns.scatterplot(x = 'odometer', y = 'price', data = cars_sample)\n",
    "plt.title(\"Odometer Reading vs. Price for a Random Sample\")\n",
    "plt.show()"
   ]
  },
  {
   "cell_type": "code",
   "execution_count": 14,
   "metadata": {},
   "outputs": [
    {
     "data": {
      "image/png": "[encoded data removed]",
      "text/plain": [
       "<Figure size 640x480 with 1 Axes>"
      ]
     },
     "metadata": {},
     "output_type": "display_data"
    }
   ],
   "source": [
    "sns.scatterplot(x = 'year', y = 'price', data = cars_sample)\n",
    "plt.title(\"Year of Car vs. Price for a Random Sample\")\n",
    "plt.show()"
   ]
  },
  {
   "cell_type": "code",
   "execution_count": 15,
   "metadata": {},
   "outputs": [],
   "source": [
    "numeric_cols = ['price', 'year', 'odometer']\n",
    "categorical_ohe = ['fuel', 'transmission', 'drive', 'paint_color', 'state']\n",
    "categorical_ordinal = ['condition', 'cylinders', 'size',  ]\n",
    "# Still to address: region, manufacturer, type, "
   ]
  },
  {
   "cell_type": "code",
   "execution_count": 31,
   "metadata": {
    "scrolled": true
   },
   "outputs": [
    {
     "name": "stdout",
     "output_type": "stream",
     "text": [
      "<class 'pandas.core.frame.DataFrame'>\n",
      "Int64Index: 144871 entries, 31 to 426879\n",
      "Data columns (total 12 columns):\n",
      " #   Column        Non-Null Count   Dtype  \n",
      "---  ------        --------------   -----  \n",
      " 0   price         144871 non-null  int64  \n",
      " 1   year          144871 non-null  float64\n",
      " 2   manufacturer  144871 non-null  object \n",
      " 3   condition     144871 non-null  int64  \n",
      " 4   cylinders     144871 non-null  int64  \n",
      " 5   fuel          144871 non-null  object \n",
      " 6   odometer      144871 non-null  float64\n",
      " 7   transmission  144871 non-null  object \n",
      " 8   drive         144871 non-null  object \n",
      " 9   type          144871 non-null  object \n",
      " 10  paint_color   144871 non-null  object \n",
      " 11  state         144871 non-null  object \n",
      "dtypes: float64(2), int64(3), object(7)\n",
      "memory usage: 14.4+ MB\n"
     ]
    }
   ],
   "source": [
    "# Ordinal Encoding for Condition Feature\n",
    "# condition = ['salvage', 'fair', 'good', 'excellent', 'like new', 'new']\n",
    "# enc = OrdinalEncoder(categories = [condition], dtype = object)\n",
    "# cars['condition'] = enc.fit_transform(cars[['condition']])\n",
    "cars.head()\n",
    "cars['condition'] = cars['condition'].astype(int)\n",
    "cars.info()"
   ]
  },
  {
   "cell_type": "code",
   "execution_count": 36,
   "metadata": {},
   "outputs": [
    {
     "name": "stdout",
     "output_type": "stream",
     "text": [
      "<class 'pandas.core.frame.DataFrame'>\n",
      "RangeIndex: 144871 entries, 0 to 144870\n",
      "Data columns (total 21 columns):\n",
      " #   Column                  Non-Null Count   Dtype  \n",
      "---  ------                  --------------   -----  \n",
      " 0   index                   144871 non-null  int64  \n",
      " 1   price                   144871 non-null  int64  \n",
      " 2   year                    144871 non-null  float64\n",
      " 3   manufacturer            144871 non-null  object \n",
      " 4   condition               144871 non-null  int64  \n",
      " 5   cylinders               144871 non-null  int64  \n",
      " 6   odometer                144871 non-null  float64\n",
      " 7   type                    144871 non-null  object \n",
      " 8   paint_color             144871 non-null  object \n",
      " 9   state                   144871 non-null  object \n",
      " 10  fuel_diesel             144871 non-null  uint8  \n",
      " 11  fuel_electric           144871 non-null  uint8  \n",
      " 12  fuel_gas                144871 non-null  uint8  \n",
      " 13  fuel_hybrid             144871 non-null  uint8  \n",
      " 14  fuel_other              144871 non-null  uint8  \n",
      " 15  transmission_automatic  144871 non-null  uint8  \n",
      " 16  transmission_manual     144871 non-null  uint8  \n",
      " 17  transmission_other      144871 non-null  uint8  \n",
      " 18  drive_4wd               144871 non-null  uint8  \n",
      " 19  drive_fwd               144871 non-null  uint8  \n",
      " 20  drive_rwd               144871 non-null  uint8  \n",
      "dtypes: float64(2), int64(4), object(4), uint8(11)\n",
      "memory usage: 12.6+ MB\n"
     ]
    }
   ],
   "source": [
    "## Decision made to only create dummy columns for features with minimal unique values. \n",
    "cars2 = pd.get_dummies(cars,columns = ['fuel', 'transmission', 'drive'])\n",
    "cars2 = cars2.reset_index()\n",
    "cars2.info(verbose = True)\n",
    "cars2.drop(columns = 'index', inplace= True)"
   ]
  },
  {
   "cell_type": "code",
   "execution_count": 39,
   "metadata": {},
   "outputs": [
    {
     "name": "stdout",
     "output_type": "stream",
     "text": [
      "<class 'pandas.core.frame.DataFrame'>\n",
      "RangeIndex: 144871 entries, 0 to 144870\n",
      "Data columns (total 20 columns):\n",
      " #   Column                  Non-Null Count   Dtype  \n",
      "---  ------                  --------------   -----  \n",
      " 0   price                   144871 non-null  int64  \n",
      " 1   year                    144871 non-null  float64\n",
      " 2   manufacturer            144871 non-null  int64  \n",
      " 3   condition               144871 non-null  int64  \n",
      " 4   cylinders               144871 non-null  int64  \n",
      " 5   odometer                144871 non-null  float64\n",
      " 6   type                    144871 non-null  int64  \n",
      " 7   paint_color             144871 non-null  int64  \n",
      " 8   state                   144871 non-null  int64  \n",
      " 9   fuel_diesel             144871 non-null  uint8  \n",
      " 10  fuel_electric           144871 non-null  uint8  \n",
      " 11  fuel_gas                144871 non-null  uint8  \n",
      " 12  fuel_hybrid             144871 non-null  uint8  \n",
      " 13  fuel_other              144871 non-null  uint8  \n",
      " 14  transmission_automatic  144871 non-null  uint8  \n",
      " 15  transmission_manual     144871 non-null  uint8  \n",
      " 16  transmission_other      144871 non-null  uint8  \n",
      " 17  drive_4wd               144871 non-null  uint8  \n",
      " 18  drive_fwd               144871 non-null  uint8  \n",
      " 19  drive_rwd               144871 non-null  uint8  \n",
      "dtypes: float64(2), int64(7), uint8(11)\n",
      "memory usage: 11.5 MB\n"
     ]
    }
   ],
   "source": [
    "# Label encode columns with many unique values.  This is less than ideal but necessary without far more time and computing power.\n",
    "from sklearn.preprocessing import LabelEncoder\n",
    "labeled_cols = ['manufacturer', 'paint_color', 'state', 'type']\n",
    "cars2[labeled_cols] = cars2[labeled_cols].apply(LabelEncoder().fit_transform)\n",
    "cars2.info()"
   ]
  },
  {
   "cell_type": "markdown",
   "metadata": {},
   "source": [
    "# Modeling\n",
    "\n",
    "With your (almost?) final dataset in hand, it is now time to build some models.  Here, you should build a number of different regression models with the price as the target.  In building your models, you should explore different parameters and be sure to cross-validate your findings.\n",
    "\n"
   ]
  },
  {
   "cell_type": "code",
   "execution_count": 40,
   "metadata": {},
   "outputs": [
    {
     "data": {
      "text/plain": [
       "0    15000\n",
       "1    27990\n",
       "2    34590\n",
       "3    35000\n",
       "4    29990\n",
       "Name: price, dtype: int64"
      ]
     },
     "execution_count": 40,
     "metadata": {},
     "output_type": "execute_result"
    }
   ],
   "source": [
    "# Features and Target\n",
    "features = cars2.drop(columns = ['price'])\n",
    "# features = cars[['condition', 'odometer', 'cylinders', 'year']]\n",
    "features.head()\n",
    "price = cars2.price\n",
    "price.head()"
   ]
  },
  {
   "cell_type": "code",
   "execution_count": 41,
   "metadata": {},
   "outputs": [
    {
     "name": "stdout",
     "output_type": "stream",
     "text": [
      "<class 'pandas.core.frame.DataFrame'>\n",
      "RangeIndex: 144871 entries, 0 to 144870\n",
      "Data columns (total 20 columns):\n",
      " #   Column                  Non-Null Count   Dtype  \n",
      "---  ------                  --------------   -----  \n",
      " 0   price                   144871 non-null  int64  \n",
      " 1   year                    144871 non-null  float64\n",
      " 2   manufacturer            144871 non-null  int64  \n",
      " 3   condition               144871 non-null  int64  \n",
      " 4   cylinders               144871 non-null  int64  \n",
      " 5   odometer                144871 non-null  float64\n",
      " 6   type                    144871 non-null  int64  \n",
      " 7   paint_color             144871 non-null  int64  \n",
      " 8   state                   144871 non-null  int64  \n",
      " 9   fuel_diesel             144871 non-null  uint8  \n",
      " 10  fuel_electric           144871 non-null  uint8  \n",
      " 11  fuel_gas                144871 non-null  uint8  \n",
      " 12  fuel_hybrid             144871 non-null  uint8  \n",
      " 13  fuel_other              144871 non-null  uint8  \n",
      " 14  transmission_automatic  144871 non-null  uint8  \n",
      " 15  transmission_manual     144871 non-null  uint8  \n",
      " 16  transmission_other      144871 non-null  uint8  \n",
      " 17  drive_4wd               144871 non-null  uint8  \n",
      " 18  drive_fwd               144871 non-null  uint8  \n",
      " 19  drive_rwd               144871 non-null  uint8  \n",
      "dtypes: float64(2), int64(7), uint8(11)\n",
      "memory usage: 11.5 MB\n"
     ]
    }
   ],
   "source": [
    "cars2.info()"
   ]
  },
  {
   "cell_type": "code",
   "execution_count": null,
   "metadata": {},
   "outputs": [],
   "source": []
  },
  {
   "cell_type": "code",
   "execution_count": 42,
   "metadata": {},
   "outputs": [
    {
     "name": "stdout",
     "output_type": "stream",
     "text": [
      "<class 'pandas.core.frame.DataFrame'>\n",
      "<class 'pandas.core.frame.DataFrame'>\n"
     ]
    }
   ],
   "source": [
    "#scale the data\n",
    "object = StandardScaler()\n",
    "features_scaled = pd.DataFrame(object.fit_transform(features), columns = features.columns)\n",
    "print(type(features))\n",
    "print(type(features_scaled))\n"
   ]
  },
  {
   "cell_type": "markdown",
   "metadata": {},
   "source": [
    "## Linear Regression"
   ]
  },
  {
   "cell_type": "code",
   "execution_count": 43,
   "metadata": {},
   "outputs": [
    {
     "name": "stdout",
     "output_type": "stream",
     "text": [
      "<class 'pandas.core.frame.DataFrame'>\n",
      "RangeIndex: 144871 entries, 0 to 144870\n",
      "Data columns (total 20 columns):\n",
      " #   Column                  Non-Null Count   Dtype  \n",
      "---  ------                  --------------   -----  \n",
      " 0   price                   144871 non-null  int64  \n",
      " 1   year                    144871 non-null  float64\n",
      " 2   manufacturer            144871 non-null  int64  \n",
      " 3   condition               144871 non-null  int64  \n",
      " 4   cylinders               144871 non-null  int64  \n",
      " 5   odometer                144871 non-null  float64\n",
      " 6   type                    144871 non-null  int64  \n",
      " 7   paint_color             144871 non-null  int64  \n",
      " 8   state                   144871 non-null  int64  \n",
      " 9   fuel_diesel             144871 non-null  uint8  \n",
      " 10  fuel_electric           144871 non-null  uint8  \n",
      " 11  fuel_gas                144871 non-null  uint8  \n",
      " 12  fuel_hybrid             144871 non-null  uint8  \n",
      " 13  fuel_other              144871 non-null  uint8  \n",
      " 14  transmission_automatic  144871 non-null  uint8  \n",
      " 15  transmission_manual     144871 non-null  uint8  \n",
      " 16  transmission_other      144871 non-null  uint8  \n",
      " 17  drive_4wd               144871 non-null  uint8  \n",
      " 18  drive_fwd               144871 non-null  uint8  \n",
      " 19  drive_rwd               144871 non-null  uint8  \n",
      "dtypes: float64(2), int64(7), uint8(11)\n",
      "memory usage: 11.5 MB\n"
     ]
    }
   ],
   "source": [
    "cars2.info()"
   ]
  },
  {
   "cell_type": "code",
   "execution_count": 46,
   "metadata": {},
   "outputs": [
    {
     "name": "stdout",
     "output_type": "stream",
     "text": [
      "98884090.80131193\n"
     ]
    }
   ],
   "source": [
    "# Start with a simple Linear Regression Model with just 2 features\n",
    "features2 = cars2[['odometer', 'year']]\n",
    "price = cars2['price']\n",
    "f2 = LinearRegression(fit_intercept = True)\n",
    "f2.fit(features2, price)\n",
    "linreg_mse = mean_squared_error(f2.predict(features2), price)\n",
    "print(linreg_mse)"
   ]
  },
  {
   "cell_type": "markdown",
   "metadata": {},
   "source": [
    "Somewhat shocked by the high MSE value."
   ]
  },
  {
   "cell_type": "code",
   "execution_count": 47,
   "metadata": {
    "scrolled": true
   },
   "outputs": [
    {
     "name": "stdout",
     "output_type": "stream",
     "text": [
      "price                     1.000000\n",
      "year                      0.573961\n",
      "manufacturer             -0.048122\n",
      "condition                -0.058223\n",
      "cylinders                 0.346602\n",
      "odometer                 -0.579189\n",
      "type                      0.044952\n",
      "paint_color               0.042844\n",
      "state                    -0.015047\n",
      "fuel_diesel               0.230155\n",
      "fuel_electric             0.050186\n",
      "fuel_gas                 -0.284035\n",
      "fuel_hybrid              -0.033247\n",
      "fuel_other                0.198862\n",
      "transmission_automatic   -0.345712\n",
      "transmission_manual      -0.083239\n",
      "transmission_other        0.412731\n",
      "drive_4wd                 0.205704\n",
      "drive_fwd                -0.326374\n",
      "drive_rwd                 0.143142\n",
      "dtype: float64\n"
     ]
    }
   ],
   "source": [
    "# checking the correlation between price and other features\n",
    "pd.set_option('display.max_rows', 200)\n",
    "price_corr = cars2.corrwith(cars2['price'])\n",
    "print(price_corr)"
   ]
  },
  {
   "cell_type": "markdown",
   "metadata": {},
   "source": [
    "There appears to be relatively strong correlations between price with they year, the odometer reading, and 4 wheel drive.  Gas vehicles and front wheel drive vehicles seem to have a negative impact on price.  Somewhat surprisingly there does not seem to be much correlation with manufacturer. "
   ]
  },
  {
   "cell_type": "markdown",
   "metadata": {},
   "source": [
    "## Cross Validation"
   ]
  },
  {
   "cell_type": "code",
   "execution_count": 48,
   "metadata": {},
   "outputs": [
    {
     "name": "stdout",
     "output_type": "stream",
     "text": [
      "<class 'pandas.core.frame.DataFrame'>\n"
     ]
    }
   ],
   "source": [
    "# Create testing and training data\n",
    "X = features_scaled\n",
    "y = price\n",
    "X_train, X_test, y_train, y_test = train_test_split(X,y,test_size=0.3,random_state=22)\n",
    "print(type(X))"
   ]
  },
  {
   "cell_type": "code",
   "execution_count": 49,
   "metadata": {},
   "outputs": [
    {
     "name": "stdout",
     "output_type": "stream",
     "text": [
      "Train MSE:  60255011.98\n",
      "Test MSE:  61419623.65\n"
     ]
    }
   ],
   "source": [
    "#Simple Linear Regrssion Model\n",
    "lr = LinearRegression().fit(X_train, y_train)\n",
    "model_1_train_mse = mean_squared_error(y_train, lr.predict(X_train))\n",
    "model_1_test_mse = mean_squared_error(y_test, lr.predict(X_test))\n",
    "print(f'Train MSE: {model_1_train_mse: .2f}')\n",
    "print(f'Test MSE: {model_1_test_mse: .2f}')"
   ]
  },
  {
   "cell_type": "code",
   "execution_count": 50,
   "metadata": {},
   "outputs": [
    {
     "name": "stdout",
     "output_type": "stream",
     "text": [
      "[(5075.979558608593, 'year'), (244.29791293351582, 'manufacturer'), (243.3347003549243, 'condition'), (2983.989351987217, 'cylinders'), (-3929.2108789637646, 'odometer'), (47.485634818951695, 'type'), (-18.28899280466335, 'paint_color'), (-150.78176574600724, 'state'), (-319180374982549.4, 'fuel_diesel'), (-116545164111708.02, 'fuel_electric'), (-527162585576752.94, 'fuel_gas'), (-195329133235736.66, 'fuel_hybrid'), (-386785500662740.94, 'fuel_other'), (-3279248312313101.5, 'transmission_automatic'), (-1589955174398825.2, 'transmission_manual'), (-3067424889242559.0, 'transmission_other'), (2616749157141538.5, 'drive_4wd'), (2600995975591381.5, 'drive_fwd'), (2170026217938586.8, 'drive_rwd')]\n"
     ]
    }
   ],
   "source": [
    "print(list(zip(lr.coef_, X)))"
   ]
  },
  {
   "cell_type": "code",
   "execution_count": 51,
   "metadata": {},
   "outputs": [
    {
     "data": {
      "text/html": [
       "<div>\n",
       "<style scoped>\n",
       "    .dataframe tbody tr th:only-of-type {\n",
       "        vertical-align: middle;\n",
       "    }\n",
       "\n",
       "    .dataframe tbody tr th {\n",
       "        vertical-align: top;\n",
       "    }\n",
       "\n",
       "    .dataframe thead th {\n",
       "        text-align: right;\n",
       "    }\n",
       "</style>\n",
       "<table border=\"1\" class=\"dataframe\">\n",
       "  <thead>\n",
       "    <tr style=\"text-align: right;\">\n",
       "      <th></th>\n",
       "      <th>0</th>\n",
       "      <th>Coefs</th>\n",
       "    </tr>\n",
       "  </thead>\n",
       "  <tbody>\n",
       "    <tr>\n",
       "      <th>13</th>\n",
       "      <td>transmission_automatic</td>\n",
       "      <td>-3.279248e+15</td>\n",
       "    </tr>\n",
       "    <tr>\n",
       "      <th>15</th>\n",
       "      <td>transmission_other</td>\n",
       "      <td>-3.067425e+15</td>\n",
       "    </tr>\n",
       "    <tr>\n",
       "      <th>14</th>\n",
       "      <td>transmission_manual</td>\n",
       "      <td>-1.589955e+15</td>\n",
       "    </tr>\n",
       "    <tr>\n",
       "      <th>10</th>\n",
       "      <td>fuel_gas</td>\n",
       "      <td>-5.271626e+14</td>\n",
       "    </tr>\n",
       "    <tr>\n",
       "      <th>12</th>\n",
       "      <td>fuel_other</td>\n",
       "      <td>-3.867855e+14</td>\n",
       "    </tr>\n",
       "    <tr>\n",
       "      <th>8</th>\n",
       "      <td>fuel_diesel</td>\n",
       "      <td>-3.191804e+14</td>\n",
       "    </tr>\n",
       "    <tr>\n",
       "      <th>11</th>\n",
       "      <td>fuel_hybrid</td>\n",
       "      <td>-1.953291e+14</td>\n",
       "    </tr>\n",
       "    <tr>\n",
       "      <th>9</th>\n",
       "      <td>fuel_electric</td>\n",
       "      <td>-1.165452e+14</td>\n",
       "    </tr>\n",
       "    <tr>\n",
       "      <th>4</th>\n",
       "      <td>odometer</td>\n",
       "      <td>-3.929211e+03</td>\n",
       "    </tr>\n",
       "    <tr>\n",
       "      <th>7</th>\n",
       "      <td>state</td>\n",
       "      <td>-1.507818e+02</td>\n",
       "    </tr>\n",
       "    <tr>\n",
       "      <th>6</th>\n",
       "      <td>paint_color</td>\n",
       "      <td>-1.828899e+01</td>\n",
       "    </tr>\n",
       "    <tr>\n",
       "      <th>5</th>\n",
       "      <td>type</td>\n",
       "      <td>4.748563e+01</td>\n",
       "    </tr>\n",
       "    <tr>\n",
       "      <th>2</th>\n",
       "      <td>condition</td>\n",
       "      <td>2.433347e+02</td>\n",
       "    </tr>\n",
       "    <tr>\n",
       "      <th>1</th>\n",
       "      <td>manufacturer</td>\n",
       "      <td>2.442979e+02</td>\n",
       "    </tr>\n",
       "    <tr>\n",
       "      <th>3</th>\n",
       "      <td>cylinders</td>\n",
       "      <td>2.983989e+03</td>\n",
       "    </tr>\n",
       "    <tr>\n",
       "      <th>0</th>\n",
       "      <td>year</td>\n",
       "      <td>5.075980e+03</td>\n",
       "    </tr>\n",
       "    <tr>\n",
       "      <th>18</th>\n",
       "      <td>drive_rwd</td>\n",
       "      <td>2.170026e+15</td>\n",
       "    </tr>\n",
       "    <tr>\n",
       "      <th>17</th>\n",
       "      <td>drive_fwd</td>\n",
       "      <td>2.600996e+15</td>\n",
       "    </tr>\n",
       "    <tr>\n",
       "      <th>16</th>\n",
       "      <td>drive_4wd</td>\n",
       "      <td>2.616749e+15</td>\n",
       "    </tr>\n",
       "  </tbody>\n",
       "</table>\n",
       "</div>"
      ],
      "text/plain": [
       "                         0         Coefs\n",
       "13  transmission_automatic -3.279248e+15\n",
       "15      transmission_other -3.067425e+15\n",
       "14     transmission_manual -1.589955e+15\n",
       "10                fuel_gas -5.271626e+14\n",
       "12              fuel_other -3.867855e+14\n",
       "8              fuel_diesel -3.191804e+14\n",
       "11             fuel_hybrid -1.953291e+14\n",
       "9            fuel_electric -1.165452e+14\n",
       "4                 odometer -3.929211e+03\n",
       "7                    state -1.507818e+02\n",
       "6              paint_color -1.828899e+01\n",
       "5                     type  4.748563e+01\n",
       "2                condition  2.433347e+02\n",
       "1             manufacturer  2.442979e+02\n",
       "3                cylinders  2.983989e+03\n",
       "0                     year  5.075980e+03\n",
       "18               drive_rwd  2.170026e+15\n",
       "17               drive_fwd  2.600996e+15\n",
       "16               drive_4wd  2.616749e+15"
      ]
     },
     "execution_count": 51,
     "metadata": {},
     "output_type": "execute_result"
    }
   ],
   "source": [
    "# Examining the coefficients\n",
    "coef_table = pd.DataFrame(list(X_train.columns)).copy()\n",
    "coef_table.insert(len(coef_table.columns),\"Coefs\",lr.coef_.transpose())\n",
    "coef_table.sort_values('Coefs')"
   ]
  },
  {
   "cell_type": "markdown",
   "metadata": {},
   "source": [
    "Automatic transmission, 4wd, and electric vehicles are most influential in each of those categories."
   ]
  },
  {
   "cell_type": "code",
   "execution_count": 52,
   "metadata": {},
   "outputs": [
    {
     "name": "stdout",
     "output_type": "stream",
     "text": [
      "transmission_automatic  127145682696618750509056.000 +/- 587296989202378981376.000\n",
      "transmission_other  111290421674644938424320.000 +/- 412367420356559175680.000\n",
      "drive_4wd  81271982462565009588224.000 +/- 407410271306641833984.000\n",
      "drive_fwd  80522005440422643499008.000 +/- 395746594671873753088.000\n",
      "drive_rwd  56034516332976795549696.000 +/- 285330042943163957248.000\n",
      "transmission_manual  29401618848816090316800.000 +/- 137236243498075668480.000\n",
      "fuel_gas  3311264715550646861824.000 +/- 17086692802070177792.000\n",
      "fuel_other  1752063533032816771072.000 +/- 9418207021919367168.000\n",
      "fuel_diesel  1247846162813400383488.000 +/- 5826960167722064896.000\n",
      "fuel_hybrid  463404740183706238976.000 +/- 2322918581940332544.000\n",
      "fuel_electric  152344478387652722688.000 +/- 568653085277027328.000\n",
      "year      0.306 +/- 0.003\n",
      "odometer  0.184 +/- 0.002\n",
      "cylinders  0.106 +/- 0.001\n",
      "manufacturer  0.001 +/- 0.000\n",
      "condition  0.001 +/- 0.000\n",
      "state     0.000 +/- 0.000\n",
      "type      0.000 +/- 0.000\n"
     ]
    }
   ],
   "source": [
    "r = permutation_importance(lr, X_test, y_test , n_repeats=30,random_state=0)\n",
    "for i in r.importances_mean.argsort()[::-1]:\n",
    "    if r.importances_mean[i] - 2 * r.importances_std[i] > 0:\n",
    "        print(f\"{X.columns[i]:<8}\"\n",
    "        f\"  {r.importances_mean[i]:.3f}\"\n",
    "              f\" +/- {r.importances_std[i]:.3f}\")\n"
   ]
  },
  {
   "cell_type": "markdown",
   "metadata": {},
   "source": [
    "## Ridge Regression\n"
   ]
  },
  {
   "cell_type": "code",
   "execution_count": 53,
   "metadata": {},
   "outputs": [
    {
     "name": "stdout",
     "output_type": "stream",
     "text": [
      "The Ridge training MSE is: 60254993.5820269\n",
      "The Ridge testing MSE is: 61419706.45462793\n"
     ]
    }
   ],
   "source": [
    "ridge = Ridge(alpha = 1)\n",
    "ridge.fit(X_train, y_train)\n",
    "ridge_train_mse = mean_squared_error(y_train, ridge.predict(X_train))\n",
    "ridge_test_mse = mean_squared_error(y_test, ridge.predict(X_test))\n",
    "print(f'The Ridge training MSE is: {ridge_train_mse}')\n",
    "print(f'The Ridge testing MSE is: {ridge_test_mse}')\n",
    "# scores = cross_val_score(ridge_pipeline, X_train, y_train, cv = 5, scoring='neg_root_mean_squared_error')\n",
    "# print(scores)\n",
    "# print(f'Mean score of {scores.mean()} with a standard deviation of {scores.std()}')"
   ]
  },
  {
   "cell_type": "code",
   "execution_count": 54,
   "metadata": {},
   "outputs": [
    {
     "data": {
      "text/plain": [
       "{'alpha': 10}"
      ]
     },
     "execution_count": 54,
     "metadata": {},
     "output_type": "execute_result"
    }
   ],
   "source": [
    "# Using GridSearch to find best alpha\n",
    "parameters = {'alpha': [0.1, .5, 1, 5, 10]}\n",
    "gd = GridSearchCV(ridge, parameters)\n",
    "gd.fit(X_train, y_train)\n",
    "gd.best_params_"
   ]
  },
  {
   "cell_type": "code",
   "execution_count": 55,
   "metadata": {
    "scrolled": true
   },
   "outputs": [
    {
     "name": "stderr",
     "output_type": "stream",
     "text": [
      "/Users/leostern/opt/anaconda3/lib/python3.9/site-packages/sklearn/linear_model/_ridge.py:157: LinAlgWarning: Ill-conditioned matrix (rcond=3.48929e-17): result may not be accurate.\n",
      "  return linalg.solve(A, Xy, sym_pos=True, overwrite_a=True).T\n"
     ]
    },
    {
     "name": "stdout",
     "output_type": "stream",
     "text": [
      "MAE: -5332.944\n",
      "Config: {'alpha': 0.99}\n"
     ]
    }
   ],
   "source": [
    "# Try another Ridge model. \n",
    "ridge2 = Ridge()\n",
    "cv = RepeatedKFold(n_splits = 10, n_repeats = 3, random_state =1)\n",
    "grid = dict()\n",
    "grid['alpha'] = arange(0, 1, 0.01)\n",
    "search = GridSearchCV(ridge2, grid, scoring='neg_mean_absolute_error', cv=cv, n_jobs=-1)\n",
    "results = search.fit(X_train, y_train)\n",
    "print('MAE: %.3f' % results.best_score_)\n",
    "print('Config: %s' % results.best_params_)"
   ]
  },
  {
   "cell_type": "markdown",
   "metadata": {},
   "source": [
    "With alpha 0 it seems that we are just using Linear Regression here."
   ]
  },
  {
   "cell_type": "code",
   "execution_count": 56,
   "metadata": {},
   "outputs": [
    {
     "name": "stdout",
     "output_type": "stream",
     "text": [
      "year      0.305 +/- 0.003\n",
      "odometer  0.184 +/- 0.002\n",
      "cylinders  0.105 +/- 0.001\n",
      "fuel_diesel  0.054 +/- 0.001\n",
      "drive_fwd  0.042 +/- 0.001\n",
      "drive_4wd  0.017 +/- 0.001\n",
      "fuel_gas  0.011 +/- 0.000\n",
      "drive_rwd  0.007 +/- 0.000\n",
      "transmission_automatic  0.003 +/- 0.000\n",
      "transmission_other  0.002 +/- 0.000\n",
      "fuel_hybrid  0.002 +/- 0.000\n",
      "transmission_manual  0.001 +/- 0.000\n",
      "manufacturer  0.001 +/- 0.000\n",
      "condition  0.001 +/- 0.000\n",
      "fuel_other  0.001 +/- 0.000\n",
      "state     0.000 +/- 0.000\n",
      "type      0.000 +/- 0.000\n",
      "fuel_electric  0.000 +/- 0.000\n"
     ]
    }
   ],
   "source": [
    "r = permutation_importance(ridge, X_test, y_test , n_repeats=30,random_state=0)\n",
    "for i in r.importances_mean.argsort()[::-1]:\n",
    "    if r.importances_mean[i] - 2 * r.importances_std[i] > 0:\n",
    "        print(f\"{X.columns[i]:<8}\"\n",
    "        f\"  {r.importances_mean[i]:.3f}\"\n",
    "              f\" +/- {r.importances_std[i]:.3f}\")"
   ]
  },
  {
   "cell_type": "code",
   "execution_count": 57,
   "metadata": {},
   "outputs": [],
   "source": [
    "# Year and odometer readings appear to be the features that provide the most insight into price."
   ]
  },
  {
   "cell_type": "code",
   "execution_count": 74,
   "metadata": {},
   "outputs": [
    {
     "data": {
      "text/html": [
       "<div>\n",
       "<style scoped>\n",
       "    .dataframe tbody tr th:only-of-type {\n",
       "        vertical-align: middle;\n",
       "    }\n",
       "\n",
       "    .dataframe tbody tr th {\n",
       "        vertical-align: top;\n",
       "    }\n",
       "\n",
       "    .dataframe thead th {\n",
       "        text-align: right;\n",
       "    }\n",
       "</style>\n",
       "<table border=\"1\" class=\"dataframe\">\n",
       "  <thead>\n",
       "    <tr style=\"text-align: right;\">\n",
       "      <th></th>\n",
       "      <th>0</th>\n",
       "      <th>Coefs</th>\n",
       "    </tr>\n",
       "  </thead>\n",
       "  <tbody>\n",
       "    <tr>\n",
       "      <th>13</th>\n",
       "      <td>transmission_automatic</td>\n",
       "      <td>-3.279248e+15</td>\n",
       "    </tr>\n",
       "    <tr>\n",
       "      <th>15</th>\n",
       "      <td>transmission_other</td>\n",
       "      <td>-3.067425e+15</td>\n",
       "    </tr>\n",
       "    <tr>\n",
       "      <th>14</th>\n",
       "      <td>transmission_manual</td>\n",
       "      <td>-1.589955e+15</td>\n",
       "    </tr>\n",
       "    <tr>\n",
       "      <th>10</th>\n",
       "      <td>fuel_gas</td>\n",
       "      <td>-5.271626e+14</td>\n",
       "    </tr>\n",
       "    <tr>\n",
       "      <th>12</th>\n",
       "      <td>fuel_other</td>\n",
       "      <td>-3.867855e+14</td>\n",
       "    </tr>\n",
       "    <tr>\n",
       "      <th>8</th>\n",
       "      <td>fuel_diesel</td>\n",
       "      <td>-3.191804e+14</td>\n",
       "    </tr>\n",
       "    <tr>\n",
       "      <th>11</th>\n",
       "      <td>fuel_hybrid</td>\n",
       "      <td>-1.953291e+14</td>\n",
       "    </tr>\n",
       "    <tr>\n",
       "      <th>9</th>\n",
       "      <td>fuel_electric</td>\n",
       "      <td>-1.165452e+14</td>\n",
       "    </tr>\n",
       "    <tr>\n",
       "      <th>4</th>\n",
       "      <td>odometer</td>\n",
       "      <td>-3.929211e+03</td>\n",
       "    </tr>\n",
       "    <tr>\n",
       "      <th>7</th>\n",
       "      <td>state</td>\n",
       "      <td>-1.507818e+02</td>\n",
       "    </tr>\n",
       "    <tr>\n",
       "      <th>6</th>\n",
       "      <td>paint_color</td>\n",
       "      <td>-1.828899e+01</td>\n",
       "    </tr>\n",
       "    <tr>\n",
       "      <th>5</th>\n",
       "      <td>type</td>\n",
       "      <td>4.748563e+01</td>\n",
       "    </tr>\n",
       "    <tr>\n",
       "      <th>2</th>\n",
       "      <td>condition</td>\n",
       "      <td>2.433347e+02</td>\n",
       "    </tr>\n",
       "    <tr>\n",
       "      <th>1</th>\n",
       "      <td>manufacturer</td>\n",
       "      <td>2.442979e+02</td>\n",
       "    </tr>\n",
       "    <tr>\n",
       "      <th>3</th>\n",
       "      <td>cylinders</td>\n",
       "      <td>2.983989e+03</td>\n",
       "    </tr>\n",
       "    <tr>\n",
       "      <th>0</th>\n",
       "      <td>year</td>\n",
       "      <td>5.075980e+03</td>\n",
       "    </tr>\n",
       "    <tr>\n",
       "      <th>18</th>\n",
       "      <td>drive_rwd</td>\n",
       "      <td>2.170026e+15</td>\n",
       "    </tr>\n",
       "    <tr>\n",
       "      <th>17</th>\n",
       "      <td>drive_fwd</td>\n",
       "      <td>2.600996e+15</td>\n",
       "    </tr>\n",
       "    <tr>\n",
       "      <th>16</th>\n",
       "      <td>drive_4wd</td>\n",
       "      <td>2.616749e+15</td>\n",
       "    </tr>\n",
       "  </tbody>\n",
       "</table>\n",
       "</div>"
      ],
      "text/plain": [
       "                         0         Coefs\n",
       "13  transmission_automatic -3.279248e+15\n",
       "15      transmission_other -3.067425e+15\n",
       "14     transmission_manual -1.589955e+15\n",
       "10                fuel_gas -5.271626e+14\n",
       "12              fuel_other -3.867855e+14\n",
       "8              fuel_diesel -3.191804e+14\n",
       "11             fuel_hybrid -1.953291e+14\n",
       "9            fuel_electric -1.165452e+14\n",
       "4                 odometer -3.929211e+03\n",
       "7                    state -1.507818e+02\n",
       "6              paint_color -1.828899e+01\n",
       "5                     type  4.748563e+01\n",
       "2                condition  2.433347e+02\n",
       "1             manufacturer  2.442979e+02\n",
       "3                cylinders  2.983989e+03\n",
       "0                     year  5.075980e+03\n",
       "18               drive_rwd  2.170026e+15\n",
       "17               drive_fwd  2.600996e+15\n",
       "16               drive_4wd  2.616749e+15"
      ]
     },
     "execution_count": 74,
     "metadata": {},
     "output_type": "execute_result"
    }
   ],
   "source": [
    "coef_table2 = pd.DataFrame(list(X_train.columns)).copy()\n",
    "coef_table2.insert(len(coef_table2.columns),\"Coefs\",ridge.coef_.transpose())\n",
    "coef_table.sort_values('Coefs')"
   ]
  },
  {
   "cell_type": "markdown",
   "metadata": {},
   "source": [
    "## Feature Selection"
   ]
  },
  {
   "cell_type": "code",
   "execution_count": 65,
   "metadata": {},
   "outputs": [
    {
     "name": "stdout",
     "output_type": "stream",
     "text": [
      "[False False False False False False False False False False False False\n",
      " False  True  True  True False False False]\n",
      "[10 14 13 12 11 16 17 15  5  9  6  7  8  1  1  1  3  2  4]\n"
     ]
    }
   ],
   "source": [
    "rfe = RFE(estimator = LinearRegression(), n_features_to_select = 3)\n",
    "rfe.fit(X_train, y_train)\n",
    "print(rfe.support_)\n",
    "print(rfe.ranking_)"
   ]
  },
  {
   "cell_type": "code",
   "execution_count": 66,
   "metadata": {},
   "outputs": [],
   "source": [
    "## Feature Selection Pipeline\n",
    "selector_pipe = Pipeline([\n",
    "    ('selector', SequentialFeatureSelector(LinearRegression())),\n",
    "    ('model', LinearRegression())\n",
    "])\n",
    "selector_pipe\n",
    "selector_pipe.fit(X_train, y_train)\n",
    "param_dict = {'n_features_to_select' : [3, 5, 10]}"
   ]
  },
  {
   "cell_type": "code",
   "execution_count": 67,
   "metadata": {},
   "outputs": [
    {
     "name": "stdout",
     "output_type": "stream",
     "text": [
      "Train MSE: 60307536.81291765\n",
      "Test MSE: 61485715.97012782\n",
      "Best params: {'selector__n_features_to_select': 10}\n"
     ]
    }
   ],
   "source": [
    "param_dict = {'selector__n_features_to_select': [3,5,10]} \n",
    "selector_grid = GridSearchCV(selector_pipe, param_grid=param_dict)\n",
    "selector_grid.fit(X_train, y_train)\n",
    "train_preds = selector_grid.predict(X_train)\n",
    "test_preds = selector_grid.predict(X_test)\n",
    "selector_train_mse = mean_squared_error(y_train, train_preds)\n",
    "selector_test_mse = mean_squared_error(y_test, test_preds)\n",
    "print(f'Train MSE: {selector_train_mse}')\n",
    "print(f'Test MSE: {selector_test_mse}')\n",
    "print(f'Best params: {selector_grid.best_params_}')"
   ]
  },
  {
   "cell_type": "code",
   "execution_count": 68,
   "metadata": {},
   "outputs": [
    {
     "name": "stdout",
     "output_type": "stream",
     "text": [
      "year      0.309 +/- 0.003\n",
      "odometer  0.179 +/- 0.002\n",
      "drive_fwd  0.107 +/- 0.001\n",
      "cylinders  0.104 +/- 0.001\n",
      "fuel_diesel  0.090 +/- 0.001\n",
      "transmission_automatic  0.012 +/- 0.000\n",
      "fuel_other  0.003 +/- 0.000\n",
      "manufacturer  0.001 +/- 0.000\n",
      "condition  0.001 +/- 0.000\n",
      "paint_color  0.000 +/- 0.000\n",
      "type      0.000 +/- 0.000\n",
      "drive_rwd  0.000 +/- 0.000\n",
      "state     0.000 +/- 0.000\n",
      "fuel_gas  0.000 +/- 0.000\n",
      "fuel_hybrid  0.000 +/- 0.000\n",
      "transmission_manual  0.000 +/- 0.000\n",
      "transmission_other  0.000 +/- 0.000\n",
      "drive_4wd  0.000 +/- 0.000\n",
      "fuel_electric  0.000 +/- 0.000\n"
     ]
    }
   ],
   "source": [
    "r = permutation_importance(selector_pipe, X_test, y_test , n_repeats=30,random_state=0)\n",
    "for i in r.importances_mean.argsort()[::-1]:\n",
    "        print(f\"{X.columns[i]:<8}\"\n",
    "        f\"  {r.importances_mean[i]:.3f}\"\n",
    "              f\" +/- {r.importances_std[i]:.3f}\")"
   ]
  },
  {
   "cell_type": "markdown",
   "metadata": {},
   "source": [
    "### From this model it appears that once again the year and odometer have the most influence on price.\n"
   ]
  },
  {
   "cell_type": "markdown",
   "metadata": {},
   "source": [
    "## Further Modeling\n",
    "A few of the models seem to show that transmission, fuel, and drive are the most important features while another model showed odometer, year, and cylinders were more important. Let's try running Linear Regression models in these 2 cases.\n",
    "\n"
   ]
  },
  {
   "cell_type": "markdown",
   "metadata": {},
   "source": [
    "### Linear Regression with transmission, fuel, and drive"
   ]
  },
  {
   "cell_type": "code",
   "execution_count": 75,
   "metadata": {},
   "outputs": [],
   "source": [
    "features3 = cars2[['transmission_automatic', 'transmission_other', 'transmission_manual', 'fuel_gas', 'fuel_hybrid', 'drive_rwd', 'fuel_electric','fuel_other', 'drive_4wd','drive_fwd','fuel_diesel']]      \n",
    "price2 = cars2.price"
   ]
  },
  {
   "cell_type": "code",
   "execution_count": 76,
   "metadata": {},
   "outputs": [],
   "source": [
    "# Create testing and training data\n",
    "X1 = features3\n",
    "y1 = price2\n",
    "X1_train, X1_test, y1_train, y1_test = train_test_split(X1,y1,test_size=0.3,random_state=22)"
   ]
  },
  {
   "cell_type": "code",
   "execution_count": 77,
   "metadata": {},
   "outputs": [
    {
     "name": "stdout",
     "output_type": "stream",
     "text": [
      "Train MSE:  109713807.25\n",
      "Test MSE:  111029792.72\n"
     ]
    }
   ],
   "source": [
    "tfd_model = LinearRegression().fit(X1_train, y1_train)\n",
    "model_1_train_mse = mean_squared_error(y1_train, tfd_model.predict(X1_train))\n",
    "model_1_test_mse = mean_squared_error(y1_test, tfd_model.predict(X1_test))\n",
    "print(f'Train MSE: {model_1_train_mse: .2f}')\n",
    "print(f'Test MSE: {model_1_test_mse: .2f}')"
   ]
  },
  {
   "cell_type": "markdown",
   "metadata": {},
   "source": [
    "### Linear Regression with Odometer, State, Manufacturer"
   ]
  },
  {
   "cell_type": "code",
   "execution_count": 84,
   "metadata": {},
   "outputs": [],
   "source": [
    "features4 = cars2[['odometer', 'year', 'cylinders']]\n",
    "price3 = cars2.price"
   ]
  },
  {
   "cell_type": "code",
   "execution_count": 85,
   "metadata": {},
   "outputs": [],
   "source": [
    "# Create testing and training data\n",
    "X2 = features4\n",
    "y2 = price3\n",
    "X2_train, X2_test, y2_train, y2_test = train_test_split(X2,y2,test_size=0.3,random_state=22)"
   ]
  },
  {
   "cell_type": "code",
   "execution_count": 86,
   "metadata": {},
   "outputs": [
    {
     "name": "stdout",
     "output_type": "stream",
     "text": [
      "Train MSE:  76317274.62\n",
      "Test MSE:  77320113.39\n"
     ]
    }
   ],
   "source": [
    "osm_model = LinearRegression().fit(X2_train, y2_train)\n",
    "model_1_train_mse = mean_squared_error(y2_train, osm_model.predict(X2_train))\n",
    "model_1_test_mse = mean_squared_error(y2_test, osm_model.predict(X2_test))\n",
    "print(f'Train MSE: {model_1_train_mse: .2f}')\n",
    "print(f'Test MSE: {model_1_test_mse: .2f}')"
   ]
  },
  {
   "cell_type": "markdown",
   "metadata": {},
   "source": [
    "Overall, it seems that the model focused on price, odometer reading, and number of cylinders has the greatest effect on the price of the vehicle."
   ]
  },
  {
   "cell_type": "code",
   "execution_count": null,
   "metadata": {},
   "outputs": [],
   "source": []
  },
  {
   "cell_type": "raw",
   "metadata": {
    "scrolled": true
   },
   "source": [
    "coef_table3 = pd.DataFrame(list(X_train.columns)).copy()\n",
    "coef_table3.insert(len(coef_table3.columns),\"Coefs\",selector_pipe.named_steps['model'].coef_.transpose())\n",
    "coef_table3.sort_values('Coefs')"
   ]
  },
  {
   "cell_type": "markdown",
   "metadata": {},
   "source": [
    "### Evaluation\n",
    "\n",
    "With some modeling accomplished, we aim to reflect on what we identify as a high quality model and what we are able to learn from this.  We should review our business objective and explore how well we can provide meaningful insight on drivers of used car prices.  Your goal now is to distill your findings and determine whether the earlier phases need revisitation and adjustment or if you have information of value to bring back to your client."
   ]
  },
  {
   "cell_type": "markdown",
   "metadata": {},
   "source": [
    "Modeling was a bit more challenging than expected.  Since a few of the columns lended themselves to one hot encoding it created a dataframe with far too many columns than was able to be processed with a home laptop.  With this restriction in mind a dataframe that was limited to 20 columns with several of the columns labeled in a less than ideal manner. The modeling produced inconsistent results as the errors were rather large. Overall, it was apparent that the features that had the most positive  impact on price was the lower odometer readings, newer cars, and more cylinders.   Some other features seemed to also play a part.  While I could certainly recommend that automatic transmissions are recommended and preferred by buyers over other transmissions, I would not feel overly confident providing any other valuable insights with the data collected and analyzed thus far. I would recommend collecting more data that correlated more with price.  As we’ve seen from previous studies it might be possible to collect data on horsepower, fuel efficiency, or other metrics that might be  correlated better with price. Another fault of this whole process is that it’s unclear which types of cars provide the most profit vs. just which cars sell for the most.  This would be essential in making suggestions to used car dealers.  It might be possible that cheaper cars sell more frequently and provide more profit but it is hard to make that conclusion from the current data.\n"
   ]
  },
  {
   "cell_type": "markdown",
   "metadata": {},
   "source": [
    "### Deployment\n",
    "\n",
    "Now that we've settled on our models and findings, it is time to deliver the information to the client.  You should organize your work as a basic report that details your primary findings.  Keep in mind that your audience is a group of used car dealers interested in fine tuning their inventory."
   ]
  },
  {
   "cell_type": "markdown",
   "metadata": {},
   "source": [
    "pon collecting, organizing, and analyzing the data provided in order to give insight into how to maximize profits with the sale of used cars we can provide some insight but would also feel more comfortable collecting more data and providing further analysis. Most essentially, it would be very helpful to know the profits made on previous car sales. This could be found by keeping track of the price paid for the used cars by the dealers.\n",
    "But, with the data currently accessible a few things are clear:\n",
    "Used car buyers pay more for cars that are newer and thus have lower odometer readings.  \n",
    "Used car buyers pay more for cars with automatic transmissions. Be very wary in using inventory with other types of transmissions.\n",
    "Used car buyers will pay more for electric and hybrid vehicles thus it is recommended to have these types of vehicles available for purchase.\n",
    "While other factors certainly contribute to the overall price and customer interest these variables vary wildly and it can not be fully ascertained at this time as to which factors would ultimately be influential in more profits.\n",
    "It is therefore recommended that we continue collecting data on what other features of used cars would contribute to customer interest and thus more profits.  With that data we can likely create better models to predict what the future may hold.\n"
   ]
  },
  {
   "cell_type": "code",
   "execution_count": null,
   "metadata": {},
   "outputs": [],
   "source": []
  },
  {
   "cell_type": "code",
   "execution_count": null,
   "metadata": {},
   "outputs": [],
   "source": []
  }
 ],
 "metadata": {
  "kernelspec": {
   "display_name": "Python 3 (ipykernel)",
   "language": "python",
   "name": "python3"
  },
  "language_info": {
   "codemirror_mode": {
    "name": "ipython",
    "version": 3
   },
   "file_extension": ".py",
   "mimetype": "text/x-python",
   "name": "python",
   "nbconvert_exporter": "python",
   "pygments_lexer": "ipython3",
   "version": "3.9.13"
  },
  "widgets": {
   "application/vnd.jupyter.widget-state+json": {
    "state": {},
    "version_major": 2,
    "version_minor": 0
   }
  }
 },
 "nbformat": 4,
 "nbformat_minor": 4
}
