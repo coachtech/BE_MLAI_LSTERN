{
 "cells": [
  {
   "cell_type": "code",
   "execution_count": 1,
   "id": "1d1938be",
   "metadata": {},
   "outputs": [],
   "source": [
    "from sklearn.preprocessing import OneHotEncoder\n",
    "from seaborn import load_dataset\n",
    "\n",
    "df = load_dataset('penguins')\n",
    "ohe = OneHotEncoder()\n",
    "transformed = ohe.fit_transform(df[['island']])"
   ]
  },
  {
   "cell_type": "code",
   "execution_count": 2,
   "id": "0537033a",
   "metadata": {},
   "outputs": [
    {
     "data": {
      "text/plain": [
       "<344x3 sparse matrix of type '<class 'numpy.float64'>'\n",
       "\twith 344 stored elements in Compressed Sparse Row format>"
      ]
     },
     "execution_count": 2,
     "metadata": {},
     "output_type": "execute_result"
    }
   ],
   "source": [
    "transformed"
   ]
  },
  {
   "cell_type": "code",
   "execution_count": 3,
   "id": "2b1b9664",
   "metadata": {},
   "outputs": [
    {
     "name": "stdout",
     "output_type": "stream",
     "text": [
      "[[0. 0. 1.]\n",
      " [0. 0. 1.]\n",
      " [0. 0. 1.]\n",
      " ...\n",
      " [1. 0. 0.]\n",
      " [1. 0. 0.]\n",
      " [1. 0. 0.]]\n"
     ]
    }
   ],
   "source": [
    "print(transformed.toarray())"
   ]
  },
  {
   "cell_type": "code",
   "execution_count": 4,
   "id": "77c2b9df",
   "metadata": {},
   "outputs": [
    {
     "name": "stdout",
     "output_type": "stream",
     "text": [
      "[array(['Biscoe', 'Dream', 'Torgersen'], dtype=object)]\n"
     ]
    }
   ],
   "source": [
    "print(ohe.categories_)"
   ]
  },
  {
   "cell_type": "code",
   "execution_count": 5,
   "id": "4adfcafa",
   "metadata": {},
   "outputs": [
    {
     "name": "stdout",
     "output_type": "stream",
     "text": [
      "  species     island  bill_length_mm  bill_depth_mm  flipper_length_mm  \\\n",
      "0  Adelie  Torgersen            39.1           18.7              181.0   \n",
      "1  Adelie  Torgersen            39.5           17.4              186.0   \n",
      "2  Adelie  Torgersen            40.3           18.0              195.0   \n",
      "3  Adelie  Torgersen             NaN            NaN                NaN   \n",
      "4  Adelie  Torgersen            36.7           19.3              193.0   \n",
      "\n",
      "   body_mass_g     sex  Biscoe  Dream  Torgersen  \n",
      "0       3750.0    Male     0.0    0.0        1.0  \n",
      "1       3800.0  Female     0.0    0.0        1.0  \n",
      "2       3250.0  Female     0.0    0.0        1.0  \n",
      "3          NaN     NaN     0.0    0.0        1.0  \n",
      "4       3450.0  Female     0.0    0.0        1.0  \n"
     ]
    }
   ],
   "source": [
    "df[ohe.categories_[0]] = transformed.toarray()\n",
    "print(df.head())"
   ]
  },
  {
   "cell_type": "code",
   "execution_count": null,
   "id": "5acee599",
   "metadata": {},
   "outputs": [],
   "source": []
  }
 ],
 "metadata": {
  "kernelspec": {
   "display_name": "Python 3 (ipykernel)",
   "language": "python",
   "name": "python3"
  },
  "language_info": {
   "codemirror_mode": {
    "name": "ipython",
    "version": 3
   },
   "file_extension": ".py",
   "mimetype": "text/x-python",
   "name": "python",
   "nbconvert_exporter": "python",
   "pygments_lexer": "ipython3",
   "version": "3.9.13"
  }
 },
 "nbformat": 4,
 "nbformat_minor": 5
}
